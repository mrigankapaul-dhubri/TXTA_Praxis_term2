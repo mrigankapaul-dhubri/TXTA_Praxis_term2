{
  "nbformat": 4,
  "nbformat_minor": 0,
  "metadata": {
    "colab": {
      "name": "TXTA_Session2.ipynb",
      "provenance": [],
      "collapsed_sections": [],
      "authorship_tag": "ABX9TyPeik5K9B+WHvdO4hbLOJHQ",
      "include_colab_link": true
    },
    "kernelspec": {
      "name": "python3",
      "display_name": "Python 3"
    },
    "language_info": {
      "name": "python"
    }
  },
  "cells": [
    {
      "cell_type": "markdown",
      "metadata": {
        "id": "view-in-github",
        "colab_type": "text"
      },
      "source": [
        "<a href=\"https://colab.research.google.com/github/mrigankapaul-dhubri/TXTA_Praxis_term2/blob/main/TXTA_Session2.ipynb\" target=\"_parent\"><img src=\"https://colab.research.google.com/assets/colab-badge.svg\" alt=\"Open In Colab\"/></a>"
      ]
    },
    {
      "cell_type": "code",
      "execution_count": 1,
      "metadata": {
        "id": "wzaT64O2lkgo"
      },
      "outputs": [],
      "source": [
        "import re"
      ]
    },
    {
      "cell_type": "code",
      "source": [
        "text1 = \"My Name is Subhasis\"; text2 = \"My Name is Subhashish\""
      ],
      "metadata": {
        "id": "HTGBXBV4lqRv"
      },
      "execution_count": 13,
      "outputs": []
    },
    {
      "cell_type": "code",
      "source": [
        "re1 = re.compile(\"a\")"
      ],
      "metadata": {
        "id": "3l6kYevol8qv"
      },
      "execution_count": 14,
      "outputs": []
    },
    {
      "cell_type": "code",
      "source": [
        "re1.search(text1)"
      ],
      "metadata": {
        "colab": {
          "base_uri": "https://localhost:8080/"
        },
        "id": "KiUFXruImnNf",
        "outputId": "9598cdab-7b0c-4482-b734-ac15f32c9a46"
      },
      "execution_count": 15,
      "outputs": [
        {
          "output_type": "execute_result",
          "data": {
            "text/plain": [
              "<re.Match object; span=(4, 5), match='a'>"
            ]
          },
          "metadata": {},
          "execution_count": 15
        }
      ]
    },
    {
      "cell_type": "code",
      "source": [
        "re1.findall(text1)"
      ],
      "metadata": {
        "colab": {
          "base_uri": "https://localhost:8080/"
        },
        "id": "F1FKFhOwnCou",
        "outputId": "21f3f2d8-7d26-482f-b1ba-ec4e042f9f4a"
      },
      "execution_count": 16,
      "outputs": [
        {
          "output_type": "execute_result",
          "data": {
            "text/plain": [
              "['a', 'a']"
            ]
          },
          "metadata": {},
          "execution_count": 16
        }
      ]
    },
    {
      "cell_type": "code",
      "source": [
        "re1.findall(text2)"
      ],
      "metadata": {
        "colab": {
          "base_uri": "https://localhost:8080/"
        },
        "id": "8KTfoauQnbL5",
        "outputId": "381b20fa-395b-4b33-d9ea-032f44a8dd44"
      },
      "execution_count": 17,
      "outputs": [
        {
          "output_type": "execute_result",
          "data": {
            "text/plain": [
              "['a', 'a']"
            ]
          },
          "metadata": {},
          "execution_count": 17
        }
      ]
    },
    {
      "cell_type": "code",
      "source": [
        "for i in re1.finditer(text1):\n",
        "  print(i)"
      ],
      "metadata": {
        "colab": {
          "base_uri": "https://localhost:8080/"
        },
        "id": "NGZBAO0hndvQ",
        "outputId": "fbe11ebd-4932-4b6c-9488-86d46e126f23"
      },
      "execution_count": 18,
      "outputs": [
        {
          "output_type": "stream",
          "name": "stdout",
          "text": [
            "<re.Match object; span=(4, 5), match='a'>\n",
            "<re.Match object; span=(15, 16), match='a'>\n"
          ]
        }
      ]
    },
    {
      "cell_type": "code",
      "source": [
        "for i in re.finditer(\"a\", text1):\n",
        "  print(i)"
      ],
      "metadata": {
        "colab": {
          "base_uri": "https://localhost:8080/"
        },
        "id": "2o69hxYnpTrW",
        "outputId": "48dda33e-c86e-41b8-ecf8-42dfdb7c7d12"
      },
      "execution_count": 19,
      "outputs": [
        {
          "output_type": "stream",
          "name": "stdout",
          "text": [
            "<re.Match object; span=(4, 5), match='a'>\n",
            "<re.Match object; span=(15, 16), match='a'>\n"
          ]
        }
      ]
    },
    {
      "cell_type": "code",
      "source": [
        "for i in re1.finditer(text2):\n",
        "  print(i)"
      ],
      "metadata": {
        "colab": {
          "base_uri": "https://localhost:8080/"
        },
        "id": "rCdDvz5Xnzfg",
        "outputId": "4042b68c-f126-4fbb-c422-bec01caadb0c"
      },
      "execution_count": 20,
      "outputs": [
        {
          "output_type": "stream",
          "name": "stdout",
          "text": [
            "<re.Match object; span=(4, 5), match='a'>\n",
            "<re.Match object; span=(15, 16), match='a'>\n"
          ]
        }
      ]
    },
    {
      "cell_type": "code",
      "source": [
        "text3 = \". \".join([text1, text2])"
      ],
      "metadata": {
        "id": "A9hVIT1tn7q3"
      },
      "execution_count": 21,
      "outputs": []
    },
    {
      "cell_type": "code",
      "source": [
        "text3"
      ],
      "metadata": {
        "colab": {
          "base_uri": "https://localhost:8080/",
          "height": 36
        },
        "id": "_s81Z5Alo3P1",
        "outputId": "4c60832c-fdf8-4b36-85df-6c4911f52d0c"
      },
      "execution_count": 22,
      "outputs": [
        {
          "output_type": "execute_result",
          "data": {
            "application/vnd.google.colaboratory.intrinsic+json": {
              "type": "string"
            },
            "text/plain": [
              "'My Name is Subhasis. My Name is Subhashish'"
            ]
          },
          "metadata": {},
          "execution_count": 22
        }
      ]
    },
    {
      "cell_type": "code",
      "source": [
        "re2 = re.compile(\"[A-Za-z]+s[h]?is[h]?\")  # word ending with either sis or sish or shis or shish"
      ],
      "metadata": {
        "id": "zrnKUZF9o4F1"
      },
      "execution_count": 23,
      "outputs": []
    },
    {
      "cell_type": "code",
      "source": [
        "for i in re2.finditer(text3):\n",
        "  print(i)"
      ],
      "metadata": {
        "colab": {
          "base_uri": "https://localhost:8080/"
        },
        "id": "rIQPGKBTrm8U",
        "outputId": "8915bf7f-9f43-46a5-9290-72db19aad4b5"
      },
      "execution_count": 24,
      "outputs": [
        {
          "output_type": "stream",
          "name": "stdout",
          "text": [
            "<re.Match object; span=(11, 19), match='Subhasis'>\n",
            "<re.Match object; span=(32, 42), match='Subhashish'>\n"
          ]
        }
      ]
    },
    {
      "cell_type": "code",
      "source": [
        "re2.search(text3)"
      ],
      "metadata": {
        "colab": {
          "base_uri": "https://localhost:8080/"
        },
        "id": "W3OFCrS1rs8W",
        "outputId": "2d7317be-0cbd-48b7-ed71-8a79a083fc38"
      },
      "execution_count": 25,
      "outputs": [
        {
          "output_type": "execute_result",
          "data": {
            "text/plain": [
              "<re.Match object; span=(11, 19), match='Subhasis'>"
            ]
          },
          "metadata": {},
          "execution_count": 25
        }
      ]
    },
    {
      "cell_type": "code",
      "source": [
        "re2.findall(text3)"
      ],
      "metadata": {
        "colab": {
          "base_uri": "https://localhost:8080/"
        },
        "id": "slq8eJ9NtTT6",
        "outputId": "740e984f-f694-4e2f-cb2d-b653ce5948dc"
      },
      "execution_count": 26,
      "outputs": [
        {
          "output_type": "execute_result",
          "data": {
            "text/plain": [
              "['Subhasis', 'Subhashish']"
            ]
          },
          "metadata": {},
          "execution_count": 26
        }
      ]
    },
    {
      "cell_type": "code",
      "source": [
        "re2.findall(text1)"
      ],
      "metadata": {
        "colab": {
          "base_uri": "https://localhost:8080/"
        },
        "id": "YR318w8jtW1u",
        "outputId": "815618ba-def4-4c0c-8e0b-f15f1cc28da1"
      },
      "execution_count": 27,
      "outputs": [
        {
          "output_type": "execute_result",
          "data": {
            "text/plain": [
              "['Subhasis']"
            ]
          },
          "metadata": {},
          "execution_count": 27
        }
      ]
    },
    {
      "cell_type": "code",
      "source": [
        "text4 = \"Subhasish\"\n",
        "text5 = \". \".join([text4, text3])\n",
        "text5"
      ],
      "metadata": {
        "colab": {
          "base_uri": "https://localhost:8080/",
          "height": 36
        },
        "id": "JTCUROBDtc9j",
        "outputId": "bda26d5f-fda6-485e-de69-d8ba2298036e"
      },
      "execution_count": 28,
      "outputs": [
        {
          "output_type": "execute_result",
          "data": {
            "application/vnd.google.colaboratory.intrinsic+json": {
              "type": "string"
            },
            "text/plain": [
              "'Subhasish. My Name is Subhasis. My Name is Subhashish'"
            ]
          },
          "metadata": {},
          "execution_count": 28
        }
      ]
    },
    {
      "cell_type": "code",
      "source": [
        "re2.findall(text5)"
      ],
      "metadata": {
        "colab": {
          "base_uri": "https://localhost:8080/"
        },
        "id": "StMl0bSrt4d5",
        "outputId": "3be27bd9-dd05-4964-950c-7d887f71c801"
      },
      "execution_count": 29,
      "outputs": [
        {
          "output_type": "execute_result",
          "data": {
            "text/plain": [
              "['Subhasish', 'Subhasis', 'Subhashish']"
            ]
          },
          "metadata": {},
          "execution_count": 29
        }
      ]
    },
    {
      "cell_type": "code",
      "source": [
        "text6 = \"There are three friends name Jay, Vijaay and Sanjeev\""
      ],
      "metadata": {
        "id": "bFfdtyG4t729"
      },
      "execution_count": 30,
      "outputs": []
    },
    {
      "cell_type": "code",
      "source": [
        "re3 = re.compile(\"[A-Za-z]+[j]?[J]?a[a]?y\")"
      ],
      "metadata": {
        "id": "2ow28cUfuiTH"
      },
      "execution_count": 41,
      "outputs": []
    },
    {
      "cell_type": "code",
      "source": [
        "re3.findall(text6)"
      ],
      "metadata": {
        "colab": {
          "base_uri": "https://localhost:8080/"
        },
        "id": "0bxXekZbvd8y",
        "outputId": "a7ba9ce5-ba54-46aa-a2d4-661bd0610075"
      },
      "execution_count": 42,
      "outputs": [
        {
          "output_type": "execute_result",
          "data": {
            "text/plain": [
              "['Jay', 'Vijaay']"
            ]
          },
          "metadata": {},
          "execution_count": 42
        }
      ]
    },
    {
      "cell_type": "code",
      "source": [
        "re4 = re.compile(\"[A-Za-z]*[J,j][a]+y\")"
      ],
      "metadata": {
        "id": "gCmq0yXqvg7y"
      },
      "execution_count": 37,
      "outputs": []
    },
    {
      "cell_type": "code",
      "source": [
        "re4.findall(text6)"
      ],
      "metadata": {
        "colab": {
          "base_uri": "https://localhost:8080/"
        },
        "id": "d1NkSb39xUAQ",
        "outputId": "42048df3-3e6f-45a5-dd5a-826971ce8aea"
      },
      "execution_count": 38,
      "outputs": [
        {
          "output_type": "execute_result",
          "data": {
            "text/plain": [
              "['Jay', 'Vijaay']"
            ]
          },
          "metadata": {},
          "execution_count": 38
        }
      ]
    },
    {
      "cell_type": "code",
      "source": [
        "text7 = \"hdagsdhgasf566456132jhgiureoj\"\n",
        "re.findall(\"[A-Za-z]+|[0-9]+\", text7)"
      ],
      "metadata": {
        "colab": {
          "base_uri": "https://localhost:8080/"
        },
        "id": "b-t78wPUxXAH",
        "outputId": "4d5698d1-ce52-4c49-94c9-47d764396080"
      },
      "execution_count": 43,
      "outputs": [
        {
          "output_type": "execute_result",
          "data": {
            "text/plain": [
              "['hdagsdhgasf', '566456132', 'jhgiureoj']"
            ]
          },
          "metadata": {},
          "execution_count": 43
        }
      ]
    },
    {
      "cell_type": "code",
      "source": [
        "text8 = \"hfeoihMNfd718/05/202165456sds\"\n",
        "re5 = re.compile(\"[0-9]{2}/[0-9]{2}/[0-9]{4}\")\n",
        "re5.findall(text8)"
      ],
      "metadata": {
        "colab": {
          "base_uri": "https://localhost:8080/"
        },
        "id": "-iqfXr6l0Fht",
        "outputId": "5b12d0cd-bb1d-4e24-c086-4ec26a1fa608"
      },
      "execution_count": 44,
      "outputs": [
        {
          "output_type": "execute_result",
          "data": {
            "text/plain": [
              "['18/05/2021']"
            ]
          },
          "metadata": {},
          "execution_count": 44
        }
      ]
    },
    {
      "cell_type": "code",
      "source": [
        "text9 = \"The mobile numbers are +919707874753, 09435128660, (12345)-(67890), 1234567890\""
      ],
      "metadata": {
        "id": "0hepJgYW33ig"
      },
      "execution_count": 45,
      "outputs": []
    },
    {
      "cell_type": "code",
      "source": [
        "re6 = re.compile(\"[+]?[0-9]{10,12}|\\([0-9]{5,7}\\)-\\([0-9]{5,7}\\)\")"
      ],
      "metadata": {
        "id": "L3XJkja-8ILJ"
      },
      "execution_count": 46,
      "outputs": []
    },
    {
      "cell_type": "code",
      "source": [
        "re6.findall(text9)"
      ],
      "metadata": {
        "colab": {
          "base_uri": "https://localhost:8080/"
        },
        "id": "-UZ982189GD8",
        "outputId": "256e8cc7-c36b-450b-d3f9-8c233c873f51"
      },
      "execution_count": 47,
      "outputs": [
        {
          "output_type": "execute_result",
          "data": {
            "text/plain": [
              "['+919707874753', '09435128660', '(12345)-(67890)', '1234567890']"
            ]
          },
          "metadata": {},
          "execution_count": 47
        }
      ]
    },
    {
      "cell_type": "code",
      "source": [
        "for i in re6.finditer(text9):\n",
        "  print(i)"
      ],
      "metadata": {
        "colab": {
          "base_uri": "https://localhost:8080/"
        },
        "id": "cDl7INTD9JyZ",
        "outputId": "a7b04d03-10b6-4726-e05a-d6a305212f48"
      },
      "execution_count": 48,
      "outputs": [
        {
          "output_type": "stream",
          "name": "stdout",
          "text": [
            "<re.Match object; span=(23, 36), match='+919707874753'>\n",
            "<re.Match object; span=(38, 49), match='09435128660'>\n",
            "<re.Match object; span=(51, 66), match='(12345)-(67890)'>\n",
            "<re.Match object; span=(68, 78), match='1234567890'>\n"
          ]
        }
      ]
    },
    {
      "cell_type": "code",
      "source": [
        "text10 = \"MilkXXX12/01/202278.5\"\n",
        "re.findall(\"[A-Za-z]+(?=[A-Z]{3})\",text10)[0] #Look ahead assertion"
      ],
      "metadata": {
        "colab": {
          "base_uri": "https://localhost:8080/",
          "height": 36
        },
        "id": "8M6aZDzA9Rnt",
        "outputId": "3023c9f9-f593-4a0b-dbcc-a9fca76da893"
      },
      "execution_count": 50,
      "outputs": [
        {
          "output_type": "execute_result",
          "data": {
            "application/vnd.google.colaboratory.intrinsic+json": {
              "type": "string"
            },
            "text/plain": [
              "'Milk'"
            ]
          },
          "metadata": {},
          "execution_count": 50
        }
      ]
    },
    {
      "cell_type": "code",
      "source": [
        "re.findall(\"(?<=[0-9]{2}/[0-9]{2}/[0-9]{4})[0-9.]{0,10}\",text10) # Look behind assertion"
      ],
      "metadata": {
        "colab": {
          "base_uri": "https://localhost:8080/"
        },
        "id": "-VntrhbzCL2W",
        "outputId": "30cd747e-a698-434f-d9e0-965668768702"
      },
      "execution_count": 58,
      "outputs": [
        {
          "output_type": "execute_result",
          "data": {
            "text/plain": [
              "['78.5']"
            ]
          },
          "metadata": {},
          "execution_count": 58
        }
      ]
    },
    {
      "cell_type": "code",
      "source": [
        "re.findall(\"(?<=[0-9]{2}/[0-9]{2}/[0-9]{4})[0-9.]*\",text10)"
      ],
      "metadata": {
        "colab": {
          "base_uri": "https://localhost:8080/"
        },
        "id": "fP0fNX45ESIo",
        "outputId": "b6760d8b-a2c5-4e90-ed4e-2748d298ccdf"
      },
      "execution_count": 60,
      "outputs": [
        {
          "output_type": "execute_result",
          "data": {
            "text/plain": [
              "['78.5']"
            ]
          },
          "metadata": {},
          "execution_count": 60
        }
      ]
    },
    {
      "cell_type": "code",
      "source": [
        ""
      ],
      "metadata": {
        "id": "ZP7bOkRTFMjn"
      },
      "execution_count": null,
      "outputs": []
    }
  ]
}