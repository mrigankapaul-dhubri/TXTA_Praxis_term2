{
  "nbformat": 4,
  "nbformat_minor": 0,
  "metadata": {
    "colab": {
      "name": "Final_Assignment_Mriganka.ipynb",
      "provenance": [],
      "collapsed_sections": [
        "MsdQ00okDcMT"
      ],
      "toc_visible": true
    },
    "kernelspec": {
      "name": "python3",
      "display_name": "Python 3"
    },
    "language_info": {
      "name": "python"
    }
  },
  "cells": [
    {
      "cell_type": "code",
      "execution_count": 1,
      "metadata": {
        "colab": {
          "resources": {
            "http://localhost:8080/nbextensions/google.colab/files.js": {
              "data": "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",
              "ok": true,
              "headers": [
                [
                  "content-type",
                  "application/javascript"
                ]
              ],
              "status": 200,
              "status_text": ""
            }
          },
          "base_uri": "https://localhost:8080/",
          "height": 74
        },
        "id": "Z8UvJfIxPUY-",
        "outputId": "ff20c109-13af-4985-e391-57514249ecb8"
      },
      "outputs": [
        {
          "output_type": "display_data",
          "data": {
            "text/plain": [
              "<IPython.core.display.HTML object>"
            ],
            "text/html": [
              "\n",
              "     <input type=\"file\" id=\"files-e2eb5a94-67cc-446b-9696-e3e9622236a6\" name=\"files[]\" multiple disabled\n",
              "        style=\"border:none\" />\n",
              "     <output id=\"result-e2eb5a94-67cc-446b-9696-e3e9622236a6\">\n",
              "      Upload widget is only available when the cell has been executed in the\n",
              "      current browser session. Please rerun this cell to enable.\n",
              "      </output>\n",
              "      <script src=\"/nbextensions/google.colab/files.js\"></script> "
            ]
          },
          "metadata": {}
        },
        {
          "output_type": "stream",
          "name": "stdout",
          "text": [
            "Saving Final_Assignment_Data.xlsx to Final_Assignment_Data.xlsx\n"
          ]
        }
      ],
      "source": [
        "from google.colab import files\n",
        "uploaded = files.upload()"
      ]
    },
    {
      "cell_type": "code",
      "source": [
        "#importing libraries\n",
        "import pandas as pd\n",
        "import numpy as np\n",
        "\n",
        "import matplotlib.pyplot as plt\n",
        "%matplotlib inline\n",
        "import seaborn as sns\n",
        "import plotly.express as px\n",
        "\n",
        "#for linear regression\n",
        "from sklearn.linear_model import LinearRegression\n",
        "\n",
        "\n",
        "import statsmodels.api as sm\n",
        "from sklearn import metrics\n",
        "\n",
        "#for scaling\n",
        "from sklearn.preprocessing import MinMaxScaler\n",
        "scaler = MinMaxScaler(feature_range = (0,1))"
      ],
      "metadata": {
        "id": "Q9QeIFoAQXDs"
      },
      "execution_count": 177,
      "outputs": []
    },
    {
      "cell_type": "code",
      "source": [
        "#reading the excel file\n",
        "df = pd.read_excel('Final_Assignment_Data.xlsx', sheet_name = 'Sheet1')"
      ],
      "metadata": {
        "id": "mz1wVxz0QwTF"
      },
      "execution_count": 3,
      "outputs": []
    },
    {
      "cell_type": "markdown",
      "source": [
        "# Data Understanding"
      ],
      "metadata": {
        "id": "-Mvj8-07ZOjA"
      }
    },
    {
      "cell_type": "code",
      "source": [
        "#reading the first 5 rows of the data\n",
        "df.head() "
      ],
      "metadata": {
        "colab": {
          "base_uri": "https://localhost:8080/",
          "height": 392
        },
        "id": "GoA60MY1RFjM",
        "outputId": "6a1afc50-dcc0-4990-f660-4ac36c88c9ee"
      },
      "execution_count": 4,
      "outputs": [
        {
          "output_type": "execute_result",
          "data": {
            "text/plain": [
              "   GallonsPer100Miles  GallonsPer100MilesTo1981   MPG  Cylinders  \\\n",
              "0            5.555556                  5.555556  18.0          8   \n",
              "1            6.666667                  6.666667  15.0          8   \n",
              "2            5.555556                  5.555556  18.0          8   \n",
              "3            6.250000                  6.250000  16.0          8   \n",
              "4            5.882353                  5.882353  17.0          8   \n",
              "\n",
              "   Displacement100ci  Horsepower100  Weight1000lb  Seconds0to60  Year  \\\n",
              "0               3.07           1.30         3.504          12.0    70   \n",
              "1               3.50           1.65         3.693          11.5    70   \n",
              "2               3.18           1.50         3.436          11.0    70   \n",
              "3               3.04           1.50         3.433          12.0    70   \n",
              "4               3.02           1.40         3.449          10.5    70   \n",
              "\n",
              "   Year70To81  Origin  Origin.Eq.1  Origin.Eq.2  Origin.Eq.3  \\\n",
              "0           1       1            1            0            0   \n",
              "1           1       1            1            0            0   \n",
              "2           1       1            1            0            0   \n",
              "3           1       1            1            0            0   \n",
              "4           1       1            1            0            0   \n",
              "\n",
              "                        Name  \n",
              "0  chevrolet chevelle malibu  \n",
              "1          buick skylark 320  \n",
              "2         plymouth satellite  \n",
              "3              amc rebel sst  \n",
              "4                ford torino  "
            ],
            "text/html": [
              "\n",
              "  <div id=\"df-4b4e37a0-db3a-4e13-91ae-1dfe0f6ca68e\">\n",
              "    <div class=\"colab-df-container\">\n",
              "      <div>\n",
              "<style scoped>\n",
              "    .dataframe tbody tr th:only-of-type {\n",
              "        vertical-align: middle;\n",
              "    }\n",
              "\n",
              "    .dataframe tbody tr th {\n",
              "        vertical-align: top;\n",
              "    }\n",
              "\n",
              "    .dataframe thead th {\n",
              "        text-align: right;\n",
              "    }\n",
              "</style>\n",
              "<table border=\"1\" class=\"dataframe\">\n",
              "  <thead>\n",
              "    <tr style=\"text-align: right;\">\n",
              "      <th></th>\n",
              "      <th>GallonsPer100Miles</th>\n",
              "      <th>GallonsPer100MilesTo1981</th>\n",
              "      <th>MPG</th>\n",
              "      <th>Cylinders</th>\n",
              "      <th>Displacement100ci</th>\n",
              "      <th>Horsepower100</th>\n",
              "      <th>Weight1000lb</th>\n",
              "      <th>Seconds0to60</th>\n",
              "      <th>Year</th>\n",
              "      <th>Year70To81</th>\n",
              "      <th>Origin</th>\n",
              "      <th>Origin.Eq.1</th>\n",
              "      <th>Origin.Eq.2</th>\n",
              "      <th>Origin.Eq.3</th>\n",
              "      <th>Name</th>\n",
              "    </tr>\n",
              "  </thead>\n",
              "  <tbody>\n",
              "    <tr>\n",
              "      <th>0</th>\n",
              "      <td>5.555556</td>\n",
              "      <td>5.555556</td>\n",
              "      <td>18.0</td>\n",
              "      <td>8</td>\n",
              "      <td>3.07</td>\n",
              "      <td>1.30</td>\n",
              "      <td>3.504</td>\n",
              "      <td>12.0</td>\n",
              "      <td>70</td>\n",
              "      <td>1</td>\n",
              "      <td>1</td>\n",
              "      <td>1</td>\n",
              "      <td>0</td>\n",
              "      <td>0</td>\n",
              "      <td>chevrolet chevelle malibu</td>\n",
              "    </tr>\n",
              "    <tr>\n",
              "      <th>1</th>\n",
              "      <td>6.666667</td>\n",
              "      <td>6.666667</td>\n",
              "      <td>15.0</td>\n",
              "      <td>8</td>\n",
              "      <td>3.50</td>\n",
              "      <td>1.65</td>\n",
              "      <td>3.693</td>\n",
              "      <td>11.5</td>\n",
              "      <td>70</td>\n",
              "      <td>1</td>\n",
              "      <td>1</td>\n",
              "      <td>1</td>\n",
              "      <td>0</td>\n",
              "      <td>0</td>\n",
              "      <td>buick skylark 320</td>\n",
              "    </tr>\n",
              "    <tr>\n",
              "      <th>2</th>\n",
              "      <td>5.555556</td>\n",
              "      <td>5.555556</td>\n",
              "      <td>18.0</td>\n",
              "      <td>8</td>\n",
              "      <td>3.18</td>\n",
              "      <td>1.50</td>\n",
              "      <td>3.436</td>\n",
              "      <td>11.0</td>\n",
              "      <td>70</td>\n",
              "      <td>1</td>\n",
              "      <td>1</td>\n",
              "      <td>1</td>\n",
              "      <td>0</td>\n",
              "      <td>0</td>\n",
              "      <td>plymouth satellite</td>\n",
              "    </tr>\n",
              "    <tr>\n",
              "      <th>3</th>\n",
              "      <td>6.250000</td>\n",
              "      <td>6.250000</td>\n",
              "      <td>16.0</td>\n",
              "      <td>8</td>\n",
              "      <td>3.04</td>\n",
              "      <td>1.50</td>\n",
              "      <td>3.433</td>\n",
              "      <td>12.0</td>\n",
              "      <td>70</td>\n",
              "      <td>1</td>\n",
              "      <td>1</td>\n",
              "      <td>1</td>\n",
              "      <td>0</td>\n",
              "      <td>0</td>\n",
              "      <td>amc rebel sst</td>\n",
              "    </tr>\n",
              "    <tr>\n",
              "      <th>4</th>\n",
              "      <td>5.882353</td>\n",
              "      <td>5.882353</td>\n",
              "      <td>17.0</td>\n",
              "      <td>8</td>\n",
              "      <td>3.02</td>\n",
              "      <td>1.40</td>\n",
              "      <td>3.449</td>\n",
              "      <td>10.5</td>\n",
              "      <td>70</td>\n",
              "      <td>1</td>\n",
              "      <td>1</td>\n",
              "      <td>1</td>\n",
              "      <td>0</td>\n",
              "      <td>0</td>\n",
              "      <td>ford torino</td>\n",
              "    </tr>\n",
              "  </tbody>\n",
              "</table>\n",
              "</div>\n",
              "      <button class=\"colab-df-convert\" onclick=\"convertToInteractive('df-4b4e37a0-db3a-4e13-91ae-1dfe0f6ca68e')\"\n",
              "              title=\"Convert this dataframe to an interactive table.\"\n",
              "              style=\"display:none;\">\n",
              "        \n",
              "  <svg xmlns=\"http://www.w3.org/2000/svg\" height=\"24px\"viewBox=\"0 0 24 24\"\n",
              "       width=\"24px\">\n",
              "    <path d=\"M0 0h24v24H0V0z\" fill=\"none\"/>\n",
              "    <path d=\"M18.56 5.44l.94 2.06.94-2.06 2.06-.94-2.06-.94-.94-2.06-.94 2.06-2.06.94zm-11 1L8.5 8.5l.94-2.06 2.06-.94-2.06-.94L8.5 2.5l-.94 2.06-2.06.94zm10 10l.94 2.06.94-2.06 2.06-.94-2.06-.94-.94-2.06-.94 2.06-2.06.94z\"/><path d=\"M17.41 7.96l-1.37-1.37c-.4-.4-.92-.59-1.43-.59-.52 0-1.04.2-1.43.59L10.3 9.45l-7.72 7.72c-.78.78-.78 2.05 0 2.83L4 21.41c.39.39.9.59 1.41.59.51 0 1.02-.2 1.41-.59l7.78-7.78 2.81-2.81c.8-.78.8-2.07 0-2.86zM5.41 20L4 18.59l7.72-7.72 1.47 1.35L5.41 20z\"/>\n",
              "  </svg>\n",
              "      </button>\n",
              "      \n",
              "  <style>\n",
              "    .colab-df-container {\n",
              "      display:flex;\n",
              "      flex-wrap:wrap;\n",
              "      gap: 12px;\n",
              "    }\n",
              "\n",
              "    .colab-df-convert {\n",
              "      background-color: #E8F0FE;\n",
              "      border: none;\n",
              "      border-radius: 50%;\n",
              "      cursor: pointer;\n",
              "      display: none;\n",
              "      fill: #1967D2;\n",
              "      height: 32px;\n",
              "      padding: 0 0 0 0;\n",
              "      width: 32px;\n",
              "    }\n",
              "\n",
              "    .colab-df-convert:hover {\n",
              "      background-color: #E2EBFA;\n",
              "      box-shadow: 0px 1px 2px rgba(60, 64, 67, 0.3), 0px 1px 3px 1px rgba(60, 64, 67, 0.15);\n",
              "      fill: #174EA6;\n",
              "    }\n",
              "\n",
              "    [theme=dark] .colab-df-convert {\n",
              "      background-color: #3B4455;\n",
              "      fill: #D2E3FC;\n",
              "    }\n",
              "\n",
              "    [theme=dark] .colab-df-convert:hover {\n",
              "      background-color: #434B5C;\n",
              "      box-shadow: 0px 1px 3px 1px rgba(0, 0, 0, 0.15);\n",
              "      filter: drop-shadow(0px 1px 2px rgba(0, 0, 0, 0.3));\n",
              "      fill: #FFFFFF;\n",
              "    }\n",
              "  </style>\n",
              "\n",
              "      <script>\n",
              "        const buttonEl =\n",
              "          document.querySelector('#df-4b4e37a0-db3a-4e13-91ae-1dfe0f6ca68e button.colab-df-convert');\n",
              "        buttonEl.style.display =\n",
              "          google.colab.kernel.accessAllowed ? 'block' : 'none';\n",
              "\n",
              "        async function convertToInteractive(key) {\n",
              "          const element = document.querySelector('#df-4b4e37a0-db3a-4e13-91ae-1dfe0f6ca68e');\n",
              "          const dataTable =\n",
              "            await google.colab.kernel.invokeFunction('convertToInteractive',\n",
              "                                                     [key], {});\n",
              "          if (!dataTable) return;\n",
              "\n",
              "          const docLinkHtml = 'Like what you see? Visit the ' +\n",
              "            '<a target=\"_blank\" href=https://colab.research.google.com/notebooks/data_table.ipynb>data table notebook</a>'\n",
              "            + ' to learn more about interactive tables.';\n",
              "          element.innerHTML = '';\n",
              "          dataTable['output_type'] = 'display_data';\n",
              "          await google.colab.output.renderOutput(dataTable, element);\n",
              "          const docLink = document.createElement('div');\n",
              "          docLink.innerHTML = docLinkHtml;\n",
              "          element.appendChild(docLink);\n",
              "        }\n",
              "      </script>\n",
              "    </div>\n",
              "  </div>\n",
              "  "
            ]
          },
          "metadata": {},
          "execution_count": 4
        }
      ]
    },
    {
      "cell_type": "code",
      "source": [
        "#reading the last 5 rows\n",
        "df.tail() "
      ],
      "metadata": {
        "colab": {
          "base_uri": "https://localhost:8080/",
          "height": 374
        },
        "id": "nsoNfVdnRjQD",
        "outputId": "7ce0bd59-15cd-4ea8-adee-84014a6e1993"
      },
      "execution_count": 5,
      "outputs": [
        {
          "output_type": "execute_result",
          "data": {
            "text/plain": [
              "     GallonsPer100Miles  GallonsPer100MilesTo1981   MPG  Cylinders  \\\n",
              "387            3.703704                       NaN  27.0          4   \n",
              "388            2.272727                       NaN  44.0          4   \n",
              "389            3.125000                       NaN  32.0          4   \n",
              "390            3.571429                       NaN  28.0          4   \n",
              "391            3.225806                       NaN  31.0          4   \n",
              "\n",
              "     Displacement100ci  Horsepower100  Weight1000lb  Seconds0to60  Year  \\\n",
              "387               1.40           0.86         2.790          15.6    82   \n",
              "388               0.97           0.52         2.130          24.6    82   \n",
              "389               1.35           0.84         2.295          11.6    82   \n",
              "390               1.20           0.79         2.625          18.6    82   \n",
              "391               1.19           0.82         2.720          19.4    82   \n",
              "\n",
              "     Year70To81  Origin  Origin.Eq.1  Origin.Eq.2  Origin.Eq.3  \\\n",
              "387           0       1            1            0            0   \n",
              "388           0       2            0            1            0   \n",
              "389           0       1            1            0            0   \n",
              "390           0       1            1            0            0   \n",
              "391           0       1            1            0            0   \n",
              "\n",
              "                Name  \n",
              "387  ford mustang gl  \n",
              "388        vw pickup  \n",
              "389    dodge rampage  \n",
              "390      ford ranger  \n",
              "391       chevy s-10  "
            ],
            "text/html": [
              "\n",
              "  <div id=\"df-42825da7-7ad0-4f92-b348-0bf8a9e1fc3f\">\n",
              "    <div class=\"colab-df-container\">\n",
              "      <div>\n",
              "<style scoped>\n",
              "    .dataframe tbody tr th:only-of-type {\n",
              "        vertical-align: middle;\n",
              "    }\n",
              "\n",
              "    .dataframe tbody tr th {\n",
              "        vertical-align: top;\n",
              "    }\n",
              "\n",
              "    .dataframe thead th {\n",
              "        text-align: right;\n",
              "    }\n",
              "</style>\n",
              "<table border=\"1\" class=\"dataframe\">\n",
              "  <thead>\n",
              "    <tr style=\"text-align: right;\">\n",
              "      <th></th>\n",
              "      <th>GallonsPer100Miles</th>\n",
              "      <th>GallonsPer100MilesTo1981</th>\n",
              "      <th>MPG</th>\n",
              "      <th>Cylinders</th>\n",
              "      <th>Displacement100ci</th>\n",
              "      <th>Horsepower100</th>\n",
              "      <th>Weight1000lb</th>\n",
              "      <th>Seconds0to60</th>\n",
              "      <th>Year</th>\n",
              "      <th>Year70To81</th>\n",
              "      <th>Origin</th>\n",
              "      <th>Origin.Eq.1</th>\n",
              "      <th>Origin.Eq.2</th>\n",
              "      <th>Origin.Eq.3</th>\n",
              "      <th>Name</th>\n",
              "    </tr>\n",
              "  </thead>\n",
              "  <tbody>\n",
              "    <tr>\n",
              "      <th>387</th>\n",
              "      <td>3.703704</td>\n",
              "      <td>NaN</td>\n",
              "      <td>27.0</td>\n",
              "      <td>4</td>\n",
              "      <td>1.40</td>\n",
              "      <td>0.86</td>\n",
              "      <td>2.790</td>\n",
              "      <td>15.6</td>\n",
              "      <td>82</td>\n",
              "      <td>0</td>\n",
              "      <td>1</td>\n",
              "      <td>1</td>\n",
              "      <td>0</td>\n",
              "      <td>0</td>\n",
              "      <td>ford mustang gl</td>\n",
              "    </tr>\n",
              "    <tr>\n",
              "      <th>388</th>\n",
              "      <td>2.272727</td>\n",
              "      <td>NaN</td>\n",
              "      <td>44.0</td>\n",
              "      <td>4</td>\n",
              "      <td>0.97</td>\n",
              "      <td>0.52</td>\n",
              "      <td>2.130</td>\n",
              "      <td>24.6</td>\n",
              "      <td>82</td>\n",
              "      <td>0</td>\n",
              "      <td>2</td>\n",
              "      <td>0</td>\n",
              "      <td>1</td>\n",
              "      <td>0</td>\n",
              "      <td>vw pickup</td>\n",
              "    </tr>\n",
              "    <tr>\n",
              "      <th>389</th>\n",
              "      <td>3.125000</td>\n",
              "      <td>NaN</td>\n",
              "      <td>32.0</td>\n",
              "      <td>4</td>\n",
              "      <td>1.35</td>\n",
              "      <td>0.84</td>\n",
              "      <td>2.295</td>\n",
              "      <td>11.6</td>\n",
              "      <td>82</td>\n",
              "      <td>0</td>\n",
              "      <td>1</td>\n",
              "      <td>1</td>\n",
              "      <td>0</td>\n",
              "      <td>0</td>\n",
              "      <td>dodge rampage</td>\n",
              "    </tr>\n",
              "    <tr>\n",
              "      <th>390</th>\n",
              "      <td>3.571429</td>\n",
              "      <td>NaN</td>\n",
              "      <td>28.0</td>\n",
              "      <td>4</td>\n",
              "      <td>1.20</td>\n",
              "      <td>0.79</td>\n",
              "      <td>2.625</td>\n",
              "      <td>18.6</td>\n",
              "      <td>82</td>\n",
              "      <td>0</td>\n",
              "      <td>1</td>\n",
              "      <td>1</td>\n",
              "      <td>0</td>\n",
              "      <td>0</td>\n",
              "      <td>ford ranger</td>\n",
              "    </tr>\n",
              "    <tr>\n",
              "      <th>391</th>\n",
              "      <td>3.225806</td>\n",
              "      <td>NaN</td>\n",
              "      <td>31.0</td>\n",
              "      <td>4</td>\n",
              "      <td>1.19</td>\n",
              "      <td>0.82</td>\n",
              "      <td>2.720</td>\n",
              "      <td>19.4</td>\n",
              "      <td>82</td>\n",
              "      <td>0</td>\n",
              "      <td>1</td>\n",
              "      <td>1</td>\n",
              "      <td>0</td>\n",
              "      <td>0</td>\n",
              "      <td>chevy s-10</td>\n",
              "    </tr>\n",
              "  </tbody>\n",
              "</table>\n",
              "</div>\n",
              "      <button class=\"colab-df-convert\" onclick=\"convertToInteractive('df-42825da7-7ad0-4f92-b348-0bf8a9e1fc3f')\"\n",
              "              title=\"Convert this dataframe to an interactive table.\"\n",
              "              style=\"display:none;\">\n",
              "        \n",
              "  <svg xmlns=\"http://www.w3.org/2000/svg\" height=\"24px\"viewBox=\"0 0 24 24\"\n",
              "       width=\"24px\">\n",
              "    <path d=\"M0 0h24v24H0V0z\" fill=\"none\"/>\n",
              "    <path d=\"M18.56 5.44l.94 2.06.94-2.06 2.06-.94-2.06-.94-.94-2.06-.94 2.06-2.06.94zm-11 1L8.5 8.5l.94-2.06 2.06-.94-2.06-.94L8.5 2.5l-.94 2.06-2.06.94zm10 10l.94 2.06.94-2.06 2.06-.94-2.06-.94-.94-2.06-.94 2.06-2.06.94z\"/><path d=\"M17.41 7.96l-1.37-1.37c-.4-.4-.92-.59-1.43-.59-.52 0-1.04.2-1.43.59L10.3 9.45l-7.72 7.72c-.78.78-.78 2.05 0 2.83L4 21.41c.39.39.9.59 1.41.59.51 0 1.02-.2 1.41-.59l7.78-7.78 2.81-2.81c.8-.78.8-2.07 0-2.86zM5.41 20L4 18.59l7.72-7.72 1.47 1.35L5.41 20z\"/>\n",
              "  </svg>\n",
              "      </button>\n",
              "      \n",
              "  <style>\n",
              "    .colab-df-container {\n",
              "      display:flex;\n",
              "      flex-wrap:wrap;\n",
              "      gap: 12px;\n",
              "    }\n",
              "\n",
              "    .colab-df-convert {\n",
              "      background-color: #E8F0FE;\n",
              "      border: none;\n",
              "      border-radius: 50%;\n",
              "      cursor: pointer;\n",
              "      display: none;\n",
              "      fill: #1967D2;\n",
              "      height: 32px;\n",
              "      padding: 0 0 0 0;\n",
              "      width: 32px;\n",
              "    }\n",
              "\n",
              "    .colab-df-convert:hover {\n",
              "      background-color: #E2EBFA;\n",
              "      box-shadow: 0px 1px 2px rgba(60, 64, 67, 0.3), 0px 1px 3px 1px rgba(60, 64, 67, 0.15);\n",
              "      fill: #174EA6;\n",
              "    }\n",
              "\n",
              "    [theme=dark] .colab-df-convert {\n",
              "      background-color: #3B4455;\n",
              "      fill: #D2E3FC;\n",
              "    }\n",
              "\n",
              "    [theme=dark] .colab-df-convert:hover {\n",
              "      background-color: #434B5C;\n",
              "      box-shadow: 0px 1px 3px 1px rgba(0, 0, 0, 0.15);\n",
              "      filter: drop-shadow(0px 1px 2px rgba(0, 0, 0, 0.3));\n",
              "      fill: #FFFFFF;\n",
              "    }\n",
              "  </style>\n",
              "\n",
              "      <script>\n",
              "        const buttonEl =\n",
              "          document.querySelector('#df-42825da7-7ad0-4f92-b348-0bf8a9e1fc3f button.colab-df-convert');\n",
              "        buttonEl.style.display =\n",
              "          google.colab.kernel.accessAllowed ? 'block' : 'none';\n",
              "\n",
              "        async function convertToInteractive(key) {\n",
              "          const element = document.querySelector('#df-42825da7-7ad0-4f92-b348-0bf8a9e1fc3f');\n",
              "          const dataTable =\n",
              "            await google.colab.kernel.invokeFunction('convertToInteractive',\n",
              "                                                     [key], {});\n",
              "          if (!dataTable) return;\n",
              "\n",
              "          const docLinkHtml = 'Like what you see? Visit the ' +\n",
              "            '<a target=\"_blank\" href=https://colab.research.google.com/notebooks/data_table.ipynb>data table notebook</a>'\n",
              "            + ' to learn more about interactive tables.';\n",
              "          element.innerHTML = '';\n",
              "          dataTable['output_type'] = 'display_data';\n",
              "          await google.colab.output.renderOutput(dataTable, element);\n",
              "          const docLink = document.createElement('div');\n",
              "          docLink.innerHTML = docLinkHtml;\n",
              "          element.appendChild(docLink);\n",
              "        }\n",
              "      </script>\n",
              "    </div>\n",
              "  </div>\n",
              "  "
            ]
          },
          "metadata": {},
          "execution_count": 5
        }
      ]
    },
    {
      "cell_type": "code",
      "source": [
        "#getting the total number of records and features present in the data\n",
        "df.shape"
      ],
      "metadata": {
        "colab": {
          "base_uri": "https://localhost:8080/"
        },
        "id": "uKqnsxQsRsOf",
        "outputId": "5a965a9c-9429-4e2c-efbb-14903588f30c"
      },
      "execution_count": 6,
      "outputs": [
        {
          "output_type": "execute_result",
          "data": {
            "text/plain": [
              "(392, 15)"
            ]
          },
          "metadata": {},
          "execution_count": 6
        }
      ]
    },
    {
      "cell_type": "code",
      "source": [
        "#checking the names of the features\n",
        "df.columns"
      ],
      "metadata": {
        "colab": {
          "base_uri": "https://localhost:8080/"
        },
        "id": "ZbDdgrSSRx1d",
        "outputId": "d5cf51a6-32b7-49c3-99ee-53e6592abe8b"
      },
      "execution_count": 7,
      "outputs": [
        {
          "output_type": "execute_result",
          "data": {
            "text/plain": [
              "Index(['GallonsPer100Miles', 'GallonsPer100MilesTo1981', 'MPG', 'Cylinders',\n",
              "       'Displacement100ci', 'Horsepower100', 'Weight1000lb', 'Seconds0to60',\n",
              "       'Year', 'Year70To81', 'Origin', 'Origin.Eq.1', 'Origin.Eq.2',\n",
              "       'Origin.Eq.3', 'Name'],\n",
              "      dtype='object')"
            ]
          },
          "metadata": {},
          "execution_count": 7
        }
      ]
    },
    {
      "cell_type": "code",
      "source": [
        "#getting the info of the data\n",
        "df.info()"
      ],
      "metadata": {
        "colab": {
          "base_uri": "https://localhost:8080/"
        },
        "id": "GIRSOShCScnM",
        "outputId": "200cc960-d66e-4626-f380-515ed3421f6b"
      },
      "execution_count": 8,
      "outputs": [
        {
          "output_type": "stream",
          "name": "stdout",
          "text": [
            "<class 'pandas.core.frame.DataFrame'>\n",
            "RangeIndex: 392 entries, 0 to 391\n",
            "Data columns (total 15 columns):\n",
            " #   Column                    Non-Null Count  Dtype  \n",
            "---  ------                    --------------  -----  \n",
            " 0   GallonsPer100Miles        392 non-null    float64\n",
            " 1   GallonsPer100MilesTo1981  362 non-null    float64\n",
            " 2   MPG                       392 non-null    float64\n",
            " 3   Cylinders                 392 non-null    int64  \n",
            " 4   Displacement100ci         392 non-null    float64\n",
            " 5   Horsepower100             392 non-null    float64\n",
            " 6   Weight1000lb              392 non-null    float64\n",
            " 7   Seconds0to60              392 non-null    float64\n",
            " 8   Year                      392 non-null    int64  \n",
            " 9   Year70To81                392 non-null    int64  \n",
            " 10  Origin                    392 non-null    int64  \n",
            " 11  Origin.Eq.1               392 non-null    int64  \n",
            " 12  Origin.Eq.2               392 non-null    int64  \n",
            " 13  Origin.Eq.3               392 non-null    int64  \n",
            " 14  Name                      392 non-null    object \n",
            "dtypes: float64(7), int64(7), object(1)\n",
            "memory usage: 46.1+ KB\n"
          ]
        }
      ]
    },
    {
      "cell_type": "markdown",
      "source": [
        "So there are null values only on the \"GallonsPer100MilesTo1981\" feature in the data. And there are 13 features which are numeric and only one feature i.e. Name is object/string"
      ],
      "metadata": {
        "id": "I5TxGHZRSx-T"
      }
    },
    {
      "cell_type": "code",
      "source": [
        "df[df['GallonsPer100MilesTo1981'].isna()]"
      ],
      "metadata": {
        "colab": {
          "base_uri": "https://localhost:8080/",
          "height": 1000
        },
        "id": "yhhpXgjrawgM",
        "outputId": "636e9d01-c89d-45fb-9cac-763acf95d9b3"
      },
      "execution_count": 9,
      "outputs": [
        {
          "output_type": "execute_result",
          "data": {
            "text/plain": [
              "     GallonsPer100Miles  GallonsPer100MilesTo1981   MPG  Cylinders  \\\n",
              "362            3.571429                       NaN  28.0          4   \n",
              "363            3.703704                       NaN  27.0          4   \n",
              "364            2.941176                       NaN  34.0          4   \n",
              "365            3.225806                       NaN  31.0          4   \n",
              "366            3.448276                       NaN  29.0          4   \n",
              "367            3.703704                       NaN  27.0          4   \n",
              "368            4.166667                       NaN  24.0          4   \n",
              "369            2.777778                       NaN  36.0          4   \n",
              "370            2.702703                       NaN  37.0          4   \n",
              "371            3.225806                       NaN  31.0          4   \n",
              "372            2.631579                       NaN  38.0          4   \n",
              "373            2.777778                       NaN  36.0          4   \n",
              "374            2.777778                       NaN  36.0          4   \n",
              "375            2.777778                       NaN  36.0          4   \n",
              "376            2.941176                       NaN  34.0          4   \n",
              "377            2.631579                       NaN  38.0          4   \n",
              "378            3.125000                       NaN  32.0          4   \n",
              "379            2.631579                       NaN  38.0          4   \n",
              "380            4.000000                       NaN  25.0          6   \n",
              "381            2.631579                       NaN  38.0          6   \n",
              "382            3.846154                       NaN  26.0          4   \n",
              "383            4.545455                       NaN  22.0          6   \n",
              "384            3.125000                       NaN  32.0          4   \n",
              "385            2.777778                       NaN  36.0          4   \n",
              "386            3.703704                       NaN  27.0          4   \n",
              "387            3.703704                       NaN  27.0          4   \n",
              "388            2.272727                       NaN  44.0          4   \n",
              "389            3.125000                       NaN  32.0          4   \n",
              "390            3.571429                       NaN  28.0          4   \n",
              "391            3.225806                       NaN  31.0          4   \n",
              "\n",
              "     Displacement100ci  Horsepower100  Weight1000lb  Seconds0to60  Year  \\\n",
              "362               1.12           0.88         2.605          19.6    82   \n",
              "363               1.12           0.88         2.640          18.6    82   \n",
              "364               1.12           0.88         2.395          18.0    82   \n",
              "365               1.12           0.85         2.575          16.2    82   \n",
              "366               1.35           0.84         2.525          16.0    82   \n",
              "367               1.51           0.90         2.735          18.0    82   \n",
              "368               1.40           0.92         2.865          16.4    82   \n",
              "369               1.05           0.74         1.980          15.3    82   \n",
              "370               0.91           0.68         2.025          18.2    82   \n",
              "371               0.91           0.68         1.970          17.6    82   \n",
              "372               1.05           0.63         2.125          14.7    82   \n",
              "373               0.98           0.70         2.125          17.3    82   \n",
              "374               1.20           0.88         2.160          14.5    82   \n",
              "375               1.07           0.75         2.205          14.5    82   \n",
              "376               1.08           0.70         2.245          16.9    82   \n",
              "377               0.91           0.67         1.965          15.0    82   \n",
              "378               0.91           0.67         1.965          15.7    82   \n",
              "379               0.91           0.67         1.995          16.2    82   \n",
              "380               1.81           1.10         2.945          16.4    82   \n",
              "381               2.62           0.85         3.015          17.0    82   \n",
              "382               1.56           0.92         2.585          14.5    82   \n",
              "383               2.32           1.12         2.835          14.7    82   \n",
              "384               1.44           0.96         2.665          13.9    82   \n",
              "385               1.35           0.84         2.370          13.0    82   \n",
              "386               1.51           0.90         2.950          17.3    82   \n",
              "387               1.40           0.86         2.790          15.6    82   \n",
              "388               0.97           0.52         2.130          24.6    82   \n",
              "389               1.35           0.84         2.295          11.6    82   \n",
              "390               1.20           0.79         2.625          18.6    82   \n",
              "391               1.19           0.82         2.720          19.4    82   \n",
              "\n",
              "     Year70To81  Origin  Origin.Eq.1  Origin.Eq.2  Origin.Eq.3  \\\n",
              "362           0       1            1            0            0   \n",
              "363           0       1            1            0            0   \n",
              "364           0       1            1            0            0   \n",
              "365           0       1            1            0            0   \n",
              "366           0       1            1            0            0   \n",
              "367           0       1            1            0            0   \n",
              "368           0       1            1            0            0   \n",
              "369           0       2            0            1            0   \n",
              "370           0       3            0            0            1   \n",
              "371           0       3            0            0            1   \n",
              "372           0       1            1            0            0   \n",
              "373           0       1            1            0            0   \n",
              "374           0       3            0            0            1   \n",
              "375           0       3            0            0            1   \n",
              "376           0       3            0            0            1   \n",
              "377           0       3            0            0            1   \n",
              "378           0       3            0            0            1   \n",
              "379           0       3            0            0            1   \n",
              "380           0       1            1            0            0   \n",
              "381           0       1            1            0            0   \n",
              "382           0       1            1            0            0   \n",
              "383           0       1            1            0            0   \n",
              "384           0       3            0            0            1   \n",
              "385           0       1            1            0            0   \n",
              "386           0       1            1            0            0   \n",
              "387           0       1            1            0            0   \n",
              "388           0       2            0            1            0   \n",
              "389           0       1            1            0            0   \n",
              "390           0       1            1            0            0   \n",
              "391           0       1            1            0            0   \n",
              "\n",
              "                                  Name  \n",
              "362                 chevrolet cavalier  \n",
              "363           chevrolet cavalier wagon  \n",
              "364          chevrolet cavalier 2-door  \n",
              "365         pontiac j2000 se hatchback  \n",
              "366                     dodge aries se  \n",
              "367                    pontiac phoenix  \n",
              "368               ford fairmont futura  \n",
              "369                volkswagen rabbit l  \n",
              "370                 mazda glc custom l  \n",
              "371                   mazda glc custom  \n",
              "372             plymouth horizon miser  \n",
              "373                     mercury lynx l  \n",
              "374                   nissan stanza xe  \n",
              "375                       honda accord  \n",
              "376                     toyota corolla  \n",
              "377                        honda civic  \n",
              "378                 honda civic (auto)  \n",
              "379                      datsun 310 gx  \n",
              "380              buick century limited  \n",
              "381  oldsmobile cutlass ciera (diesel)  \n",
              "382         chrysler lebaron medallion  \n",
              "383                     ford granada l  \n",
              "384                   toyota celica gt  \n",
              "385                  dodge charger 2.2  \n",
              "386                   chevrolet camaro  \n",
              "387                    ford mustang gl  \n",
              "388                          vw pickup  \n",
              "389                      dodge rampage  \n",
              "390                        ford ranger  \n",
              "391                         chevy s-10  "
            ],
            "text/html": [
              "\n",
              "  <div id=\"df-15849721-1bb8-4207-8fd8-7ee066a402af\">\n",
              "    <div class=\"colab-df-container\">\n",
              "      <div>\n",
              "<style scoped>\n",
              "    .dataframe tbody tr th:only-of-type {\n",
              "        vertical-align: middle;\n",
              "    }\n",
              "\n",
              "    .dataframe tbody tr th {\n",
              "        vertical-align: top;\n",
              "    }\n",
              "\n",
              "    .dataframe thead th {\n",
              "        text-align: right;\n",
              "    }\n",
              "</style>\n",
              "<table border=\"1\" class=\"dataframe\">\n",
              "  <thead>\n",
              "    <tr style=\"text-align: right;\">\n",
              "      <th></th>\n",
              "      <th>GallonsPer100Miles</th>\n",
              "      <th>GallonsPer100MilesTo1981</th>\n",
              "      <th>MPG</th>\n",
              "      <th>Cylinders</th>\n",
              "      <th>Displacement100ci</th>\n",
              "      <th>Horsepower100</th>\n",
              "      <th>Weight1000lb</th>\n",
              "      <th>Seconds0to60</th>\n",
              "      <th>Year</th>\n",
              "      <th>Year70To81</th>\n",
              "      <th>Origin</th>\n",
              "      <th>Origin.Eq.1</th>\n",
              "      <th>Origin.Eq.2</th>\n",
              "      <th>Origin.Eq.3</th>\n",
              "      <th>Name</th>\n",
              "    </tr>\n",
              "  </thead>\n",
              "  <tbody>\n",
              "    <tr>\n",
              "      <th>362</th>\n",
              "      <td>3.571429</td>\n",
              "      <td>NaN</td>\n",
              "      <td>28.0</td>\n",
              "      <td>4</td>\n",
              "      <td>1.12</td>\n",
              "      <td>0.88</td>\n",
              "      <td>2.605</td>\n",
              "      <td>19.6</td>\n",
              "      <td>82</td>\n",
              "      <td>0</td>\n",
              "      <td>1</td>\n",
              "      <td>1</td>\n",
              "      <td>0</td>\n",
              "      <td>0</td>\n",
              "      <td>chevrolet cavalier</td>\n",
              "    </tr>\n",
              "    <tr>\n",
              "      <th>363</th>\n",
              "      <td>3.703704</td>\n",
              "      <td>NaN</td>\n",
              "      <td>27.0</td>\n",
              "      <td>4</td>\n",
              "      <td>1.12</td>\n",
              "      <td>0.88</td>\n",
              "      <td>2.640</td>\n",
              "      <td>18.6</td>\n",
              "      <td>82</td>\n",
              "      <td>0</td>\n",
              "      <td>1</td>\n",
              "      <td>1</td>\n",
              "      <td>0</td>\n",
              "      <td>0</td>\n",
              "      <td>chevrolet cavalier wagon</td>\n",
              "    </tr>\n",
              "    <tr>\n",
              "      <th>364</th>\n",
              "      <td>2.941176</td>\n",
              "      <td>NaN</td>\n",
              "      <td>34.0</td>\n",
              "      <td>4</td>\n",
              "      <td>1.12</td>\n",
              "      <td>0.88</td>\n",
              "      <td>2.395</td>\n",
              "      <td>18.0</td>\n",
              "      <td>82</td>\n",
              "      <td>0</td>\n",
              "      <td>1</td>\n",
              "      <td>1</td>\n",
              "      <td>0</td>\n",
              "      <td>0</td>\n",
              "      <td>chevrolet cavalier 2-door</td>\n",
              "    </tr>\n",
              "    <tr>\n",
              "      <th>365</th>\n",
              "      <td>3.225806</td>\n",
              "      <td>NaN</td>\n",
              "      <td>31.0</td>\n",
              "      <td>4</td>\n",
              "      <td>1.12</td>\n",
              "      <td>0.85</td>\n",
              "      <td>2.575</td>\n",
              "      <td>16.2</td>\n",
              "      <td>82</td>\n",
              "      <td>0</td>\n",
              "      <td>1</td>\n",
              "      <td>1</td>\n",
              "      <td>0</td>\n",
              "      <td>0</td>\n",
              "      <td>pontiac j2000 se hatchback</td>\n",
              "    </tr>\n",
              "    <tr>\n",
              "      <th>366</th>\n",
              "      <td>3.448276</td>\n",
              "      <td>NaN</td>\n",
              "      <td>29.0</td>\n",
              "      <td>4</td>\n",
              "      <td>1.35</td>\n",
              "      <td>0.84</td>\n",
              "      <td>2.525</td>\n",
              "      <td>16.0</td>\n",
              "      <td>82</td>\n",
              "      <td>0</td>\n",
              "      <td>1</td>\n",
              "      <td>1</td>\n",
              "      <td>0</td>\n",
              "      <td>0</td>\n",
              "      <td>dodge aries se</td>\n",
              "    </tr>\n",
              "    <tr>\n",
              "      <th>367</th>\n",
              "      <td>3.703704</td>\n",
              "      <td>NaN</td>\n",
              "      <td>27.0</td>\n",
              "      <td>4</td>\n",
              "      <td>1.51</td>\n",
              "      <td>0.90</td>\n",
              "      <td>2.735</td>\n",
              "      <td>18.0</td>\n",
              "      <td>82</td>\n",
              "      <td>0</td>\n",
              "      <td>1</td>\n",
              "      <td>1</td>\n",
              "      <td>0</td>\n",
              "      <td>0</td>\n",
              "      <td>pontiac phoenix</td>\n",
              "    </tr>\n",
              "    <tr>\n",
              "      <th>368</th>\n",
              "      <td>4.166667</td>\n",
              "      <td>NaN</td>\n",
              "      <td>24.0</td>\n",
              "      <td>4</td>\n",
              "      <td>1.40</td>\n",
              "      <td>0.92</td>\n",
              "      <td>2.865</td>\n",
              "      <td>16.4</td>\n",
              "      <td>82</td>\n",
              "      <td>0</td>\n",
              "      <td>1</td>\n",
              "      <td>1</td>\n",
              "      <td>0</td>\n",
              "      <td>0</td>\n",
              "      <td>ford fairmont futura</td>\n",
              "    </tr>\n",
              "    <tr>\n",
              "      <th>369</th>\n",
              "      <td>2.777778</td>\n",
              "      <td>NaN</td>\n",
              "      <td>36.0</td>\n",
              "      <td>4</td>\n",
              "      <td>1.05</td>\n",
              "      <td>0.74</td>\n",
              "      <td>1.980</td>\n",
              "      <td>15.3</td>\n",
              "      <td>82</td>\n",
              "      <td>0</td>\n",
              "      <td>2</td>\n",
              "      <td>0</td>\n",
              "      <td>1</td>\n",
              "      <td>0</td>\n",
              "      <td>volkswagen rabbit l</td>\n",
              "    </tr>\n",
              "    <tr>\n",
              "      <th>370</th>\n",
              "      <td>2.702703</td>\n",
              "      <td>NaN</td>\n",
              "      <td>37.0</td>\n",
              "      <td>4</td>\n",
              "      <td>0.91</td>\n",
              "      <td>0.68</td>\n",
              "      <td>2.025</td>\n",
              "      <td>18.2</td>\n",
              "      <td>82</td>\n",
              "      <td>0</td>\n",
              "      <td>3</td>\n",
              "      <td>0</td>\n",
              "      <td>0</td>\n",
              "      <td>1</td>\n",
              "      <td>mazda glc custom l</td>\n",
              "    </tr>\n",
              "    <tr>\n",
              "      <th>371</th>\n",
              "      <td>3.225806</td>\n",
              "      <td>NaN</td>\n",
              "      <td>31.0</td>\n",
              "      <td>4</td>\n",
              "      <td>0.91</td>\n",
              "      <td>0.68</td>\n",
              "      <td>1.970</td>\n",
              "      <td>17.6</td>\n",
              "      <td>82</td>\n",
              "      <td>0</td>\n",
              "      <td>3</td>\n",
              "      <td>0</td>\n",
              "      <td>0</td>\n",
              "      <td>1</td>\n",
              "      <td>mazda glc custom</td>\n",
              "    </tr>\n",
              "    <tr>\n",
              "      <th>372</th>\n",
              "      <td>2.631579</td>\n",
              "      <td>NaN</td>\n",
              "      <td>38.0</td>\n",
              "      <td>4</td>\n",
              "      <td>1.05</td>\n",
              "      <td>0.63</td>\n",
              "      <td>2.125</td>\n",
              "      <td>14.7</td>\n",
              "      <td>82</td>\n",
              "      <td>0</td>\n",
              "      <td>1</td>\n",
              "      <td>1</td>\n",
              "      <td>0</td>\n",
              "      <td>0</td>\n",
              "      <td>plymouth horizon miser</td>\n",
              "    </tr>\n",
              "    <tr>\n",
              "      <th>373</th>\n",
              "      <td>2.777778</td>\n",
              "      <td>NaN</td>\n",
              "      <td>36.0</td>\n",
              "      <td>4</td>\n",
              "      <td>0.98</td>\n",
              "      <td>0.70</td>\n",
              "      <td>2.125</td>\n",
              "      <td>17.3</td>\n",
              "      <td>82</td>\n",
              "      <td>0</td>\n",
              "      <td>1</td>\n",
              "      <td>1</td>\n",
              "      <td>0</td>\n",
              "      <td>0</td>\n",
              "      <td>mercury lynx l</td>\n",
              "    </tr>\n",
              "    <tr>\n",
              "      <th>374</th>\n",
              "      <td>2.777778</td>\n",
              "      <td>NaN</td>\n",
              "      <td>36.0</td>\n",
              "      <td>4</td>\n",
              "      <td>1.20</td>\n",
              "      <td>0.88</td>\n",
              "      <td>2.160</td>\n",
              "      <td>14.5</td>\n",
              "      <td>82</td>\n",
              "      <td>0</td>\n",
              "      <td>3</td>\n",
              "      <td>0</td>\n",
              "      <td>0</td>\n",
              "      <td>1</td>\n",
              "      <td>nissan stanza xe</td>\n",
              "    </tr>\n",
              "    <tr>\n",
              "      <th>375</th>\n",
              "      <td>2.777778</td>\n",
              "      <td>NaN</td>\n",
              "      <td>36.0</td>\n",
              "      <td>4</td>\n",
              "      <td>1.07</td>\n",
              "      <td>0.75</td>\n",
              "      <td>2.205</td>\n",
              "      <td>14.5</td>\n",
              "      <td>82</td>\n",
              "      <td>0</td>\n",
              "      <td>3</td>\n",
              "      <td>0</td>\n",
              "      <td>0</td>\n",
              "      <td>1</td>\n",
              "      <td>honda accord</td>\n",
              "    </tr>\n",
              "    <tr>\n",
              "      <th>376</th>\n",
              "      <td>2.941176</td>\n",
              "      <td>NaN</td>\n",
              "      <td>34.0</td>\n",
              "      <td>4</td>\n",
              "      <td>1.08</td>\n",
              "      <td>0.70</td>\n",
              "      <td>2.245</td>\n",
              "      <td>16.9</td>\n",
              "      <td>82</td>\n",
              "      <td>0</td>\n",
              "      <td>3</td>\n",
              "      <td>0</td>\n",
              "      <td>0</td>\n",
              "      <td>1</td>\n",
              "      <td>toyota corolla</td>\n",
              "    </tr>\n",
              "    <tr>\n",
              "      <th>377</th>\n",
              "      <td>2.631579</td>\n",
              "      <td>NaN</td>\n",
              "      <td>38.0</td>\n",
              "      <td>4</td>\n",
              "      <td>0.91</td>\n",
              "      <td>0.67</td>\n",
              "      <td>1.965</td>\n",
              "      <td>15.0</td>\n",
              "      <td>82</td>\n",
              "      <td>0</td>\n",
              "      <td>3</td>\n",
              "      <td>0</td>\n",
              "      <td>0</td>\n",
              "      <td>1</td>\n",
              "      <td>honda civic</td>\n",
              "    </tr>\n",
              "    <tr>\n",
              "      <th>378</th>\n",
              "      <td>3.125000</td>\n",
              "      <td>NaN</td>\n",
              "      <td>32.0</td>\n",
              "      <td>4</td>\n",
              "      <td>0.91</td>\n",
              "      <td>0.67</td>\n",
              "      <td>1.965</td>\n",
              "      <td>15.7</td>\n",
              "      <td>82</td>\n",
              "      <td>0</td>\n",
              "      <td>3</td>\n",
              "      <td>0</td>\n",
              "      <td>0</td>\n",
              "      <td>1</td>\n",
              "      <td>honda civic (auto)</td>\n",
              "    </tr>\n",
              "    <tr>\n",
              "      <th>379</th>\n",
              "      <td>2.631579</td>\n",
              "      <td>NaN</td>\n",
              "      <td>38.0</td>\n",
              "      <td>4</td>\n",
              "      <td>0.91</td>\n",
              "      <td>0.67</td>\n",
              "      <td>1.995</td>\n",
              "      <td>16.2</td>\n",
              "      <td>82</td>\n",
              "      <td>0</td>\n",
              "      <td>3</td>\n",
              "      <td>0</td>\n",
              "      <td>0</td>\n",
              "      <td>1</td>\n",
              "      <td>datsun 310 gx</td>\n",
              "    </tr>\n",
              "    <tr>\n",
              "      <th>380</th>\n",
              "      <td>4.000000</td>\n",
              "      <td>NaN</td>\n",
              "      <td>25.0</td>\n",
              "      <td>6</td>\n",
              "      <td>1.81</td>\n",
              "      <td>1.10</td>\n",
              "      <td>2.945</td>\n",
              "      <td>16.4</td>\n",
              "      <td>82</td>\n",
              "      <td>0</td>\n",
              "      <td>1</td>\n",
              "      <td>1</td>\n",
              "      <td>0</td>\n",
              "      <td>0</td>\n",
              "      <td>buick century limited</td>\n",
              "    </tr>\n",
              "    <tr>\n",
              "      <th>381</th>\n",
              "      <td>2.631579</td>\n",
              "      <td>NaN</td>\n",
              "      <td>38.0</td>\n",
              "      <td>6</td>\n",
              "      <td>2.62</td>\n",
              "      <td>0.85</td>\n",
              "      <td>3.015</td>\n",
              "      <td>17.0</td>\n",
              "      <td>82</td>\n",
              "      <td>0</td>\n",
              "      <td>1</td>\n",
              "      <td>1</td>\n",
              "      <td>0</td>\n",
              "      <td>0</td>\n",
              "      <td>oldsmobile cutlass ciera (diesel)</td>\n",
              "    </tr>\n",
              "    <tr>\n",
              "      <th>382</th>\n",
              "      <td>3.846154</td>\n",
              "      <td>NaN</td>\n",
              "      <td>26.0</td>\n",
              "      <td>4</td>\n",
              "      <td>1.56</td>\n",
              "      <td>0.92</td>\n",
              "      <td>2.585</td>\n",
              "      <td>14.5</td>\n",
              "      <td>82</td>\n",
              "      <td>0</td>\n",
              "      <td>1</td>\n",
              "      <td>1</td>\n",
              "      <td>0</td>\n",
              "      <td>0</td>\n",
              "      <td>chrysler lebaron medallion</td>\n",
              "    </tr>\n",
              "    <tr>\n",
              "      <th>383</th>\n",
              "      <td>4.545455</td>\n",
              "      <td>NaN</td>\n",
              "      <td>22.0</td>\n",
              "      <td>6</td>\n",
              "      <td>2.32</td>\n",
              "      <td>1.12</td>\n",
              "      <td>2.835</td>\n",
              "      <td>14.7</td>\n",
              "      <td>82</td>\n",
              "      <td>0</td>\n",
              "      <td>1</td>\n",
              "      <td>1</td>\n",
              "      <td>0</td>\n",
              "      <td>0</td>\n",
              "      <td>ford granada l</td>\n",
              "    </tr>\n",
              "    <tr>\n",
              "      <th>384</th>\n",
              "      <td>3.125000</td>\n",
              "      <td>NaN</td>\n",
              "      <td>32.0</td>\n",
              "      <td>4</td>\n",
              "      <td>1.44</td>\n",
              "      <td>0.96</td>\n",
              "      <td>2.665</td>\n",
              "      <td>13.9</td>\n",
              "      <td>82</td>\n",
              "      <td>0</td>\n",
              "      <td>3</td>\n",
              "      <td>0</td>\n",
              "      <td>0</td>\n",
              "      <td>1</td>\n",
              "      <td>toyota celica gt</td>\n",
              "    </tr>\n",
              "    <tr>\n",
              "      <th>385</th>\n",
              "      <td>2.777778</td>\n",
              "      <td>NaN</td>\n",
              "      <td>36.0</td>\n",
              "      <td>4</td>\n",
              "      <td>1.35</td>\n",
              "      <td>0.84</td>\n",
              "      <td>2.370</td>\n",
              "      <td>13.0</td>\n",
              "      <td>82</td>\n",
              "      <td>0</td>\n",
              "      <td>1</td>\n",
              "      <td>1</td>\n",
              "      <td>0</td>\n",
              "      <td>0</td>\n",
              "      <td>dodge charger 2.2</td>\n",
              "    </tr>\n",
              "    <tr>\n",
              "      <th>386</th>\n",
              "      <td>3.703704</td>\n",
              "      <td>NaN</td>\n",
              "      <td>27.0</td>\n",
              "      <td>4</td>\n",
              "      <td>1.51</td>\n",
              "      <td>0.90</td>\n",
              "      <td>2.950</td>\n",
              "      <td>17.3</td>\n",
              "      <td>82</td>\n",
              "      <td>0</td>\n",
              "      <td>1</td>\n",
              "      <td>1</td>\n",
              "      <td>0</td>\n",
              "      <td>0</td>\n",
              "      <td>chevrolet camaro</td>\n",
              "    </tr>\n",
              "    <tr>\n",
              "      <th>387</th>\n",
              "      <td>3.703704</td>\n",
              "      <td>NaN</td>\n",
              "      <td>27.0</td>\n",
              "      <td>4</td>\n",
              "      <td>1.40</td>\n",
              "      <td>0.86</td>\n",
              "      <td>2.790</td>\n",
              "      <td>15.6</td>\n",
              "      <td>82</td>\n",
              "      <td>0</td>\n",
              "      <td>1</td>\n",
              "      <td>1</td>\n",
              "      <td>0</td>\n",
              "      <td>0</td>\n",
              "      <td>ford mustang gl</td>\n",
              "    </tr>\n",
              "    <tr>\n",
              "      <th>388</th>\n",
              "      <td>2.272727</td>\n",
              "      <td>NaN</td>\n",
              "      <td>44.0</td>\n",
              "      <td>4</td>\n",
              "      <td>0.97</td>\n",
              "      <td>0.52</td>\n",
              "      <td>2.130</td>\n",
              "      <td>24.6</td>\n",
              "      <td>82</td>\n",
              "      <td>0</td>\n",
              "      <td>2</td>\n",
              "      <td>0</td>\n",
              "      <td>1</td>\n",
              "      <td>0</td>\n",
              "      <td>vw pickup</td>\n",
              "    </tr>\n",
              "    <tr>\n",
              "      <th>389</th>\n",
              "      <td>3.125000</td>\n",
              "      <td>NaN</td>\n",
              "      <td>32.0</td>\n",
              "      <td>4</td>\n",
              "      <td>1.35</td>\n",
              "      <td>0.84</td>\n",
              "      <td>2.295</td>\n",
              "      <td>11.6</td>\n",
              "      <td>82</td>\n",
              "      <td>0</td>\n",
              "      <td>1</td>\n",
              "      <td>1</td>\n",
              "      <td>0</td>\n",
              "      <td>0</td>\n",
              "      <td>dodge rampage</td>\n",
              "    </tr>\n",
              "    <tr>\n",
              "      <th>390</th>\n",
              "      <td>3.571429</td>\n",
              "      <td>NaN</td>\n",
              "      <td>28.0</td>\n",
              "      <td>4</td>\n",
              "      <td>1.20</td>\n",
              "      <td>0.79</td>\n",
              "      <td>2.625</td>\n",
              "      <td>18.6</td>\n",
              "      <td>82</td>\n",
              "      <td>0</td>\n",
              "      <td>1</td>\n",
              "      <td>1</td>\n",
              "      <td>0</td>\n",
              "      <td>0</td>\n",
              "      <td>ford ranger</td>\n",
              "    </tr>\n",
              "    <tr>\n",
              "      <th>391</th>\n",
              "      <td>3.225806</td>\n",
              "      <td>NaN</td>\n",
              "      <td>31.0</td>\n",
              "      <td>4</td>\n",
              "      <td>1.19</td>\n",
              "      <td>0.82</td>\n",
              "      <td>2.720</td>\n",
              "      <td>19.4</td>\n",
              "      <td>82</td>\n",
              "      <td>0</td>\n",
              "      <td>1</td>\n",
              "      <td>1</td>\n",
              "      <td>0</td>\n",
              "      <td>0</td>\n",
              "      <td>chevy s-10</td>\n",
              "    </tr>\n",
              "  </tbody>\n",
              "</table>\n",
              "</div>\n",
              "      <button class=\"colab-df-convert\" onclick=\"convertToInteractive('df-15849721-1bb8-4207-8fd8-7ee066a402af')\"\n",
              "              title=\"Convert this dataframe to an interactive table.\"\n",
              "              style=\"display:none;\">\n",
              "        \n",
              "  <svg xmlns=\"http://www.w3.org/2000/svg\" height=\"24px\"viewBox=\"0 0 24 24\"\n",
              "       width=\"24px\">\n",
              "    <path d=\"M0 0h24v24H0V0z\" fill=\"none\"/>\n",
              "    <path d=\"M18.56 5.44l.94 2.06.94-2.06 2.06-.94-2.06-.94-.94-2.06-.94 2.06-2.06.94zm-11 1L8.5 8.5l.94-2.06 2.06-.94-2.06-.94L8.5 2.5l-.94 2.06-2.06.94zm10 10l.94 2.06.94-2.06 2.06-.94-2.06-.94-.94-2.06-.94 2.06-2.06.94z\"/><path d=\"M17.41 7.96l-1.37-1.37c-.4-.4-.92-.59-1.43-.59-.52 0-1.04.2-1.43.59L10.3 9.45l-7.72 7.72c-.78.78-.78 2.05 0 2.83L4 21.41c.39.39.9.59 1.41.59.51 0 1.02-.2 1.41-.59l7.78-7.78 2.81-2.81c.8-.78.8-2.07 0-2.86zM5.41 20L4 18.59l7.72-7.72 1.47 1.35L5.41 20z\"/>\n",
              "  </svg>\n",
              "      </button>\n",
              "      \n",
              "  <style>\n",
              "    .colab-df-container {\n",
              "      display:flex;\n",
              "      flex-wrap:wrap;\n",
              "      gap: 12px;\n",
              "    }\n",
              "\n",
              "    .colab-df-convert {\n",
              "      background-color: #E8F0FE;\n",
              "      border: none;\n",
              "      border-radius: 50%;\n",
              "      cursor: pointer;\n",
              "      display: none;\n",
              "      fill: #1967D2;\n",
              "      height: 32px;\n",
              "      padding: 0 0 0 0;\n",
              "      width: 32px;\n",
              "    }\n",
              "\n",
              "    .colab-df-convert:hover {\n",
              "      background-color: #E2EBFA;\n",
              "      box-shadow: 0px 1px 2px rgba(60, 64, 67, 0.3), 0px 1px 3px 1px rgba(60, 64, 67, 0.15);\n",
              "      fill: #174EA6;\n",
              "    }\n",
              "\n",
              "    [theme=dark] .colab-df-convert {\n",
              "      background-color: #3B4455;\n",
              "      fill: #D2E3FC;\n",
              "    }\n",
              "\n",
              "    [theme=dark] .colab-df-convert:hover {\n",
              "      background-color: #434B5C;\n",
              "      box-shadow: 0px 1px 3px 1px rgba(0, 0, 0, 0.15);\n",
              "      filter: drop-shadow(0px 1px 2px rgba(0, 0, 0, 0.3));\n",
              "      fill: #FFFFFF;\n",
              "    }\n",
              "  </style>\n",
              "\n",
              "      <script>\n",
              "        const buttonEl =\n",
              "          document.querySelector('#df-15849721-1bb8-4207-8fd8-7ee066a402af button.colab-df-convert');\n",
              "        buttonEl.style.display =\n",
              "          google.colab.kernel.accessAllowed ? 'block' : 'none';\n",
              "\n",
              "        async function convertToInteractive(key) {\n",
              "          const element = document.querySelector('#df-15849721-1bb8-4207-8fd8-7ee066a402af');\n",
              "          const dataTable =\n",
              "            await google.colab.kernel.invokeFunction('convertToInteractive',\n",
              "                                                     [key], {});\n",
              "          if (!dataTable) return;\n",
              "\n",
              "          const docLinkHtml = 'Like what you see? Visit the ' +\n",
              "            '<a target=\"_blank\" href=https://colab.research.google.com/notebooks/data_table.ipynb>data table notebook</a>'\n",
              "            + ' to learn more about interactive tables.';\n",
              "          element.innerHTML = '';\n",
              "          dataTable['output_type'] = 'display_data';\n",
              "          await google.colab.output.renderOutput(dataTable, element);\n",
              "          const docLink = document.createElement('div');\n",
              "          docLink.innerHTML = docLinkHtml;\n",
              "          element.appendChild(docLink);\n",
              "        }\n",
              "      </script>\n",
              "    </div>\n",
              "  </div>\n",
              "  "
            ]
          },
          "metadata": {},
          "execution_count": 9
        }
      ]
    },
    {
      "cell_type": "code",
      "source": [
        "df_temp = df[df['GallonsPer100MilesTo1981'].notna()]"
      ],
      "metadata": {
        "id": "eWA-j_N_c76x"
      },
      "execution_count": 10,
      "outputs": []
    },
    {
      "cell_type": "code",
      "source": [
        "df_temp['Year'].unique()"
      ],
      "metadata": {
        "colab": {
          "base_uri": "https://localhost:8080/"
        },
        "id": "r0yCF4KsdF1z",
        "outputId": "23edd63a-024a-4890-fda8-e7de6433848f"
      },
      "execution_count": 11,
      "outputs": [
        {
          "output_type": "execute_result",
          "data": {
            "text/plain": [
              "array([70, 71, 72, 73, 74, 75, 76, 77, 78, 79, 80, 81])"
            ]
          },
          "metadata": {},
          "execution_count": 11
        }
      ]
    },
    {
      "cell_type": "markdown",
      "source": [
        "So we can say that null values under \"GallonsPer100MilesTo1981\" feature is coming for the records for the year 1982."
      ],
      "metadata": {
        "id": "GbGtUS8Od6hA"
      }
    },
    {
      "cell_type": "code",
      "source": [
        "df_temp"
      ],
      "metadata": {
        "colab": {
          "base_uri": "https://localhost:8080/",
          "height": 713
        },
        "id": "_dukaufUf9vo",
        "outputId": "751446de-d994-47a0-e959-16a6f1f60eff"
      },
      "execution_count": 12,
      "outputs": [
        {
          "output_type": "execute_result",
          "data": {
            "text/plain": [
              "     GallonsPer100Miles  GallonsPer100MilesTo1981   MPG  Cylinders  \\\n",
              "0              5.555556                  5.555556  18.0          8   \n",
              "1              6.666667                  6.666667  15.0          8   \n",
              "2              5.555556                  5.555556  18.0          8   \n",
              "3              6.250000                  6.250000  16.0          8   \n",
              "4              5.882353                  5.882353  17.0          8   \n",
              "..                  ...                       ...   ...        ...   \n",
              "357            4.132231                  4.132231  24.2          6   \n",
              "358            4.464286                  4.464286  22.4          6   \n",
              "359            3.759398                  3.759398  26.6          8   \n",
              "360            4.950495                  4.950495  20.2          6   \n",
              "361            5.681818                  5.681818  17.6          6   \n",
              "\n",
              "     Displacement100ci  Horsepower100  Weight1000lb  Seconds0to60  Year  \\\n",
              "0                 3.07           1.30         3.504          12.0    70   \n",
              "1                 3.50           1.65         3.693          11.5    70   \n",
              "2                 3.18           1.50         3.436          11.0    70   \n",
              "3                 3.04           1.50         3.433          12.0    70   \n",
              "4                 3.02           1.40         3.449          10.5    70   \n",
              "..                 ...            ...           ...           ...   ...   \n",
              "357               1.46           1.20         2.930          13.8    81   \n",
              "358               2.31           1.10         3.415          15.8    81   \n",
              "359               3.50           1.05         3.725          19.0    81   \n",
              "360               2.00           0.88         3.060          17.1    81   \n",
              "361               2.25           0.85         3.465          16.6    81   \n",
              "\n",
              "     Year70To81  Origin  Origin.Eq.1  Origin.Eq.2  Origin.Eq.3  \\\n",
              "0             1       1            1            0            0   \n",
              "1             1       1            1            0            0   \n",
              "2             1       1            1            0            0   \n",
              "3             1       1            1            0            0   \n",
              "4             1       1            1            0            0   \n",
              "..          ...     ...          ...          ...          ...   \n",
              "357           1       3            0            0            1   \n",
              "358           1       1            1            0            0   \n",
              "359           1       1            1            0            0   \n",
              "360           1       1            1            0            0   \n",
              "361           1       1            1            0            0   \n",
              "\n",
              "                          Name  \n",
              "0    chevrolet chevelle malibu  \n",
              "1            buick skylark 320  \n",
              "2           plymouth satellite  \n",
              "3                amc rebel sst  \n",
              "4                  ford torino  \n",
              "..                         ...  \n",
              "357          datsun 810 maxima  \n",
              "358              buick century  \n",
              "359      oldsmobile cutlass ls  \n",
              "360            ford granada gl  \n",
              "361     chrysler lebaron salon  \n",
              "\n",
              "[362 rows x 15 columns]"
            ],
            "text/html": [
              "\n",
              "  <div id=\"df-e7240608-2b41-49a7-abff-7759a957ef60\">\n",
              "    <div class=\"colab-df-container\">\n",
              "      <div>\n",
              "<style scoped>\n",
              "    .dataframe tbody tr th:only-of-type {\n",
              "        vertical-align: middle;\n",
              "    }\n",
              "\n",
              "    .dataframe tbody tr th {\n",
              "        vertical-align: top;\n",
              "    }\n",
              "\n",
              "    .dataframe thead th {\n",
              "        text-align: right;\n",
              "    }\n",
              "</style>\n",
              "<table border=\"1\" class=\"dataframe\">\n",
              "  <thead>\n",
              "    <tr style=\"text-align: right;\">\n",
              "      <th></th>\n",
              "      <th>GallonsPer100Miles</th>\n",
              "      <th>GallonsPer100MilesTo1981</th>\n",
              "      <th>MPG</th>\n",
              "      <th>Cylinders</th>\n",
              "      <th>Displacement100ci</th>\n",
              "      <th>Horsepower100</th>\n",
              "      <th>Weight1000lb</th>\n",
              "      <th>Seconds0to60</th>\n",
              "      <th>Year</th>\n",
              "      <th>Year70To81</th>\n",
              "      <th>Origin</th>\n",
              "      <th>Origin.Eq.1</th>\n",
              "      <th>Origin.Eq.2</th>\n",
              "      <th>Origin.Eq.3</th>\n",
              "      <th>Name</th>\n",
              "    </tr>\n",
              "  </thead>\n",
              "  <tbody>\n",
              "    <tr>\n",
              "      <th>0</th>\n",
              "      <td>5.555556</td>\n",
              "      <td>5.555556</td>\n",
              "      <td>18.0</td>\n",
              "      <td>8</td>\n",
              "      <td>3.07</td>\n",
              "      <td>1.30</td>\n",
              "      <td>3.504</td>\n",
              "      <td>12.0</td>\n",
              "      <td>70</td>\n",
              "      <td>1</td>\n",
              "      <td>1</td>\n",
              "      <td>1</td>\n",
              "      <td>0</td>\n",
              "      <td>0</td>\n",
              "      <td>chevrolet chevelle malibu</td>\n",
              "    </tr>\n",
              "    <tr>\n",
              "      <th>1</th>\n",
              "      <td>6.666667</td>\n",
              "      <td>6.666667</td>\n",
              "      <td>15.0</td>\n",
              "      <td>8</td>\n",
              "      <td>3.50</td>\n",
              "      <td>1.65</td>\n",
              "      <td>3.693</td>\n",
              "      <td>11.5</td>\n",
              "      <td>70</td>\n",
              "      <td>1</td>\n",
              "      <td>1</td>\n",
              "      <td>1</td>\n",
              "      <td>0</td>\n",
              "      <td>0</td>\n",
              "      <td>buick skylark 320</td>\n",
              "    </tr>\n",
              "    <tr>\n",
              "      <th>2</th>\n",
              "      <td>5.555556</td>\n",
              "      <td>5.555556</td>\n",
              "      <td>18.0</td>\n",
              "      <td>8</td>\n",
              "      <td>3.18</td>\n",
              "      <td>1.50</td>\n",
              "      <td>3.436</td>\n",
              "      <td>11.0</td>\n",
              "      <td>70</td>\n",
              "      <td>1</td>\n",
              "      <td>1</td>\n",
              "      <td>1</td>\n",
              "      <td>0</td>\n",
              "      <td>0</td>\n",
              "      <td>plymouth satellite</td>\n",
              "    </tr>\n",
              "    <tr>\n",
              "      <th>3</th>\n",
              "      <td>6.250000</td>\n",
              "      <td>6.250000</td>\n",
              "      <td>16.0</td>\n",
              "      <td>8</td>\n",
              "      <td>3.04</td>\n",
              "      <td>1.50</td>\n",
              "      <td>3.433</td>\n",
              "      <td>12.0</td>\n",
              "      <td>70</td>\n",
              "      <td>1</td>\n",
              "      <td>1</td>\n",
              "      <td>1</td>\n",
              "      <td>0</td>\n",
              "      <td>0</td>\n",
              "      <td>amc rebel sst</td>\n",
              "    </tr>\n",
              "    <tr>\n",
              "      <th>4</th>\n",
              "      <td>5.882353</td>\n",
              "      <td>5.882353</td>\n",
              "      <td>17.0</td>\n",
              "      <td>8</td>\n",
              "      <td>3.02</td>\n",
              "      <td>1.40</td>\n",
              "      <td>3.449</td>\n",
              "      <td>10.5</td>\n",
              "      <td>70</td>\n",
              "      <td>1</td>\n",
              "      <td>1</td>\n",
              "      <td>1</td>\n",
              "      <td>0</td>\n",
              "      <td>0</td>\n",
              "      <td>ford torino</td>\n",
              "    </tr>\n",
              "    <tr>\n",
              "      <th>...</th>\n",
              "      <td>...</td>\n",
              "      <td>...</td>\n",
              "      <td>...</td>\n",
              "      <td>...</td>\n",
              "      <td>...</td>\n",
              "      <td>...</td>\n",
              "      <td>...</td>\n",
              "      <td>...</td>\n",
              "      <td>...</td>\n",
              "      <td>...</td>\n",
              "      <td>...</td>\n",
              "      <td>...</td>\n",
              "      <td>...</td>\n",
              "      <td>...</td>\n",
              "      <td>...</td>\n",
              "    </tr>\n",
              "    <tr>\n",
              "      <th>357</th>\n",
              "      <td>4.132231</td>\n",
              "      <td>4.132231</td>\n",
              "      <td>24.2</td>\n",
              "      <td>6</td>\n",
              "      <td>1.46</td>\n",
              "      <td>1.20</td>\n",
              "      <td>2.930</td>\n",
              "      <td>13.8</td>\n",
              "      <td>81</td>\n",
              "      <td>1</td>\n",
              "      <td>3</td>\n",
              "      <td>0</td>\n",
              "      <td>0</td>\n",
              "      <td>1</td>\n",
              "      <td>datsun 810 maxima</td>\n",
              "    </tr>\n",
              "    <tr>\n",
              "      <th>358</th>\n",
              "      <td>4.464286</td>\n",
              "      <td>4.464286</td>\n",
              "      <td>22.4</td>\n",
              "      <td>6</td>\n",
              "      <td>2.31</td>\n",
              "      <td>1.10</td>\n",
              "      <td>3.415</td>\n",
              "      <td>15.8</td>\n",
              "      <td>81</td>\n",
              "      <td>1</td>\n",
              "      <td>1</td>\n",
              "      <td>1</td>\n",
              "      <td>0</td>\n",
              "      <td>0</td>\n",
              "      <td>buick century</td>\n",
              "    </tr>\n",
              "    <tr>\n",
              "      <th>359</th>\n",
              "      <td>3.759398</td>\n",
              "      <td>3.759398</td>\n",
              "      <td>26.6</td>\n",
              "      <td>8</td>\n",
              "      <td>3.50</td>\n",
              "      <td>1.05</td>\n",
              "      <td>3.725</td>\n",
              "      <td>19.0</td>\n",
              "      <td>81</td>\n",
              "      <td>1</td>\n",
              "      <td>1</td>\n",
              "      <td>1</td>\n",
              "      <td>0</td>\n",
              "      <td>0</td>\n",
              "      <td>oldsmobile cutlass ls</td>\n",
              "    </tr>\n",
              "    <tr>\n",
              "      <th>360</th>\n",
              "      <td>4.950495</td>\n",
              "      <td>4.950495</td>\n",
              "      <td>20.2</td>\n",
              "      <td>6</td>\n",
              "      <td>2.00</td>\n",
              "      <td>0.88</td>\n",
              "      <td>3.060</td>\n",
              "      <td>17.1</td>\n",
              "      <td>81</td>\n",
              "      <td>1</td>\n",
              "      <td>1</td>\n",
              "      <td>1</td>\n",
              "      <td>0</td>\n",
              "      <td>0</td>\n",
              "      <td>ford granada gl</td>\n",
              "    </tr>\n",
              "    <tr>\n",
              "      <th>361</th>\n",
              "      <td>5.681818</td>\n",
              "      <td>5.681818</td>\n",
              "      <td>17.6</td>\n",
              "      <td>6</td>\n",
              "      <td>2.25</td>\n",
              "      <td>0.85</td>\n",
              "      <td>3.465</td>\n",
              "      <td>16.6</td>\n",
              "      <td>81</td>\n",
              "      <td>1</td>\n",
              "      <td>1</td>\n",
              "      <td>1</td>\n",
              "      <td>0</td>\n",
              "      <td>0</td>\n",
              "      <td>chrysler lebaron salon</td>\n",
              "    </tr>\n",
              "  </tbody>\n",
              "</table>\n",
              "<p>362 rows × 15 columns</p>\n",
              "</div>\n",
              "      <button class=\"colab-df-convert\" onclick=\"convertToInteractive('df-e7240608-2b41-49a7-abff-7759a957ef60')\"\n",
              "              title=\"Convert this dataframe to an interactive table.\"\n",
              "              style=\"display:none;\">\n",
              "        \n",
              "  <svg xmlns=\"http://www.w3.org/2000/svg\" height=\"24px\"viewBox=\"0 0 24 24\"\n",
              "       width=\"24px\">\n",
              "    <path d=\"M0 0h24v24H0V0z\" fill=\"none\"/>\n",
              "    <path d=\"M18.56 5.44l.94 2.06.94-2.06 2.06-.94-2.06-.94-.94-2.06-.94 2.06-2.06.94zm-11 1L8.5 8.5l.94-2.06 2.06-.94-2.06-.94L8.5 2.5l-.94 2.06-2.06.94zm10 10l.94 2.06.94-2.06 2.06-.94-2.06-.94-.94-2.06-.94 2.06-2.06.94z\"/><path d=\"M17.41 7.96l-1.37-1.37c-.4-.4-.92-.59-1.43-.59-.52 0-1.04.2-1.43.59L10.3 9.45l-7.72 7.72c-.78.78-.78 2.05 0 2.83L4 21.41c.39.39.9.59 1.41.59.51 0 1.02-.2 1.41-.59l7.78-7.78 2.81-2.81c.8-.78.8-2.07 0-2.86zM5.41 20L4 18.59l7.72-7.72 1.47 1.35L5.41 20z\"/>\n",
              "  </svg>\n",
              "      </button>\n",
              "      \n",
              "  <style>\n",
              "    .colab-df-container {\n",
              "      display:flex;\n",
              "      flex-wrap:wrap;\n",
              "      gap: 12px;\n",
              "    }\n",
              "\n",
              "    .colab-df-convert {\n",
              "      background-color: #E8F0FE;\n",
              "      border: none;\n",
              "      border-radius: 50%;\n",
              "      cursor: pointer;\n",
              "      display: none;\n",
              "      fill: #1967D2;\n",
              "      height: 32px;\n",
              "      padding: 0 0 0 0;\n",
              "      width: 32px;\n",
              "    }\n",
              "\n",
              "    .colab-df-convert:hover {\n",
              "      background-color: #E2EBFA;\n",
              "      box-shadow: 0px 1px 2px rgba(60, 64, 67, 0.3), 0px 1px 3px 1px rgba(60, 64, 67, 0.15);\n",
              "      fill: #174EA6;\n",
              "    }\n",
              "\n",
              "    [theme=dark] .colab-df-convert {\n",
              "      background-color: #3B4455;\n",
              "      fill: #D2E3FC;\n",
              "    }\n",
              "\n",
              "    [theme=dark] .colab-df-convert:hover {\n",
              "      background-color: #434B5C;\n",
              "      box-shadow: 0px 1px 3px 1px rgba(0, 0, 0, 0.15);\n",
              "      filter: drop-shadow(0px 1px 2px rgba(0, 0, 0, 0.3));\n",
              "      fill: #FFFFFF;\n",
              "    }\n",
              "  </style>\n",
              "\n",
              "      <script>\n",
              "        const buttonEl =\n",
              "          document.querySelector('#df-e7240608-2b41-49a7-abff-7759a957ef60 button.colab-df-convert');\n",
              "        buttonEl.style.display =\n",
              "          google.colab.kernel.accessAllowed ? 'block' : 'none';\n",
              "\n",
              "        async function convertToInteractive(key) {\n",
              "          const element = document.querySelector('#df-e7240608-2b41-49a7-abff-7759a957ef60');\n",
              "          const dataTable =\n",
              "            await google.colab.kernel.invokeFunction('convertToInteractive',\n",
              "                                                     [key], {});\n",
              "          if (!dataTable) return;\n",
              "\n",
              "          const docLinkHtml = 'Like what you see? Visit the ' +\n",
              "            '<a target=\"_blank\" href=https://colab.research.google.com/notebooks/data_table.ipynb>data table notebook</a>'\n",
              "            + ' to learn more about interactive tables.';\n",
              "          element.innerHTML = '';\n",
              "          dataTable['output_type'] = 'display_data';\n",
              "          await google.colab.output.renderOutput(dataTable, element);\n",
              "          const docLink = document.createElement('div');\n",
              "          docLink.innerHTML = docLinkHtml;\n",
              "          element.appendChild(docLink);\n",
              "        }\n",
              "      </script>\n",
              "    </div>\n",
              "  </div>\n",
              "  "
            ]
          },
          "metadata": {},
          "execution_count": 12
        }
      ]
    },
    {
      "cell_type": "code",
      "source": [
        "df_temp['check'] = np.where(df_temp['GallonsPer100Miles'] == df_temp['GallonsPer100MilesTo1981'], True, False)"
      ],
      "metadata": {
        "colab": {
          "base_uri": "https://localhost:8080/"
        },
        "id": "E2wCCNJ2eN5J",
        "outputId": "8a709fd9-1109-4273-bc21-82f04ef39822"
      },
      "execution_count": 13,
      "outputs": [
        {
          "output_type": "stream",
          "name": "stderr",
          "text": [
            "/usr/local/lib/python3.7/dist-packages/ipykernel_launcher.py:1: SettingWithCopyWarning: \n",
            "A value is trying to be set on a copy of a slice from a DataFrame.\n",
            "Try using .loc[row_indexer,col_indexer] = value instead\n",
            "\n",
            "See the caveats in the documentation: https://pandas.pydata.org/pandas-docs/stable/user_guide/indexing.html#returning-a-view-versus-a-copy\n",
            "  \"\"\"Entry point for launching an IPython kernel.\n"
          ]
        }
      ]
    },
    {
      "cell_type": "code",
      "source": [
        "df_temp['check'].nunique()"
      ],
      "metadata": {
        "colab": {
          "base_uri": "https://localhost:8080/"
        },
        "id": "jFyMpGLCk5qK",
        "outputId": "a727832c-fac8-44b2-f455-fbe616116b71"
      },
      "execution_count": 14,
      "outputs": [
        {
          "output_type": "execute_result",
          "data": {
            "text/plain": [
              "1"
            ]
          },
          "metadata": {},
          "execution_count": 14
        }
      ]
    },
    {
      "cell_type": "code",
      "source": [
        "df_temp['check'].unique()"
      ],
      "metadata": {
        "colab": {
          "base_uri": "https://localhost:8080/"
        },
        "id": "RGHKZAfVm5vS",
        "outputId": "a616c0a3-33df-4131-fd09-4206ea714dd4"
      },
      "execution_count": 15,
      "outputs": [
        {
          "output_type": "execute_result",
          "data": {
            "text/plain": [
              "array([ True])"
            ]
          },
          "metadata": {},
          "execution_count": 15
        }
      ]
    },
    {
      "cell_type": "markdown",
      "source": [
        "All values under 'GallonsPer100Miles' and 'GallonsPer100MilesTo1981' features are same for the years between 1970 to 1981. So we can drop 'GallonsPer100MilesTo1981' feature as we can work with 'GallonsPer100Miles' feature"
      ],
      "metadata": {
        "id": "zkwYJyt0nTD5"
      }
    },
    {
      "cell_type": "code",
      "source": [
        "del df_temp"
      ],
      "metadata": {
        "id": "WDg9eQvNsTCy"
      },
      "execution_count": 16,
      "outputs": []
    },
    {
      "cell_type": "code",
      "source": [
        "#checking how many unique records are present in \"Name\" feature\n",
        "len(df['Name'].unique())"
      ],
      "metadata": {
        "colab": {
          "base_uri": "https://localhost:8080/"
        },
        "id": "l-76nt8TSvcx",
        "outputId": "a595c638-9983-4611-c520-b71875ff91db"
      },
      "execution_count": 17,
      "outputs": [
        {
          "output_type": "execute_result",
          "data": {
            "text/plain": [
              "301"
            ]
          },
          "metadata": {},
          "execution_count": 17
        }
      ]
    },
    {
      "cell_type": "code",
      "source": [
        "for i in ['GallonsPer100Miles', 'GallonsPer100MilesTo1981', 'MPG', 'Cylinders','Displacement100ci', 'Horsepower100', 'Weight1000lb', 'Seconds0to60',\n",
        "       'Year', 'Year70To81', 'Origin', 'Origin.Eq.1', 'Origin.Eq.2','Origin.Eq.3']:\n",
        "  length = df[i].nunique()\n",
        "  print(\"The total unique values for {} feature is {}\".format(i,length))  "
      ],
      "metadata": {
        "colab": {
          "base_uri": "https://localhost:8080/"
        },
        "id": "7fO5zwXDTfkm",
        "outputId": "dbcc3d93-92f3-4aae-b520-d13696ac035f"
      },
      "execution_count": 18,
      "outputs": [
        {
          "output_type": "stream",
          "name": "stdout",
          "text": [
            "The total unique values for GallonsPer100Miles feature is 127\n",
            "The total unique values for GallonsPer100MilesTo1981 feature is 124\n",
            "The total unique values for MPG feature is 127\n",
            "The total unique values for Cylinders feature is 5\n",
            "The total unique values for Displacement100ci feature is 81\n",
            "The total unique values for Horsepower100 feature is 93\n",
            "The total unique values for Weight1000lb feature is 346\n",
            "The total unique values for Seconds0to60 feature is 95\n",
            "The total unique values for Year feature is 13\n",
            "The total unique values for Year70To81 feature is 2\n",
            "The total unique values for Origin feature is 3\n",
            "The total unique values for Origin.Eq.1 feature is 2\n",
            "The total unique values for Origin.Eq.2 feature is 2\n",
            "The total unique values for Origin.Eq.3 feature is 2\n"
          ]
        }
      ]
    },
    {
      "cell_type": "code",
      "source": [
        "#checking the unique values present under Cylinders feature as it has only 5 features.\n",
        "df['Cylinders'].unique()"
      ],
      "metadata": {
        "colab": {
          "base_uri": "https://localhost:8080/"
        },
        "id": "hscdCPQsTl4a",
        "outputId": "61b8218c-ca64-4cda-9595-31d837a80b0d"
      },
      "execution_count": 19,
      "outputs": [
        {
          "output_type": "execute_result",
          "data": {
            "text/plain": [
              "array([8, 4, 6, 3, 5])"
            ]
          },
          "metadata": {},
          "execution_count": 19
        }
      ]
    },
    {
      "cell_type": "code",
      "source": [
        "#checking the unique values present under Origin feature.\n",
        "df['Origin'].unique()"
      ],
      "metadata": {
        "colab": {
          "base_uri": "https://localhost:8080/"
        },
        "id": "hR1YCNf9UX7t",
        "outputId": "c8794372-19d6-49ab-bc2e-3bcf4c24d81d"
      },
      "execution_count": 20,
      "outputs": [
        {
          "output_type": "execute_result",
          "data": {
            "text/plain": [
              "array([1, 3, 2])"
            ]
          },
          "metadata": {},
          "execution_count": 20
        }
      ]
    },
    {
      "cell_type": "code",
      "source": [
        "#creating a copy of the main data\n",
        "data = df.copy()"
      ],
      "metadata": {
        "id": "lTttGcK0XjLW"
      },
      "execution_count": 183,
      "outputs": []
    },
    {
      "cell_type": "code",
      "source": [
        "#getting the number of reocrds and features\n",
        "data.shape"
      ],
      "metadata": {
        "colab": {
          "base_uri": "https://localhost:8080/"
        },
        "id": "5_kLVuyhsJdR",
        "outputId": "fac47eb6-c7bf-42e0-d72f-dea507f76652"
      },
      "execution_count": 184,
      "outputs": [
        {
          "output_type": "execute_result",
          "data": {
            "text/plain": [
              "(392, 15)"
            ]
          },
          "metadata": {},
          "execution_count": 184
        }
      ]
    },
    {
      "cell_type": "code",
      "source": [
        "#creating a new feature origin_name from origin feature as mentioned in the document for better visualisation\n",
        "data['origin_name'] = np.where(data['Origin'] == 1, 'US', np.where(data['Origin'] == 2, 'Europe', 'Japan'))"
      ],
      "metadata": {
        "id": "Ux94zej_tzeY"
      },
      "execution_count": 185,
      "outputs": []
    },
    {
      "cell_type": "code",
      "source": [
        "#changing the datatype of some features to string\n",
        "data[['Cylinders','Year','Year70To81']] = data[['Cylinders','Year','Year70To81']].astype('object')"
      ],
      "metadata": {
        "id": "kKYrFvdn63KX"
      },
      "execution_count": 186,
      "outputs": []
    },
    {
      "cell_type": "code",
      "source": [
        "data.info()"
      ],
      "metadata": {
        "colab": {
          "base_uri": "https://localhost:8080/"
        },
        "id": "UhWJ48Lz8irx",
        "outputId": "5f758d9e-dcca-44b9-bd77-bc31aab6741b"
      },
      "execution_count": 187,
      "outputs": [
        {
          "output_type": "stream",
          "name": "stdout",
          "text": [
            "<class 'pandas.core.frame.DataFrame'>\n",
            "RangeIndex: 392 entries, 0 to 391\n",
            "Data columns (total 16 columns):\n",
            " #   Column                    Non-Null Count  Dtype  \n",
            "---  ------                    --------------  -----  \n",
            " 0   GallonsPer100Miles        392 non-null    float64\n",
            " 1   GallonsPer100MilesTo1981  362 non-null    float64\n",
            " 2   MPG                       392 non-null    float64\n",
            " 3   Cylinders                 392 non-null    object \n",
            " 4   Displacement100ci         392 non-null    float64\n",
            " 5   Horsepower100             392 non-null    float64\n",
            " 6   Weight1000lb              392 non-null    float64\n",
            " 7   Seconds0to60              392 non-null    float64\n",
            " 8   Year                      392 non-null    object \n",
            " 9   Year70To81                392 non-null    object \n",
            " 10  Origin                    392 non-null    int64  \n",
            " 11  Origin.Eq.1               392 non-null    int64  \n",
            " 12  Origin.Eq.2               392 non-null    int64  \n",
            " 13  Origin.Eq.3               392 non-null    int64  \n",
            " 14  Name                      392 non-null    object \n",
            " 15  origin_name               392 non-null    object \n",
            "dtypes: float64(7), int64(4), object(5)\n",
            "memory usage: 49.1+ KB\n"
          ]
        }
      ]
    },
    {
      "cell_type": "code",
      "source": [
        "#getting the count, mean, standard deviation, minimum value, first quartile(25%), second quartile(50%), third quartile(75%) and max value for the numeric features\n",
        "data.describe()"
      ],
      "metadata": {
        "colab": {
          "base_uri": "https://localhost:8080/",
          "height": 364
        },
        "id": "U3WUcRzi8kMZ",
        "outputId": "1fc83ae2-abb2-41f3-ed9c-3511849455ac"
      },
      "execution_count": 188,
      "outputs": [
        {
          "output_type": "execute_result",
          "data": {
            "text/plain": [
              "       GallonsPer100Miles  GallonsPer100MilesTo1981         MPG  \\\n",
              "count          392.000000                362.000000  392.000000   \n",
              "mean             4.782243                  4.912568   23.445918   \n",
              "std              1.663944                  1.659047    7.805007   \n",
              "min              2.145923                  2.145923    9.000000   \n",
              "25%              3.448276                  3.571429   17.000000   \n",
              "50%              4.396135                  4.651163   22.750000   \n",
              "75%              5.882353                  6.024744   29.000000   \n",
              "max             11.111111                 11.111111   46.600000   \n",
              "\n",
              "       Displacement100ci  Horsepower100  Weight1000lb  Seconds0to60  \\\n",
              "count          392.00000     392.000000    392.000000    392.000000   \n",
              "mean             1.94412       1.044694      2.977584     15.541327   \n",
              "std              1.04644       0.384912      0.849403      2.758864   \n",
              "min              0.68000       0.460000      1.613000      8.000000   \n",
              "25%              1.05000       0.750000      2.225250     13.775000   \n",
              "50%              1.51000       0.935000      2.803500     15.500000   \n",
              "75%              2.75750       1.260000      3.614750     17.025000   \n",
              "max              4.55000       2.300000      5.140000     24.800000   \n",
              "\n",
              "           Origin  Origin.Eq.1  Origin.Eq.2  Origin.Eq.3  \n",
              "count  392.000000   392.000000   392.000000   392.000000  \n",
              "mean     1.576531     0.625000     0.173469     0.201531  \n",
              "std      0.805518     0.484742     0.379136     0.401656  \n",
              "min      1.000000     0.000000     0.000000     0.000000  \n",
              "25%      1.000000     0.000000     0.000000     0.000000  \n",
              "50%      1.000000     1.000000     0.000000     0.000000  \n",
              "75%      2.000000     1.000000     0.000000     0.000000  \n",
              "max      3.000000     1.000000     1.000000     1.000000  "
            ],
            "text/html": [
              "\n",
              "  <div id=\"df-31bd975a-5ca0-4367-a34a-72ff2b1d64fe\">\n",
              "    <div class=\"colab-df-container\">\n",
              "      <div>\n",
              "<style scoped>\n",
              "    .dataframe tbody tr th:only-of-type {\n",
              "        vertical-align: middle;\n",
              "    }\n",
              "\n",
              "    .dataframe tbody tr th {\n",
              "        vertical-align: top;\n",
              "    }\n",
              "\n",
              "    .dataframe thead th {\n",
              "        text-align: right;\n",
              "    }\n",
              "</style>\n",
              "<table border=\"1\" class=\"dataframe\">\n",
              "  <thead>\n",
              "    <tr style=\"text-align: right;\">\n",
              "      <th></th>\n",
              "      <th>GallonsPer100Miles</th>\n",
              "      <th>GallonsPer100MilesTo1981</th>\n",
              "      <th>MPG</th>\n",
              "      <th>Displacement100ci</th>\n",
              "      <th>Horsepower100</th>\n",
              "      <th>Weight1000lb</th>\n",
              "      <th>Seconds0to60</th>\n",
              "      <th>Origin</th>\n",
              "      <th>Origin.Eq.1</th>\n",
              "      <th>Origin.Eq.2</th>\n",
              "      <th>Origin.Eq.3</th>\n",
              "    </tr>\n",
              "  </thead>\n",
              "  <tbody>\n",
              "    <tr>\n",
              "      <th>count</th>\n",
              "      <td>392.000000</td>\n",
              "      <td>362.000000</td>\n",
              "      <td>392.000000</td>\n",
              "      <td>392.00000</td>\n",
              "      <td>392.000000</td>\n",
              "      <td>392.000000</td>\n",
              "      <td>392.000000</td>\n",
              "      <td>392.000000</td>\n",
              "      <td>392.000000</td>\n",
              "      <td>392.000000</td>\n",
              "      <td>392.000000</td>\n",
              "    </tr>\n",
              "    <tr>\n",
              "      <th>mean</th>\n",
              "      <td>4.782243</td>\n",
              "      <td>4.912568</td>\n",
              "      <td>23.445918</td>\n",
              "      <td>1.94412</td>\n",
              "      <td>1.044694</td>\n",
              "      <td>2.977584</td>\n",
              "      <td>15.541327</td>\n",
              "      <td>1.576531</td>\n",
              "      <td>0.625000</td>\n",
              "      <td>0.173469</td>\n",
              "      <td>0.201531</td>\n",
              "    </tr>\n",
              "    <tr>\n",
              "      <th>std</th>\n",
              "      <td>1.663944</td>\n",
              "      <td>1.659047</td>\n",
              "      <td>7.805007</td>\n",
              "      <td>1.04644</td>\n",
              "      <td>0.384912</td>\n",
              "      <td>0.849403</td>\n",
              "      <td>2.758864</td>\n",
              "      <td>0.805518</td>\n",
              "      <td>0.484742</td>\n",
              "      <td>0.379136</td>\n",
              "      <td>0.401656</td>\n",
              "    </tr>\n",
              "    <tr>\n",
              "      <th>min</th>\n",
              "      <td>2.145923</td>\n",
              "      <td>2.145923</td>\n",
              "      <td>9.000000</td>\n",
              "      <td>0.68000</td>\n",
              "      <td>0.460000</td>\n",
              "      <td>1.613000</td>\n",
              "      <td>8.000000</td>\n",
              "      <td>1.000000</td>\n",
              "      <td>0.000000</td>\n",
              "      <td>0.000000</td>\n",
              "      <td>0.000000</td>\n",
              "    </tr>\n",
              "    <tr>\n",
              "      <th>25%</th>\n",
              "      <td>3.448276</td>\n",
              "      <td>3.571429</td>\n",
              "      <td>17.000000</td>\n",
              "      <td>1.05000</td>\n",
              "      <td>0.750000</td>\n",
              "      <td>2.225250</td>\n",
              "      <td>13.775000</td>\n",
              "      <td>1.000000</td>\n",
              "      <td>0.000000</td>\n",
              "      <td>0.000000</td>\n",
              "      <td>0.000000</td>\n",
              "    </tr>\n",
              "    <tr>\n",
              "      <th>50%</th>\n",
              "      <td>4.396135</td>\n",
              "      <td>4.651163</td>\n",
              "      <td>22.750000</td>\n",
              "      <td>1.51000</td>\n",
              "      <td>0.935000</td>\n",
              "      <td>2.803500</td>\n",
              "      <td>15.500000</td>\n",
              "      <td>1.000000</td>\n",
              "      <td>1.000000</td>\n",
              "      <td>0.000000</td>\n",
              "      <td>0.000000</td>\n",
              "    </tr>\n",
              "    <tr>\n",
              "      <th>75%</th>\n",
              "      <td>5.882353</td>\n",
              "      <td>6.024744</td>\n",
              "      <td>29.000000</td>\n",
              "      <td>2.75750</td>\n",
              "      <td>1.260000</td>\n",
              "      <td>3.614750</td>\n",
              "      <td>17.025000</td>\n",
              "      <td>2.000000</td>\n",
              "      <td>1.000000</td>\n",
              "      <td>0.000000</td>\n",
              "      <td>0.000000</td>\n",
              "    </tr>\n",
              "    <tr>\n",
              "      <th>max</th>\n",
              "      <td>11.111111</td>\n",
              "      <td>11.111111</td>\n",
              "      <td>46.600000</td>\n",
              "      <td>4.55000</td>\n",
              "      <td>2.300000</td>\n",
              "      <td>5.140000</td>\n",
              "      <td>24.800000</td>\n",
              "      <td>3.000000</td>\n",
              "      <td>1.000000</td>\n",
              "      <td>1.000000</td>\n",
              "      <td>1.000000</td>\n",
              "    </tr>\n",
              "  </tbody>\n",
              "</table>\n",
              "</div>\n",
              "      <button class=\"colab-df-convert\" onclick=\"convertToInteractive('df-31bd975a-5ca0-4367-a34a-72ff2b1d64fe')\"\n",
              "              title=\"Convert this dataframe to an interactive table.\"\n",
              "              style=\"display:none;\">\n",
              "        \n",
              "  <svg xmlns=\"http://www.w3.org/2000/svg\" height=\"24px\"viewBox=\"0 0 24 24\"\n",
              "       width=\"24px\">\n",
              "    <path d=\"M0 0h24v24H0V0z\" fill=\"none\"/>\n",
              "    <path d=\"M18.56 5.44l.94 2.06.94-2.06 2.06-.94-2.06-.94-.94-2.06-.94 2.06-2.06.94zm-11 1L8.5 8.5l.94-2.06 2.06-.94-2.06-.94L8.5 2.5l-.94 2.06-2.06.94zm10 10l.94 2.06.94-2.06 2.06-.94-2.06-.94-.94-2.06-.94 2.06-2.06.94z\"/><path d=\"M17.41 7.96l-1.37-1.37c-.4-.4-.92-.59-1.43-.59-.52 0-1.04.2-1.43.59L10.3 9.45l-7.72 7.72c-.78.78-.78 2.05 0 2.83L4 21.41c.39.39.9.59 1.41.59.51 0 1.02-.2 1.41-.59l7.78-7.78 2.81-2.81c.8-.78.8-2.07 0-2.86zM5.41 20L4 18.59l7.72-7.72 1.47 1.35L5.41 20z\"/>\n",
              "  </svg>\n",
              "      </button>\n",
              "      \n",
              "  <style>\n",
              "    .colab-df-container {\n",
              "      display:flex;\n",
              "      flex-wrap:wrap;\n",
              "      gap: 12px;\n",
              "    }\n",
              "\n",
              "    .colab-df-convert {\n",
              "      background-color: #E8F0FE;\n",
              "      border: none;\n",
              "      border-radius: 50%;\n",
              "      cursor: pointer;\n",
              "      display: none;\n",
              "      fill: #1967D2;\n",
              "      height: 32px;\n",
              "      padding: 0 0 0 0;\n",
              "      width: 32px;\n",
              "    }\n",
              "\n",
              "    .colab-df-convert:hover {\n",
              "      background-color: #E2EBFA;\n",
              "      box-shadow: 0px 1px 2px rgba(60, 64, 67, 0.3), 0px 1px 3px 1px rgba(60, 64, 67, 0.15);\n",
              "      fill: #174EA6;\n",
              "    }\n",
              "\n",
              "    [theme=dark] .colab-df-convert {\n",
              "      background-color: #3B4455;\n",
              "      fill: #D2E3FC;\n",
              "    }\n",
              "\n",
              "    [theme=dark] .colab-df-convert:hover {\n",
              "      background-color: #434B5C;\n",
              "      box-shadow: 0px 1px 3px 1px rgba(0, 0, 0, 0.15);\n",
              "      filter: drop-shadow(0px 1px 2px rgba(0, 0, 0, 0.3));\n",
              "      fill: #FFFFFF;\n",
              "    }\n",
              "  </style>\n",
              "\n",
              "      <script>\n",
              "        const buttonEl =\n",
              "          document.querySelector('#df-31bd975a-5ca0-4367-a34a-72ff2b1d64fe button.colab-df-convert');\n",
              "        buttonEl.style.display =\n",
              "          google.colab.kernel.accessAllowed ? 'block' : 'none';\n",
              "\n",
              "        async function convertToInteractive(key) {\n",
              "          const element = document.querySelector('#df-31bd975a-5ca0-4367-a34a-72ff2b1d64fe');\n",
              "          const dataTable =\n",
              "            await google.colab.kernel.invokeFunction('convertToInteractive',\n",
              "                                                     [key], {});\n",
              "          if (!dataTable) return;\n",
              "\n",
              "          const docLinkHtml = 'Like what you see? Visit the ' +\n",
              "            '<a target=\"_blank\" href=https://colab.research.google.com/notebooks/data_table.ipynb>data table notebook</a>'\n",
              "            + ' to learn more about interactive tables.';\n",
              "          element.innerHTML = '';\n",
              "          dataTable['output_type'] = 'display_data';\n",
              "          await google.colab.output.renderOutput(dataTable, element);\n",
              "          const docLink = document.createElement('div');\n",
              "          docLink.innerHTML = docLinkHtml;\n",
              "          element.appendChild(docLink);\n",
              "        }\n",
              "      </script>\n",
              "    </div>\n",
              "  </div>\n",
              "  "
            ]
          },
          "metadata": {},
          "execution_count": 188
        }
      ]
    },
    {
      "cell_type": "code",
      "source": [
        "#getting the count, number of unique values, top(the value which has the highest frequency) and freq(the number of times the top value has appeared)\n",
        "data.describe(include = 'object')"
      ],
      "metadata": {
        "colab": {
          "base_uri": "https://localhost:8080/",
          "height": 175
        },
        "id": "l72MNoFm88MC",
        "outputId": "d4f338a4-3b8a-401c-84ac-388504647f16"
      },
      "execution_count": 189,
      "outputs": [
        {
          "output_type": "execute_result",
          "data": {
            "text/plain": [
              "        Cylinders  Year  Year70To81         Name origin_name\n",
              "count         392   392         392          392         392\n",
              "unique          5    13           2          301           3\n",
              "top             4    73           1  amc matador          US\n",
              "freq          199    40         362            5         245"
            ],
            "text/html": [
              "\n",
              "  <div id=\"df-700940c5-21ca-473b-986d-711cf2c71d9e\">\n",
              "    <div class=\"colab-df-container\">\n",
              "      <div>\n",
              "<style scoped>\n",
              "    .dataframe tbody tr th:only-of-type {\n",
              "        vertical-align: middle;\n",
              "    }\n",
              "\n",
              "    .dataframe tbody tr th {\n",
              "        vertical-align: top;\n",
              "    }\n",
              "\n",
              "    .dataframe thead th {\n",
              "        text-align: right;\n",
              "    }\n",
              "</style>\n",
              "<table border=\"1\" class=\"dataframe\">\n",
              "  <thead>\n",
              "    <tr style=\"text-align: right;\">\n",
              "      <th></th>\n",
              "      <th>Cylinders</th>\n",
              "      <th>Year</th>\n",
              "      <th>Year70To81</th>\n",
              "      <th>Name</th>\n",
              "      <th>origin_name</th>\n",
              "    </tr>\n",
              "  </thead>\n",
              "  <tbody>\n",
              "    <tr>\n",
              "      <th>count</th>\n",
              "      <td>392</td>\n",
              "      <td>392</td>\n",
              "      <td>392</td>\n",
              "      <td>392</td>\n",
              "      <td>392</td>\n",
              "    </tr>\n",
              "    <tr>\n",
              "      <th>unique</th>\n",
              "      <td>5</td>\n",
              "      <td>13</td>\n",
              "      <td>2</td>\n",
              "      <td>301</td>\n",
              "      <td>3</td>\n",
              "    </tr>\n",
              "    <tr>\n",
              "      <th>top</th>\n",
              "      <td>4</td>\n",
              "      <td>73</td>\n",
              "      <td>1</td>\n",
              "      <td>amc matador</td>\n",
              "      <td>US</td>\n",
              "    </tr>\n",
              "    <tr>\n",
              "      <th>freq</th>\n",
              "      <td>199</td>\n",
              "      <td>40</td>\n",
              "      <td>362</td>\n",
              "      <td>5</td>\n",
              "      <td>245</td>\n",
              "    </tr>\n",
              "  </tbody>\n",
              "</table>\n",
              "</div>\n",
              "      <button class=\"colab-df-convert\" onclick=\"convertToInteractive('df-700940c5-21ca-473b-986d-711cf2c71d9e')\"\n",
              "              title=\"Convert this dataframe to an interactive table.\"\n",
              "              style=\"display:none;\">\n",
              "        \n",
              "  <svg xmlns=\"http://www.w3.org/2000/svg\" height=\"24px\"viewBox=\"0 0 24 24\"\n",
              "       width=\"24px\">\n",
              "    <path d=\"M0 0h24v24H0V0z\" fill=\"none\"/>\n",
              "    <path d=\"M18.56 5.44l.94 2.06.94-2.06 2.06-.94-2.06-.94-.94-2.06-.94 2.06-2.06.94zm-11 1L8.5 8.5l.94-2.06 2.06-.94-2.06-.94L8.5 2.5l-.94 2.06-2.06.94zm10 10l.94 2.06.94-2.06 2.06-.94-2.06-.94-.94-2.06-.94 2.06-2.06.94z\"/><path d=\"M17.41 7.96l-1.37-1.37c-.4-.4-.92-.59-1.43-.59-.52 0-1.04.2-1.43.59L10.3 9.45l-7.72 7.72c-.78.78-.78 2.05 0 2.83L4 21.41c.39.39.9.59 1.41.59.51 0 1.02-.2 1.41-.59l7.78-7.78 2.81-2.81c.8-.78.8-2.07 0-2.86zM5.41 20L4 18.59l7.72-7.72 1.47 1.35L5.41 20z\"/>\n",
              "  </svg>\n",
              "      </button>\n",
              "      \n",
              "  <style>\n",
              "    .colab-df-container {\n",
              "      display:flex;\n",
              "      flex-wrap:wrap;\n",
              "      gap: 12px;\n",
              "    }\n",
              "\n",
              "    .colab-df-convert {\n",
              "      background-color: #E8F0FE;\n",
              "      border: none;\n",
              "      border-radius: 50%;\n",
              "      cursor: pointer;\n",
              "      display: none;\n",
              "      fill: #1967D2;\n",
              "      height: 32px;\n",
              "      padding: 0 0 0 0;\n",
              "      width: 32px;\n",
              "    }\n",
              "\n",
              "    .colab-df-convert:hover {\n",
              "      background-color: #E2EBFA;\n",
              "      box-shadow: 0px 1px 2px rgba(60, 64, 67, 0.3), 0px 1px 3px 1px rgba(60, 64, 67, 0.15);\n",
              "      fill: #174EA6;\n",
              "    }\n",
              "\n",
              "    [theme=dark] .colab-df-convert {\n",
              "      background-color: #3B4455;\n",
              "      fill: #D2E3FC;\n",
              "    }\n",
              "\n",
              "    [theme=dark] .colab-df-convert:hover {\n",
              "      background-color: #434B5C;\n",
              "      box-shadow: 0px 1px 3px 1px rgba(0, 0, 0, 0.15);\n",
              "      filter: drop-shadow(0px 1px 2px rgba(0, 0, 0, 0.3));\n",
              "      fill: #FFFFFF;\n",
              "    }\n",
              "  </style>\n",
              "\n",
              "      <script>\n",
              "        const buttonEl =\n",
              "          document.querySelector('#df-700940c5-21ca-473b-986d-711cf2c71d9e button.colab-df-convert');\n",
              "        buttonEl.style.display =\n",
              "          google.colab.kernel.accessAllowed ? 'block' : 'none';\n",
              "\n",
              "        async function convertToInteractive(key) {\n",
              "          const element = document.querySelector('#df-700940c5-21ca-473b-986d-711cf2c71d9e');\n",
              "          const dataTable =\n",
              "            await google.colab.kernel.invokeFunction('convertToInteractive',\n",
              "                                                     [key], {});\n",
              "          if (!dataTable) return;\n",
              "\n",
              "          const docLinkHtml = 'Like what you see? Visit the ' +\n",
              "            '<a target=\"_blank\" href=https://colab.research.google.com/notebooks/data_table.ipynb>data table notebook</a>'\n",
              "            + ' to learn more about interactive tables.';\n",
              "          element.innerHTML = '';\n",
              "          dataTable['output_type'] = 'display_data';\n",
              "          await google.colab.output.renderOutput(dataTable, element);\n",
              "          const docLink = document.createElement('div');\n",
              "          docLink.innerHTML = docLinkHtml;\n",
              "          element.appendChild(docLink);\n",
              "        }\n",
              "      </script>\n",
              "    </div>\n",
              "  </div>\n",
              "  "
            ]
          },
          "metadata": {},
          "execution_count": 189
        }
      ]
    },
    {
      "cell_type": "code",
      "source": [
        "#checking for duplicate records in the data\n",
        "duplicate = data[data.duplicated()]\n",
        "duplicate"
      ],
      "metadata": {
        "colab": {
          "base_uri": "https://localhost:8080/",
          "height": 113
        },
        "id": "wT9z9TlX9Ay8",
        "outputId": "2bf79af6-c16a-4920-be8c-7f80aeeaadf7"
      },
      "execution_count": 190,
      "outputs": [
        {
          "output_type": "execute_result",
          "data": {
            "text/plain": [
              "Empty DataFrame\n",
              "Columns: [GallonsPer100Miles, GallonsPer100MilesTo1981, MPG, Cylinders, Displacement100ci, Horsepower100, Weight1000lb, Seconds0to60, Year, Year70To81, Origin, Origin.Eq.1, Origin.Eq.2, Origin.Eq.3, Name, origin_name]\n",
              "Index: []"
            ],
            "text/html": [
              "\n",
              "  <div id=\"df-ffa02801-c203-44e4-9e68-0b5f9836be72\">\n",
              "    <div class=\"colab-df-container\">\n",
              "      <div>\n",
              "<style scoped>\n",
              "    .dataframe tbody tr th:only-of-type {\n",
              "        vertical-align: middle;\n",
              "    }\n",
              "\n",
              "    .dataframe tbody tr th {\n",
              "        vertical-align: top;\n",
              "    }\n",
              "\n",
              "    .dataframe thead th {\n",
              "        text-align: right;\n",
              "    }\n",
              "</style>\n",
              "<table border=\"1\" class=\"dataframe\">\n",
              "  <thead>\n",
              "    <tr style=\"text-align: right;\">\n",
              "      <th></th>\n",
              "      <th>GallonsPer100Miles</th>\n",
              "      <th>GallonsPer100MilesTo1981</th>\n",
              "      <th>MPG</th>\n",
              "      <th>Cylinders</th>\n",
              "      <th>Displacement100ci</th>\n",
              "      <th>Horsepower100</th>\n",
              "      <th>Weight1000lb</th>\n",
              "      <th>Seconds0to60</th>\n",
              "      <th>Year</th>\n",
              "      <th>Year70To81</th>\n",
              "      <th>Origin</th>\n",
              "      <th>Origin.Eq.1</th>\n",
              "      <th>Origin.Eq.2</th>\n",
              "      <th>Origin.Eq.3</th>\n",
              "      <th>Name</th>\n",
              "      <th>origin_name</th>\n",
              "    </tr>\n",
              "  </thead>\n",
              "  <tbody>\n",
              "  </tbody>\n",
              "</table>\n",
              "</div>\n",
              "      <button class=\"colab-df-convert\" onclick=\"convertToInteractive('df-ffa02801-c203-44e4-9e68-0b5f9836be72')\"\n",
              "              title=\"Convert this dataframe to an interactive table.\"\n",
              "              style=\"display:none;\">\n",
              "        \n",
              "  <svg xmlns=\"http://www.w3.org/2000/svg\" height=\"24px\"viewBox=\"0 0 24 24\"\n",
              "       width=\"24px\">\n",
              "    <path d=\"M0 0h24v24H0V0z\" fill=\"none\"/>\n",
              "    <path d=\"M18.56 5.44l.94 2.06.94-2.06 2.06-.94-2.06-.94-.94-2.06-.94 2.06-2.06.94zm-11 1L8.5 8.5l.94-2.06 2.06-.94-2.06-.94L8.5 2.5l-.94 2.06-2.06.94zm10 10l.94 2.06.94-2.06 2.06-.94-2.06-.94-.94-2.06-.94 2.06-2.06.94z\"/><path d=\"M17.41 7.96l-1.37-1.37c-.4-.4-.92-.59-1.43-.59-.52 0-1.04.2-1.43.59L10.3 9.45l-7.72 7.72c-.78.78-.78 2.05 0 2.83L4 21.41c.39.39.9.59 1.41.59.51 0 1.02-.2 1.41-.59l7.78-7.78 2.81-2.81c.8-.78.8-2.07 0-2.86zM5.41 20L4 18.59l7.72-7.72 1.47 1.35L5.41 20z\"/>\n",
              "  </svg>\n",
              "      </button>\n",
              "      \n",
              "  <style>\n",
              "    .colab-df-container {\n",
              "      display:flex;\n",
              "      flex-wrap:wrap;\n",
              "      gap: 12px;\n",
              "    }\n",
              "\n",
              "    .colab-df-convert {\n",
              "      background-color: #E8F0FE;\n",
              "      border: none;\n",
              "      border-radius: 50%;\n",
              "      cursor: pointer;\n",
              "      display: none;\n",
              "      fill: #1967D2;\n",
              "      height: 32px;\n",
              "      padding: 0 0 0 0;\n",
              "      width: 32px;\n",
              "    }\n",
              "\n",
              "    .colab-df-convert:hover {\n",
              "      background-color: #E2EBFA;\n",
              "      box-shadow: 0px 1px 2px rgba(60, 64, 67, 0.3), 0px 1px 3px 1px rgba(60, 64, 67, 0.15);\n",
              "      fill: #174EA6;\n",
              "    }\n",
              "\n",
              "    [theme=dark] .colab-df-convert {\n",
              "      background-color: #3B4455;\n",
              "      fill: #D2E3FC;\n",
              "    }\n",
              "\n",
              "    [theme=dark] .colab-df-convert:hover {\n",
              "      background-color: #434B5C;\n",
              "      box-shadow: 0px 1px 3px 1px rgba(0, 0, 0, 0.15);\n",
              "      filter: drop-shadow(0px 1px 2px rgba(0, 0, 0, 0.3));\n",
              "      fill: #FFFFFF;\n",
              "    }\n",
              "  </style>\n",
              "\n",
              "      <script>\n",
              "        const buttonEl =\n",
              "          document.querySelector('#df-ffa02801-c203-44e4-9e68-0b5f9836be72 button.colab-df-convert');\n",
              "        buttonEl.style.display =\n",
              "          google.colab.kernel.accessAllowed ? 'block' : 'none';\n",
              "\n",
              "        async function convertToInteractive(key) {\n",
              "          const element = document.querySelector('#df-ffa02801-c203-44e4-9e68-0b5f9836be72');\n",
              "          const dataTable =\n",
              "            await google.colab.kernel.invokeFunction('convertToInteractive',\n",
              "                                                     [key], {});\n",
              "          if (!dataTable) return;\n",
              "\n",
              "          const docLinkHtml = 'Like what you see? Visit the ' +\n",
              "            '<a target=\"_blank\" href=https://colab.research.google.com/notebooks/data_table.ipynb>data table notebook</a>'\n",
              "            + ' to learn more about interactive tables.';\n",
              "          element.innerHTML = '';\n",
              "          dataTable['output_type'] = 'display_data';\n",
              "          await google.colab.output.renderOutput(dataTable, element);\n",
              "          const docLink = document.createElement('div');\n",
              "          docLink.innerHTML = docLinkHtml;\n",
              "          element.appendChild(docLink);\n",
              "        }\n",
              "      </script>\n",
              "    </div>\n",
              "  </div>\n",
              "  "
            ]
          },
          "metadata": {},
          "execution_count": 190
        }
      ]
    },
    {
      "cell_type": "markdown",
      "source": [
        "There are no duplicate records in the data"
      ],
      "metadata": {
        "id": "3Opd8VAP9yhJ"
      }
    },
    {
      "cell_type": "markdown",
      "source": [
        "# Univariate Analysis"
      ],
      "metadata": {
        "id": "mErJtQho-TwF"
      }
    },
    {
      "cell_type": "markdown",
      "source": [
        "## For categorical Features"
      ],
      "metadata": {
        "id": "GLxo7YuV-jlV"
      }
    },
    {
      "cell_type": "code",
      "source": [
        "data_cylinders = sns.countplot(x = 'Cylinders', data = data)\n",
        "plt.show()\n",
        "data['Cylinders'].value_counts()"
      ],
      "metadata": {
        "colab": {
          "base_uri": "https://localhost:8080/",
          "height": 0
        },
        "id": "c8ylzEDB93b2",
        "outputId": "4c8a0b18-8bd7-400d-e039-6f95dec47bde"
      },
      "execution_count": 191,
      "outputs": [
        {
          "output_type": "display_data",
          "data": {
            "text/plain": [
              "<Figure size 432x288 with 1 Axes>"
            ],
            "image/png": "[encoded data removed]"
          },
          "metadata": {
            "needs_background": "light"
          }
        },
        {
          "output_type": "execute_result",
          "data": {
            "text/plain": [
              "4    199\n",
              "8    103\n",
              "6     83\n",
              "3      4\n",
              "5      3\n",
              "Name: Cylinders, dtype: int64"
            ]
          },
          "metadata": {},
          "execution_count": 191
        }
      ]
    },
    {
      "cell_type": "markdown",
      "source": [
        "Cars with cylinder 4 were sold the highest and then followed by 8 and 6 cylinder cars. Cars with 3 and 5 cylinders were the lowest in number of sales."
      ],
      "metadata": {
        "id": "-fPLmyT8GrxU"
      }
    },
    {
      "cell_type": "code",
      "source": [
        "data_years = sns.countplot(x = 'Year', data = data)\n",
        "plt.show()\n",
        "data['Year'].value_counts()"
      ],
      "metadata": {
        "colab": {
          "base_uri": "https://localhost:8080/",
          "height": 0
        },
        "id": "ACxxHTSV_SsG",
        "outputId": "d83aa859-3742-4ffc-a797-4d2589db6c50"
      },
      "execution_count": 192,
      "outputs": [
        {
          "output_type": "display_data",
          "data": {
            "text/plain": [
              "<Figure size 432x288 with 1 Axes>"
            ],
            "image/png": "[encoded data removed]"
          },
          "metadata": {
            "needs_background": "light"
          }
        },
        {
          "output_type": "execute_result",
          "data": {
            "text/plain": [
              "73    40\n",
              "78    36\n",
              "76    34\n",
              "75    30\n",
              "82    30\n",
              "70    29\n",
              "79    29\n",
              "72    28\n",
              "77    28\n",
              "81    28\n",
              "71    27\n",
              "80    27\n",
              "74    26\n",
              "Name: Year, dtype: int64"
            ]
          },
          "metadata": {},
          "execution_count": 192
        }
      ]
    },
    {
      "cell_type": "markdown",
      "source": [
        "The highest number of cars sold was in year 1973 followed by 1978, 1976 respectively."
      ],
      "metadata": {
        "id": "X6MjuBiEolla"
      }
    },
    {
      "cell_type": "code",
      "source": [
        "data_origin_name = sns.countplot(x = 'origin_name', data = data)\n",
        "plt.show()\n",
        "data['origin_name'].value_counts()"
      ],
      "metadata": {
        "colab": {
          "base_uri": "https://localhost:8080/",
          "height": 0
        },
        "id": "X1Tmp_6QDhqe",
        "outputId": "0b87136f-62f7-4d72-8c1f-3ab2d466593d"
      },
      "execution_count": 193,
      "outputs": [
        {
          "output_type": "display_data",
          "data": {
            "text/plain": [
              "<Figure size 432x288 with 1 Axes>"
            ],
            "image/png": "[encoded data removed]"
          },
          "metadata": {
            "needs_background": "light"
          }
        },
        {
          "output_type": "execute_result",
          "data": {
            "text/plain": [
              "US        245\n",
              "Japan      79\n",
              "Europe     68\n",
              "Name: origin_name, dtype: int64"
            ]
          },
          "metadata": {},
          "execution_count": 193
        }
      ]
    },
    {
      "cell_type": "markdown",
      "source": [
        "Most of the cars sold in US from 1970 to 1981 are from US origin itself. Sales of Japan origin cars were better than Europe origin cars in US."
      ],
      "metadata": {
        "id": "WhVAdPTlIgs0"
      }
    },
    {
      "cell_type": "markdown",
      "source": [
        "## For Numeric Features"
      ],
      "metadata": {
        "id": "G6oIOyjX9AKr"
      }
    },
    {
      "cell_type": "markdown",
      "source": [
        "\"GallonsPer100Miles\" and \"MPG\" features show the same data. we can calculate one from the other feature, so here I will be working with MPG"
      ],
      "metadata": {
        "id": "tO6sQ-y2DqVD"
      }
    },
    {
      "cell_type": "code",
      "source": [
        "#checking the MPG feature\n",
        "plt.figure(figsize = (6,4))\n",
        "fig = sns.boxplot(x = 'MPG', data = data)\n",
        "\n",
        "plt.figure(figsize = (6,4))\n",
        "sns.histplot(data['MPG'],bins = 10, kde = True)\n",
        "\n",
        "data['MPG'].describe()"
      ],
      "metadata": {
        "colab": {
          "base_uri": "https://localhost:8080/",
          "height": 0
        },
        "id": "369h1fU0OQQN",
        "outputId": "d77be942-7705-4006-dc3c-096d3a912cda"
      },
      "execution_count": 194,
      "outputs": [
        {
          "output_type": "execute_result",
          "data": {
            "text/plain": [
              "count    392.000000\n",
              "mean      23.445918\n",
              "std        7.805007\n",
              "min        9.000000\n",
              "25%       17.000000\n",
              "50%       22.750000\n",
              "75%       29.000000\n",
              "max       46.600000\n",
              "Name: MPG, dtype: float64"
            ]
          },
          "metadata": {},
          "execution_count": 194
        },
        {
          "output_type": "display_data",
          "data": {
            "text/plain": [
              "<Figure size 432x288 with 1 Axes>"
            ],
            "image/png": "[encoded data removed]"
          },
          "metadata": {
            "needs_background": "light"
          }
        },
        {
          "output_type": "display_data",
          "data": {
            "text/plain": [
              "<Figure size 432x288 with 1 Axes>"
            ],
            "image/png": "[encoded data removed]"
          },
          "metadata": {
            "needs_background": "light"
          }
        }
      ]
    },
    {
      "cell_type": "markdown",
      "source": [
        "There are no outliers present in the \"MPG\" feature. We can see that the data is slightly right skewed."
      ],
      "metadata": {
        "id": "eAjGR_aOGLXM"
      }
    },
    {
      "cell_type": "code",
      "source": [
        "plt.figure(figsize = (6,4))\n",
        "fig = sns.boxplot(x = 'Displacement100ci', data = data)\n",
        "\n",
        "plt.figure(figsize = (6,4))\n",
        "sns.histplot(data['Displacement100ci'],bins = 20, kde = True)\n",
        "\n",
        "data['Displacement100ci'].describe()"
      ],
      "metadata": {
        "colab": {
          "base_uri": "https://localhost:8080/",
          "height": 0
        },
        "id": "uga2PAk-PcQK",
        "outputId": "a2810ed9-ab0b-4742-f13e-07bdc485df58"
      },
      "execution_count": 195,
      "outputs": [
        {
          "output_type": "execute_result",
          "data": {
            "text/plain": [
              "count    392.00000\n",
              "mean       1.94412\n",
              "std        1.04644\n",
              "min        0.68000\n",
              "25%        1.05000\n",
              "50%        1.51000\n",
              "75%        2.75750\n",
              "max        4.55000\n",
              "Name: Displacement100ci, dtype: float64"
            ]
          },
          "metadata": {},
          "execution_count": 195
        },
        {
          "output_type": "display_data",
          "data": {
            "text/plain": [
              "<Figure size 432x288 with 1 Axes>"
            ],
            "image/png": "[encoded data removed]"
          },
          "metadata": {
            "needs_background": "light"
          }
        },
        {
          "output_type": "display_data",
          "data": {
            "text/plain": [
              "<Figure size 432x288 with 1 Axes>"
            ],
            "image/png": "[encoded data removed]"
          },
          "metadata": {
            "needs_background": "light"
          }
        }
      ]
    },
    {
      "cell_type": "markdown",
      "source": [
        "The \"Displacement100ci\" has no outliers but is highly right skewed."
      ],
      "metadata": {
        "id": "sD6qw2XIGg4G"
      }
    },
    {
      "cell_type": "code",
      "source": [
        "plt.figure(figsize = (6,4))\n",
        "fig = sns.boxplot(x = 'Horsepower100', data = data)\n",
        "\n",
        "plt.figure(figsize = (6,4))\n",
        "sns.histplot(data['Horsepower100'],bins = 20, kde = True)\n",
        "\n",
        "data['Horsepower100'].describe()"
      ],
      "metadata": {
        "colab": {
          "base_uri": "https://localhost:8080/",
          "height": 0
        },
        "id": "m9Ob-aP9PtVK",
        "outputId": "d291c11f-10d0-42a5-8af9-d05d520c0d7b"
      },
      "execution_count": 196,
      "outputs": [
        {
          "output_type": "execute_result",
          "data": {
            "text/plain": [
              "count    392.000000\n",
              "mean       1.044694\n",
              "std        0.384912\n",
              "min        0.460000\n",
              "25%        0.750000\n",
              "50%        0.935000\n",
              "75%        1.260000\n",
              "max        2.300000\n",
              "Name: Horsepower100, dtype: float64"
            ]
          },
          "metadata": {},
          "execution_count": 196
        },
        {
          "output_type": "display_data",
          "data": {
            "text/plain": [
              "<Figure size 432x288 with 1 Axes>"
            ],
            "image/png": "[encoded data removed]"
          },
          "metadata": {
            "needs_background": "light"
          }
        },
        {
          "output_type": "display_data",
          "data": {
            "text/plain": [
              "<Figure size 432x288 with 1 Axes>"
            ],
            "image/png": "[encoded data removed]"
          },
          "metadata": {
            "needs_background": "light"
          }
        }
      ]
    },
    {
      "cell_type": "markdown",
      "source": [
        "Here we can see that there are outliers for the \"Horsepower100\" feature. \n"
      ],
      "metadata": {
        "id": "PXcTmgnmGyUB"
      }
    },
    {
      "cell_type": "markdown",
      "source": [
        "IQR = (Q3 - Q1) and upper limit = Q3 + 1.5 IQR and lower limit = Q1- 1.5 IQR.\n",
        "In this case for Horsepower100, IQR = 1.26 - 0.75 = 0.51. So upper limit is 1.26 + 1.5*0.51 = 2.025"
      ],
      "metadata": {
        "id": "O-9npkiHl17l"
      }
    },
    {
      "cell_type": "code",
      "source": [
        "outliers_percent = len(data[data['Horsepower100'] > 2.025])/len(data)*100\n",
        "print(\"The percentage of outliers present in Horsepower100 feature out of the total data is {0:.2f}%\".format(outliers_percent))"
      ],
      "metadata": {
        "colab": {
          "base_uri": "https://localhost:8080/"
        },
        "id": "ImMVSA1KqHZ7",
        "outputId": "8b0697bb-35dc-4c08-bbcb-34abf9c28c95"
      },
      "execution_count": 197,
      "outputs": [
        {
          "output_type": "stream",
          "name": "stdout",
          "text": [
            "The percentage of outliers present in Horsepower100 feature out of the total data is 2.55%\n"
          ]
        }
      ]
    },
    {
      "cell_type": "code",
      "source": [
        "plt.figure(figsize = (6,4))\n",
        "fig = sns.boxplot(x = 'Weight1000lb', data = data)\n",
        "\n",
        "plt.figure(figsize = (6,4))\n",
        "sns.histplot(data['Weight1000lb'],bins = 20, kde = True)\n",
        "\n",
        "data['Weight1000lb'].describe()"
      ],
      "metadata": {
        "colab": {
          "base_uri": "https://localhost:8080/",
          "height": 0
        },
        "id": "Xj67NlcGQIW1",
        "outputId": "876ceda5-b290-4fae-fefc-0c776d53c1cf"
      },
      "execution_count": 198,
      "outputs": [
        {
          "output_type": "execute_result",
          "data": {
            "text/plain": [
              "count    392.000000\n",
              "mean       2.977584\n",
              "std        0.849403\n",
              "min        1.613000\n",
              "25%        2.225250\n",
              "50%        2.803500\n",
              "75%        3.614750\n",
              "max        5.140000\n",
              "Name: Weight1000lb, dtype: float64"
            ]
          },
          "metadata": {},
          "execution_count": 198
        },
        {
          "output_type": "display_data",
          "data": {
            "text/plain": [
              "<Figure size 432x288 with 1 Axes>"
            ],
            "image/png": "[encoded data removed]"
          },
          "metadata": {
            "needs_background": "light"
          }
        },
        {
          "output_type": "display_data",
          "data": {
            "text/plain": [
              "<Figure size 432x288 with 1 Axes>"
            ],
            "image/png": "[encoded data removed]"
          },
          "metadata": {
            "needs_background": "light"
          }
        }
      ]
    },
    {
      "cell_type": "code",
      "source": [
        "plt.figure(figsize = (6,4))\n",
        "fig = sns.boxplot(x = 'Seconds0to60', data = data)\n",
        "\n",
        "plt.figure(figsize = (6,4))\n",
        "sns.distplot(data['Seconds0to60'],bins = 20)\n",
        "\n",
        "data['Seconds0to60'].describe()"
      ],
      "metadata": {
        "colab": {
          "base_uri": "https://localhost:8080/",
          "height": 0
        },
        "id": "5ARKn6NlR0o-",
        "outputId": "223ba445-3541-4766-c58b-511e450da79d"
      },
      "execution_count": 199,
      "outputs": [
        {
          "output_type": "stream",
          "name": "stderr",
          "text": [
            "/usr/local/lib/python3.7/dist-packages/seaborn/distributions.py:2619: FutureWarning: `distplot` is a deprecated function and will be removed in a future version. Please adapt your code to use either `displot` (a figure-level function with similar flexibility) or `histplot` (an axes-level function for histograms).\n",
            "  warnings.warn(msg, FutureWarning)\n"
          ]
        },
        {
          "output_type": "execute_result",
          "data": {
            "text/plain": [
              "count    392.000000\n",
              "mean      15.541327\n",
              "std        2.758864\n",
              "min        8.000000\n",
              "25%       13.775000\n",
              "50%       15.500000\n",
              "75%       17.025000\n",
              "max       24.800000\n",
              "Name: Seconds0to60, dtype: float64"
            ]
          },
          "metadata": {},
          "execution_count": 199
        },
        {
          "output_type": "display_data",
          "data": {
            "text/plain": [
              "<Figure size 432x288 with 1 Axes>"
            ],
            "image/png": "[encoded data removed]"
          },
          "metadata": {
            "needs_background": "light"
          }
        },
        {
          "output_type": "display_data",
          "data": {
            "text/plain": [
              "<Figure size 432x288 with 1 Axes>"
            ],
            "image/png": "[encoded data removed]"
          },
          "metadata": {
            "needs_background": "light"
          }
        }
      ]
    },
    {
      "cell_type": "markdown",
      "source": [
        "In this case, the IQR = 17.025 - 13.775 = 3.25. So the upper limit is 21.9 and lower limit is 8.9"
      ],
      "metadata": {
        "id": "Sk9K_gwwo1_X"
      }
    },
    {
      "cell_type": "code",
      "source": [
        "len(data[data.Seconds0to60 <8.9])"
      ],
      "metadata": {
        "colab": {
          "base_uri": "https://localhost:8080/"
        },
        "id": "y5PzysFS9srL",
        "outputId": "95e6017c-1b3e-4e46-c95d-531572cf1ef9"
      },
      "execution_count": 200,
      "outputs": [
        {
          "output_type": "execute_result",
          "data": {
            "text/plain": [
              "3"
            ]
          },
          "metadata": {},
          "execution_count": 200
        }
      ]
    },
    {
      "cell_type": "code",
      "source": [
        "len(data[data.Seconds0to60 > 21.9])"
      ],
      "metadata": {
        "colab": {
          "base_uri": "https://localhost:8080/"
        },
        "id": "agtCSry993Iz",
        "outputId": "71b1233d-3207-460a-efdc-2056e3913967"
      },
      "execution_count": 201,
      "outputs": [
        {
          "output_type": "execute_result",
          "data": {
            "text/plain": [
              "7"
            ]
          },
          "metadata": {},
          "execution_count": 201
        }
      ]
    },
    {
      "cell_type": "code",
      "source": [
        "outliers_percent = len(data[((data.Seconds0to60 <8.9) | (data.Seconds0to60 > 21.9))])/len(data)*100\n",
        "print(\"The percentage of outliers present in Seconds0to60 feature out of the total data is {0:.2f}%\".format(outliers_percent))"
      ],
      "metadata": {
        "colab": {
          "base_uri": "https://localhost:8080/"
        },
        "id": "Nk3H2vbZt0K4",
        "outputId": "6e2f1983-b8d6-4aaf-c4b0-35e1ae664118"
      },
      "execution_count": 202,
      "outputs": [
        {
          "output_type": "stream",
          "name": "stdout",
          "text": [
            "The percentage of outliers present in Seconds0to60 feature out of the total data is 2.55%\n"
          ]
        }
      ]
    },
    {
      "cell_type": "code",
      "source": [
        "data[((data.Seconds0to60 <8.9) | (data.Seconds0to60 > 21.9)) & (data['Horsepower100'] > 2.025)]"
      ],
      "metadata": {
        "colab": {
          "base_uri": "https://localhost:8080/",
          "height": 0
        },
        "id": "ShW_Bqrureih",
        "outputId": "25eece4d-a132-4641-cb7b-541d2de64451"
      },
      "execution_count": 203,
      "outputs": [
        {
          "output_type": "execute_result",
          "data": {
            "text/plain": [
              "   GallonsPer100Miles  GallonsPer100MilesTo1981   MPG Cylinders  \\\n",
              "7            7.142857                  7.142857  14.0         8   \n",
              "\n",
              "   Displacement100ci  Horsepower100  Weight1000lb  Seconds0to60 Year  \\\n",
              "7                4.4           2.15         4.312           8.5   70   \n",
              "\n",
              "  Year70To81  Origin  Origin.Eq.1  Origin.Eq.2  Origin.Eq.3  \\\n",
              "7          1       1            1            0            0   \n",
              "\n",
              "                Name origin_name  \n",
              "7  plymouth fury iii          US  "
            ],
            "text/html": [
              "\n",
              "  <div id=\"df-9a23f532-cbfc-4c80-9032-7eb9eaddf239\">\n",
              "    <div class=\"colab-df-container\">\n",
              "      <div>\n",
              "<style scoped>\n",
              "    .dataframe tbody tr th:only-of-type {\n",
              "        vertical-align: middle;\n",
              "    }\n",
              "\n",
              "    .dataframe tbody tr th {\n",
              "        vertical-align: top;\n",
              "    }\n",
              "\n",
              "    .dataframe thead th {\n",
              "        text-align: right;\n",
              "    }\n",
              "</style>\n",
              "<table border=\"1\" class=\"dataframe\">\n",
              "  <thead>\n",
              "    <tr style=\"text-align: right;\">\n",
              "      <th></th>\n",
              "      <th>GallonsPer100Miles</th>\n",
              "      <th>GallonsPer100MilesTo1981</th>\n",
              "      <th>MPG</th>\n",
              "      <th>Cylinders</th>\n",
              "      <th>Displacement100ci</th>\n",
              "      <th>Horsepower100</th>\n",
              "      <th>Weight1000lb</th>\n",
              "      <th>Seconds0to60</th>\n",
              "      <th>Year</th>\n",
              "      <th>Year70To81</th>\n",
              "      <th>Origin</th>\n",
              "      <th>Origin.Eq.1</th>\n",
              "      <th>Origin.Eq.2</th>\n",
              "      <th>Origin.Eq.3</th>\n",
              "      <th>Name</th>\n",
              "      <th>origin_name</th>\n",
              "    </tr>\n",
              "  </thead>\n",
              "  <tbody>\n",
              "    <tr>\n",
              "      <th>7</th>\n",
              "      <td>7.142857</td>\n",
              "      <td>7.142857</td>\n",
              "      <td>14.0</td>\n",
              "      <td>8</td>\n",
              "      <td>4.4</td>\n",
              "      <td>2.15</td>\n",
              "      <td>4.312</td>\n",
              "      <td>8.5</td>\n",
              "      <td>70</td>\n",
              "      <td>1</td>\n",
              "      <td>1</td>\n",
              "      <td>1</td>\n",
              "      <td>0</td>\n",
              "      <td>0</td>\n",
              "      <td>plymouth fury iii</td>\n",
              "      <td>US</td>\n",
              "    </tr>\n",
              "  </tbody>\n",
              "</table>\n",
              "</div>\n",
              "      <button class=\"colab-df-convert\" onclick=\"convertToInteractive('df-9a23f532-cbfc-4c80-9032-7eb9eaddf239')\"\n",
              "              title=\"Convert this dataframe to an interactive table.\"\n",
              "              style=\"display:none;\">\n",
              "        \n",
              "  <svg xmlns=\"http://www.w3.org/2000/svg\" height=\"24px\"viewBox=\"0 0 24 24\"\n",
              "       width=\"24px\">\n",
              "    <path d=\"M0 0h24v24H0V0z\" fill=\"none\"/>\n",
              "    <path d=\"M18.56 5.44l.94 2.06.94-2.06 2.06-.94-2.06-.94-.94-2.06-.94 2.06-2.06.94zm-11 1L8.5 8.5l.94-2.06 2.06-.94-2.06-.94L8.5 2.5l-.94 2.06-2.06.94zm10 10l.94 2.06.94-2.06 2.06-.94-2.06-.94-.94-2.06-.94 2.06-2.06.94z\"/><path d=\"M17.41 7.96l-1.37-1.37c-.4-.4-.92-.59-1.43-.59-.52 0-1.04.2-1.43.59L10.3 9.45l-7.72 7.72c-.78.78-.78 2.05 0 2.83L4 21.41c.39.39.9.59 1.41.59.51 0 1.02-.2 1.41-.59l7.78-7.78 2.81-2.81c.8-.78.8-2.07 0-2.86zM5.41 20L4 18.59l7.72-7.72 1.47 1.35L5.41 20z\"/>\n",
              "  </svg>\n",
              "      </button>\n",
              "      \n",
              "  <style>\n",
              "    .colab-df-container {\n",
              "      display:flex;\n",
              "      flex-wrap:wrap;\n",
              "      gap: 12px;\n",
              "    }\n",
              "\n",
              "    .colab-df-convert {\n",
              "      background-color: #E8F0FE;\n",
              "      border: none;\n",
              "      border-radius: 50%;\n",
              "      cursor: pointer;\n",
              "      display: none;\n",
              "      fill: #1967D2;\n",
              "      height: 32px;\n",
              "      padding: 0 0 0 0;\n",
              "      width: 32px;\n",
              "    }\n",
              "\n",
              "    .colab-df-convert:hover {\n",
              "      background-color: #E2EBFA;\n",
              "      box-shadow: 0px 1px 2px rgba(60, 64, 67, 0.3), 0px 1px 3px 1px rgba(60, 64, 67, 0.15);\n",
              "      fill: #174EA6;\n",
              "    }\n",
              "\n",
              "    [theme=dark] .colab-df-convert {\n",
              "      background-color: #3B4455;\n",
              "      fill: #D2E3FC;\n",
              "    }\n",
              "\n",
              "    [theme=dark] .colab-df-convert:hover {\n",
              "      background-color: #434B5C;\n",
              "      box-shadow: 0px 1px 3px 1px rgba(0, 0, 0, 0.15);\n",
              "      filter: drop-shadow(0px 1px 2px rgba(0, 0, 0, 0.3));\n",
              "      fill: #FFFFFF;\n",
              "    }\n",
              "  </style>\n",
              "\n",
              "      <script>\n",
              "        const buttonEl =\n",
              "          document.querySelector('#df-9a23f532-cbfc-4c80-9032-7eb9eaddf239 button.colab-df-convert');\n",
              "        buttonEl.style.display =\n",
              "          google.colab.kernel.accessAllowed ? 'block' : 'none';\n",
              "\n",
              "        async function convertToInteractive(key) {\n",
              "          const element = document.querySelector('#df-9a23f532-cbfc-4c80-9032-7eb9eaddf239');\n",
              "          const dataTable =\n",
              "            await google.colab.kernel.invokeFunction('convertToInteractive',\n",
              "                                                     [key], {});\n",
              "          if (!dataTable) return;\n",
              "\n",
              "          const docLinkHtml = 'Like what you see? Visit the ' +\n",
              "            '<a target=\"_blank\" href=https://colab.research.google.com/notebooks/data_table.ipynb>data table notebook</a>'\n",
              "            + ' to learn more about interactive tables.';\n",
              "          element.innerHTML = '';\n",
              "          dataTable['output_type'] = 'display_data';\n",
              "          await google.colab.output.renderOutput(dataTable, element);\n",
              "          const docLink = document.createElement('div');\n",
              "          docLink.innerHTML = docLinkHtml;\n",
              "          element.appendChild(docLink);\n",
              "        }\n",
              "      </script>\n",
              "    </div>\n",
              "  </div>\n",
              "  "
            ]
          },
          "metadata": {},
          "execution_count": 203
        }
      ]
    },
    {
      "cell_type": "markdown",
      "source": [
        "# Bivariate Analysis\n",
        "\n"
      ],
      "metadata": {
        "id": "AiQkJHLW2BzQ"
      }
    },
    {
      "cell_type": "code",
      "source": [
        "df1 = data.groupby(['Year'],as_index = 0).agg({'MPG':'mean'})\n",
        "plt.figure(figsize = (8,6))\n",
        "df1.rename(columns = {'MPG':'Average_MPG'}, inplace = True)\n",
        "\n",
        "sns.barplot(x = 'Year',y = 'Average_MPG', data = df1)\n",
        "plt.show()"
      ],
      "metadata": {
        "colab": {
          "base_uri": "https://localhost:8080/",
          "height": 0
        },
        "id": "8BFSKUC8CHG1",
        "outputId": "077da2bb-913e-4f0c-bbe2-721ec7759ae7"
      },
      "execution_count": 204,
      "outputs": [
        {
          "output_type": "display_data",
          "data": {
            "text/plain": [
              "<Figure size 576x432 with 1 Axes>"
            ],
            "image/png": "[encoded data removed]"
          },
          "metadata": {
            "needs_background": "light"
          }
        }
      ]
    },
    {
      "cell_type": "markdown",
      "source": [
        "*   The graph shows the average MPG by all cars in each year.\n",
        "*   It shows that as the years are advancing, cars with better mileage are getting sold in the market.\n",
        "\n"
      ],
      "metadata": {
        "id": "l46KwYeg_aEs"
      }
    },
    {
      "cell_type": "code",
      "source": [
        "df1 = data.groupby(['origin_name'],as_index = 0).agg({'MPG':'mean'})\n",
        "plt.figure(figsize = (8,6))\n",
        "df1.rename(columns = {'MPG':'Average_MPG'}, inplace = True)\n",
        "\n",
        "sns.barplot(x = 'origin_name',y = 'Average_MPG', data = df1)\n",
        "plt.show()"
      ],
      "metadata": {
        "colab": {
          "base_uri": "https://localhost:8080/",
          "height": 0
        },
        "id": "AYYWr0dhMktk",
        "outputId": "a64c5745-7463-46b9-d21e-2f74dde83542"
      },
      "execution_count": 205,
      "outputs": [
        {
          "output_type": "display_data",
          "data": {
            "text/plain": [
              "<Figure size 576x432 with 1 Axes>"
            ],
            "image/png": "[encoded data removed]"
          },
          "metadata": {
            "needs_background": "light"
          }
        }
      ]
    },
    {
      "cell_type": "markdown",
      "source": [
        "\n",
        "\n",
        "*   The graph shows the average MPG  in all these years by each of the car origin country.\n",
        "*   Japan origin cars gave the highest average MPG, followed by Europe origin cars.\n",
        "*   US cars though have the highest sales, have the lowest MPG"
      ],
      "metadata": {
        "id": "--9zbGD0AWgq"
      }
    },
    {
      "cell_type": "code",
      "source": [
        "df1 = data.groupby(['Cylinders'],as_index = 0).agg({'MPG':'mean'})\n",
        "plt.figure(figsize = (8,6))\n",
        "df1.rename(columns = {'MPG':'Average_MPG'}, inplace = True)\n",
        "\n",
        "sns.barplot(x = 'Cylinders',y = 'Average_MPG', data = df1)\n",
        "plt.show()"
      ],
      "metadata": {
        "colab": {
          "base_uri": "https://localhost:8080/",
          "height": 0
        },
        "id": "J2RUpMw-Mkk5",
        "outputId": "520e4550-c500-438b-83dd-3af81a89dfc7"
      },
      "execution_count": 206,
      "outputs": [
        {
          "output_type": "display_data",
          "data": {
            "text/plain": [
              "<Figure size 576x432 with 1 Axes>"
            ],
            "image/png": "[encoded data removed]"
          },
          "metadata": {
            "needs_background": "light"
          }
        }
      ]
    },
    {
      "cell_type": "markdown",
      "source": [
        "\n",
        "\n",
        "*   The graph shows the average MPG in all these years by each of the cylinders.\n",
        "\n",
        "\n",
        "\n",
        "*   Cars with 4 cylinders had the highest MPG, followed by 5 cylinders but not much difference between the two.\n",
        "\n",
        "*   Cars with 8 cylinders had the lowest average MPG\n",
        "\n"
      ],
      "metadata": {
        "id": "qWbKjs-LEIig"
      }
    },
    {
      "cell_type": "code",
      "source": [
        "df1 = data.groupby(['Year'],as_index = 0).agg({'Displacement100ci':'mean'})\n",
        "plt.figure(figsize = (8,6))\n",
        "df1.rename(columns = {'Displacement100ci':'Displacement100ci_avg'}, inplace = True)\n",
        "\n",
        "sns.barplot(x = 'Year',y = 'Displacement100ci_avg', data = df1)\n",
        "plt.show()"
      ],
      "metadata": {
        "colab": {
          "base_uri": "https://localhost:8080/",
          "height": 0
        },
        "id": "28Ao0ZsUPJZc",
        "outputId": "8b5518cb-6394-4812-b00d-ea93a233fe9c"
      },
      "execution_count": 207,
      "outputs": [
        {
          "output_type": "display_data",
          "data": {
            "text/plain": [
              "<Figure size 576x432 with 1 Axes>"
            ],
            "image/png": "[encoded data removed]"
          },
          "metadata": {
            "needs_background": "light"
          }
        }
      ]
    },
    {
      "cell_type": "code",
      "source": [
        "df1 = data.groupby(['origin_name'],as_index = 0).agg({'Displacement100ci':'mean'})\n",
        "plt.figure(figsize = (8,6))\n",
        "df1.rename(columns = {'Displacement100ci':'Displacement100ci_avg'}, inplace = True)\n",
        "\n",
        "sns.barplot(x = 'origin_name',y = 'Displacement100ci_avg', data = df1)\n",
        "plt.show()"
      ],
      "metadata": {
        "colab": {
          "base_uri": "https://localhost:8080/",
          "height": 0
        },
        "id": "W9WtSeU_PmIB",
        "outputId": "ae633b24-69d6-4f09-9e1c-fdf4185bd726"
      },
      "execution_count": 208,
      "outputs": [
        {
          "output_type": "display_data",
          "data": {
            "text/plain": [
              "<Figure size 576x432 with 1 Axes>"
            ],
            "image/png": "[encoded data removed]"
          },
          "metadata": {
            "needs_background": "light"
          }
        }
      ]
    },
    {
      "cell_type": "code",
      "source": [
        "df1 = data.groupby(['Cylinders'],as_index = 0).agg({'Displacement100ci':'mean'})\n",
        "plt.figure(figsize = (8,6))\n",
        "df1.rename(columns = {'Displacement100ci':'Displacement100ci_avg'}, inplace = True)\n",
        "\n",
        "sns.barplot(x = 'Cylinders',y = 'Displacement100ci_avg', data = df1)\n",
        "plt.show()"
      ],
      "metadata": {
        "colab": {
          "base_uri": "https://localhost:8080/",
          "height": 0
        },
        "id": "zvaEmswZPley",
        "outputId": "80a95709-2106-4211-be5f-95ce68096cc8"
      },
      "execution_count": 209,
      "outputs": [
        {
          "output_type": "display_data",
          "data": {
            "text/plain": [
              "<Figure size 576x432 with 1 Axes>"
            ],
            "image/png": "[encoded data removed]"
          },
          "metadata": {
            "needs_background": "light"
          }
        }
      ]
    },
    {
      "cell_type": "code",
      "source": [
        "\n",
        "df1 = data.groupby(['Year'],as_index = 0).agg({'Horsepower100':'mean'})\n",
        "plt.figure(figsize = (8,6))\n",
        "df1.rename(columns = {'Horsepower100':'Horsepower100_avg'}, inplace = True)\n",
        "\n",
        "sns.barplot(x = 'Year',y = 'Horsepower100_avg', data = df1)\n",
        "plt.show()"
      ],
      "metadata": {
        "colab": {
          "base_uri": "https://localhost:8080/",
          "height": 0
        },
        "id": "H9PuFCEDP_WI",
        "outputId": "2dd60e15-162b-43a7-ecb5-18904848698c"
      },
      "execution_count": 210,
      "outputs": [
        {
          "output_type": "display_data",
          "data": {
            "text/plain": [
              "<Figure size 576x432 with 1 Axes>"
            ],
            "image/png": "[encoded data removed]"
          },
          "metadata": {
            "needs_background": "light"
          }
        }
      ]
    },
    {
      "cell_type": "code",
      "source": [
        "df1 = data.groupby(['origin_name'],as_index = 0).agg({'Horsepower100':'mean'})\n",
        "plt.figure(figsize = (8,6))\n",
        "df1.rename(columns = {'Horsepower100':'Horsepower100_avg'}, inplace = True)\n",
        "\n",
        "sns.barplot(x = 'origin_name',y = 'Horsepower100_avg', data = df1)\n",
        "plt.show()"
      ],
      "metadata": {
        "colab": {
          "base_uri": "https://localhost:8080/",
          "height": 0
        },
        "id": "afnSeaj_P_Sl",
        "outputId": "ed9e4847-cf15-4f97-c53f-d20cd9c19b27"
      },
      "execution_count": 211,
      "outputs": [
        {
          "output_type": "display_data",
          "data": {
            "text/plain": [
              "<Figure size 576x432 with 1 Axes>"
            ],
            "image/png": "[encoded data removed]"
          },
          "metadata": {
            "needs_background": "light"
          }
        }
      ]
    },
    {
      "cell_type": "code",
      "source": [
        "df1 = data.groupby(['Cylinders'],as_index = 0).agg({'Horsepower100':'mean'})\n",
        "plt.figure(figsize = (8,6))\n",
        "df1.rename(columns = {'Horsepower100':'Horsepower100_avg'}, inplace = True)\n",
        "\n",
        "sns.barplot(x = 'Cylinders',y = 'Horsepower100_avg', data = df1)\n",
        "plt.show()"
      ],
      "metadata": {
        "colab": {
          "base_uri": "https://localhost:8080/",
          "height": 0
        },
        "id": "1Sd8kFltP_P2",
        "outputId": "b5dcd901-b108-408c-a953-393260fa405e"
      },
      "execution_count": 212,
      "outputs": [
        {
          "output_type": "display_data",
          "data": {
            "text/plain": [
              "<Figure size 576x432 with 1 Axes>"
            ],
            "image/png": "[encoded data removed]"
          },
          "metadata": {
            "needs_background": "light"
          }
        }
      ]
    },
    {
      "cell_type": "code",
      "source": [
        "df1 = data.groupby(['Cylinders'],as_index = 0).agg({'Weight1000lb':'mean'})\n",
        "plt.figure(figsize = (8,6))\n",
        "df1.rename(columns = {'Weight1000lb':'Weight1000lb_avg'}, inplace = True)\n",
        "\n",
        "sns.barplot(x = 'Cylinders',y = 'Weight1000lb_avg', data = df1)\n",
        "plt.show()"
      ],
      "metadata": {
        "colab": {
          "base_uri": "https://localhost:8080/",
          "height": 0
        },
        "id": "tFGwypjqP_J4",
        "outputId": "4f4f06f5-3b64-4a71-b2c8-19153838229c"
      },
      "execution_count": 213,
      "outputs": [
        {
          "output_type": "display_data",
          "data": {
            "text/plain": [
              "<Figure size 576x432 with 1 Axes>"
            ],
            "image/png": "[encoded data removed]"
          },
          "metadata": {
            "needs_background": "light"
          }
        }
      ]
    },
    {
      "cell_type": "code",
      "source": [
        "df1 = data.groupby(['origin_name'],as_index = 0).agg({'Weight1000lb':'mean'})\n",
        "plt.figure(figsize = (8,6))\n",
        "df1.rename(columns = {'Weight1000lb':'Weight1000lb_avg'}, inplace = True)\n",
        "\n",
        "sns.barplot(x = 'origin_name',y = 'Weight1000lb_avg', data = df1)\n",
        "plt.show()"
      ],
      "metadata": {
        "colab": {
          "base_uri": "https://localhost:8080/",
          "height": 0
        },
        "id": "PnhC-h3fP_D6",
        "outputId": "2e6e5c2a-ee40-431e-d352-9195b22e7f4a"
      },
      "execution_count": 214,
      "outputs": [
        {
          "output_type": "display_data",
          "data": {
            "text/plain": [
              "<Figure size 576x432 with 1 Axes>"
            ],
            "image/png": "[encoded data removed]"
          },
          "metadata": {
            "needs_background": "light"
          }
        }
      ]
    },
    {
      "cell_type": "code",
      "source": [
        "df1 = data.groupby(['Cylinders'],as_index = 0).agg({'Seconds0to60':'mean'})\n",
        "plt.figure(figsize = (8,6))\n",
        "df1.rename(columns = {'Seconds0to60':'Seconds0to60_avg'}, inplace = True)\n",
        "\n",
        "sns.barplot(x = 'Cylinders',y = 'Seconds0to60_avg', data = df1)\n",
        "plt.show()"
      ],
      "metadata": {
        "colab": {
          "base_uri": "https://localhost:8080/",
          "height": 0
        },
        "id": "4pJi3SRtP-5e",
        "outputId": "4b0aca96-f029-472c-ec1f-07c09f2a3147"
      },
      "execution_count": 215,
      "outputs": [
        {
          "output_type": "display_data",
          "data": {
            "text/plain": [
              "<Figure size 576x432 with 1 Axes>"
            ],
            "image/png": "[encoded data removed]"
          },
          "metadata": {
            "needs_background": "light"
          }
        }
      ]
    },
    {
      "cell_type": "code",
      "source": [
        "df1 = data.groupby(['origin_name'],as_index = 0).agg({'Seconds0to60':'mean'})\n",
        "plt.figure(figsize = (8,6))\n",
        "df1.rename(columns = {'Seconds0to60':'Seconds0to60_avg'}, inplace = True)\n",
        "\n",
        "sns.barplot(x = 'origin_name',y = 'Seconds0to60_avg', data = df1)\n",
        "plt.show()"
      ],
      "metadata": {
        "colab": {
          "base_uri": "https://localhost:8080/",
          "height": 0
        },
        "id": "-bfJyGa_P-t3",
        "outputId": "511b3671-6ca2-40e9-cf50-ec912339c732"
      },
      "execution_count": 216,
      "outputs": [
        {
          "output_type": "display_data",
          "data": {
            "text/plain": [
              "<Figure size 576x432 with 1 Axes>"
            ],
            "image/png": "[encoded data removed]"
          },
          "metadata": {
            "needs_background": "light"
          }
        }
      ]
    },
    {
      "cell_type": "code",
      "source": [
        "data.plot(kind = 'scatter', x = 'Horsepower100', y = 'MPG')\n",
        "plt.show()"
      ],
      "metadata": {
        "colab": {
          "base_uri": "https://localhost:8080/",
          "height": 0
        },
        "id": "hAybdjL3T56J",
        "outputId": "7b6655ed-aa01-4657-be06-454461b92fcc"
      },
      "execution_count": 217,
      "outputs": [
        {
          "output_type": "display_data",
          "data": {
            "text/plain": [
              "<Figure size 432x288 with 1 Axes>"
            ],
            "image/png": "[encoded data removed]"
          },
          "metadata": {
            "needs_background": "light"
          }
        }
      ]
    },
    {
      "cell_type": "markdown",
      "source": [
        "\n",
        "\n",
        "\n",
        "\n",
        "*   The graph shows the scatter plot of Horsepower100 vs MPG.\n",
        "*   We can see that as the horsepower increased the MPG decreased.\n",
        "\n"
      ],
      "metadata": {
        "id": "On7TzqC7Lpt4"
      }
    },
    {
      "cell_type": "code",
      "source": [
        "data.plot(kind = 'scatter', x = 'Displacement100ci', y = 'MPG')\n",
        "plt.show()"
      ],
      "metadata": {
        "colab": {
          "base_uri": "https://localhost:8080/",
          "height": 0
        },
        "id": "J3Jy4C4RZj21",
        "outputId": "2f4cf72f-9bda-47b0-a9d8-8765f82cae75"
      },
      "execution_count": 218,
      "outputs": [
        {
          "output_type": "display_data",
          "data": {
            "text/plain": [
              "<Figure size 432x288 with 1 Axes>"
            ],
            "image/png": "[encoded data removed]"
          },
          "metadata": {
            "needs_background": "light"
          }
        }
      ]
    },
    {
      "cell_type": "markdown",
      "source": [
        "\n",
        "\n",
        "\n",
        "*   The graph shows the scatter plot between displacement and MPG\n",
        "*   We see that as the displacement increased MPG decreased, i.e. there is a negative trend between the two.\n",
        "\n"
      ],
      "metadata": {
        "id": "yloCjVP9MKMR"
      }
    },
    {
      "cell_type": "code",
      "source": [
        "data.plot(kind = 'scatter', x = 'Weight1000lb', y = 'MPG')\n",
        "plt.show()"
      ],
      "metadata": {
        "colab": {
          "base_uri": "https://localhost:8080/",
          "height": 0
        },
        "id": "MB9DA6fnZwuc",
        "outputId": "63ff9c28-df56-4a81-e25a-162d8da28d6f"
      },
      "execution_count": 219,
      "outputs": [
        {
          "output_type": "display_data",
          "data": {
            "text/plain": [
              "<Figure size 432x288 with 1 Axes>"
            ],
            "image/png": "[encoded data removed]"
          },
          "metadata": {
            "needs_background": "light"
          }
        }
      ]
    },
    {
      "cell_type": "markdown",
      "source": [
        "\n",
        "\n",
        "\n",
        "\n",
        "*   The graph shows the scatter plot between Weight and MPG\n",
        "*   And we can see that as the weight increased, MPG decreased.\n",
        "\n"
      ],
      "metadata": {
        "id": "K-SIgPF-NsbL"
      }
    },
    {
      "cell_type": "code",
      "source": [
        "data.plot(kind = 'scatter', x = 'Horsepower100', y = 'Seconds0to60')\n",
        "plt.show()"
      ],
      "metadata": {
        "colab": {
          "base_uri": "https://localhost:8080/",
          "height": 0
        },
        "id": "wVbe2rm6aAaD",
        "outputId": "5d890ce6-e4d3-4f3f-c956-4f87925cfc14"
      },
      "execution_count": 220,
      "outputs": [
        {
          "output_type": "display_data",
          "data": {
            "text/plain": [
              "<Figure size 432x288 with 1 Axes>"
            ],
            "image/png": "[encoded data removed]"
          },
          "metadata": {
            "needs_background": "light"
          }
        }
      ]
    },
    {
      "cell_type": "code",
      "source": [
        "data.plot(kind = 'scatter', x = 'Weight1000lb', y = 'Seconds0to60')\n",
        "plt.show()"
      ],
      "metadata": {
        "colab": {
          "base_uri": "https://localhost:8080/",
          "height": 0
        },
        "id": "t_QsY0vHbRiV",
        "outputId": "9736b10c-5e5f-4887-878e-f28bb85fadb1"
      },
      "execution_count": 221,
      "outputs": [
        {
          "output_type": "display_data",
          "data": {
            "text/plain": [
              "<Figure size 432x288 with 1 Axes>"
            ],
            "image/png": "[encoded data removed]"
          },
          "metadata": {
            "needs_background": "light"
          }
        }
      ]
    },
    {
      "cell_type": "code",
      "source": [
        "data.plot(kind = 'scatter', x = 'Displacement100ci', y = 'Seconds0to60')\n",
        "plt.show()"
      ],
      "metadata": {
        "colab": {
          "base_uri": "https://localhost:8080/",
          "height": 0
        },
        "id": "uxAl9Mi0biDb",
        "outputId": "60c51f93-0bf0-4fba-da1e-d59a639248f7"
      },
      "execution_count": 222,
      "outputs": [
        {
          "output_type": "display_data",
          "data": {
            "text/plain": [
              "<Figure size 432x288 with 1 Axes>"
            ],
            "image/png": "[encoded data removed]"
          },
          "metadata": {
            "needs_background": "light"
          }
        }
      ]
    },
    {
      "cell_type": "markdown",
      "source": [
        "# Multivariate Analysis"
      ],
      "metadata": {
        "id": "iLyrmD0Bv9a9"
      }
    },
    {
      "cell_type": "code",
      "source": [
        "df1 = data.groupby(['Year','Cylinders'],as_index = 0).agg({'origin_name':'count'})\n",
        "df1.rename(columns = {'origin_name':'number_of_cars_sold'}, inplace = True)\n",
        "\n",
        "plt.figure(figsize = (18,6))\n",
        "sns.barplot(x = 'Year',y = 'number_of_cars_sold', hue = 'Cylinders', data = df1)\n",
        "plt.show()"
      ],
      "metadata": {
        "colab": {
          "base_uri": "https://localhost:8080/",
          "height": 388
        },
        "id": "-j6bLcof5Cm9",
        "outputId": "47956c92-c113-4286-84d6-a214c5c9808f"
      },
      "execution_count": 223,
      "outputs": [
        {
          "output_type": "display_data",
          "data": {
            "text/plain": [
              "<Figure size 1296x432 with 1 Axes>"
            ],
            "image/png": "[encoded data removed]"
          },
          "metadata": {
            "needs_background": "light"
          }
        }
      ]
    },
    {
      "cell_type": "markdown",
      "source": [
        " \n",
        "\n",
        "\n",
        "\n",
        "*   The graph shows the number of cars sold in each year for different types of cylinders.\n",
        "*   We can see that the sales of cars with 4 cylinders increasing year by year.\n",
        "*   And we can see that the sales of cars with 8 cylinders decreased drastically over the years specially after 1979.\n",
        "\n",
        "\n",
        "\n"
      ],
      "metadata": {
        "id": "xuJzANR5aFkg"
      }
    },
    {
      "cell_type": "code",
      "source": [
        "df1 = data.groupby(['Year','origin_name'],as_index = 0).agg({'Cylinders':'count'})\n",
        "df1.rename(columns = {'Cylinders':'number_of_cars_sold'}, inplace = True)\n",
        "\n",
        "plt.figure(figsize = (18,6))\n",
        "sns.barplot(x = 'Year',y = 'number_of_cars_sold', hue = 'origin_name', data = df1)\n",
        "plt.show()"
      ],
      "metadata": {
        "colab": {
          "base_uri": "https://localhost:8080/",
          "height": 388
        },
        "id": "RZ9cNV4QR5-i",
        "outputId": "d35bc9ef-0fe6-4e1d-c4d2-a2c4799b8cdf"
      },
      "execution_count": 224,
      "outputs": [
        {
          "output_type": "display_data",
          "data": {
            "text/plain": [
              "<Figure size 1296x432 with 1 Axes>"
            ],
            "image/png": "[encoded data removed]"
          },
          "metadata": {
            "needs_background": "light"
          }
        }
      ]
    },
    {
      "cell_type": "code",
      "source": [
        "df1 = data.groupby(['origin_name','Cylinders'],as_index = 0).agg({'Year':'count'})\n",
        "df1.rename(columns = {'Year':'number_of_cars_sold'}, inplace = True)\n",
        "\n",
        "plt.figure(figsize = (18,6))\n",
        "sns.barplot(x = 'origin_name',y = 'number_of_cars_sold', hue = 'Cylinders', data = df1)\n",
        "plt.show()"
      ],
      "metadata": {
        "colab": {
          "base_uri": "https://localhost:8080/",
          "height": 389
        },
        "id": "qaCFtMzVUeEj",
        "outputId": "72cfe960-732d-4d78-a300-cbefcee8b310"
      },
      "execution_count": 225,
      "outputs": [
        {
          "output_type": "display_data",
          "data": {
            "text/plain": [
              "<Figure size 1296x432 with 1 Axes>"
            ],
            "image/png": "[encoded data removed]"
          },
          "metadata": {
            "needs_background": "light"
          }
        }
      ]
    },
    {
      "cell_type": "markdown",
      "source": [
        "\n",
        "\n",
        "\n",
        "\n",
        "\n",
        "\n",
        "\n",
        "\n",
        "\n",
        "*   This shows the number of cars of each type of cylinders by different origin country of the cars that got sold in the U.S.\n",
        "*   Among Europe and Japan origin cars sold in the U.S are mainly cars with 4 cylinders. \n",
        "*   The sales of 4 cylinders cars of Europe and Japan origin cars almost equal when compared to U.S origin cars.\n",
        "*   Cars with 6 cylinders and 8 cylinders of U.S origin are the ones which had very high sales. But 8 cylinders cars sales decreased drastically as we can see in the above graph\n",
        "\n"
      ],
      "metadata": {
        "id": "gIKbdn8Te8da"
      }
    },
    {
      "cell_type": "code",
      "source": [
        "df1 = data.groupby(['origin_name','Cylinders'],as_index = 0).agg({'MPG':'mean'})\n",
        "df1.rename(columns = {'MPG':'avg_MPG'}, inplace = True)\n",
        "\n",
        "plt.figure(figsize = (18,6))\n",
        "sns.barplot(x = 'origin_name',y = 'avg_MPG', hue = 'Cylinders', data = df1)\n",
        "plt.show()"
      ],
      "metadata": {
        "colab": {
          "base_uri": "https://localhost:8080/",
          "height": 389
        },
        "id": "hP2dRnrkdzce",
        "outputId": "7f16bcfb-7e20-49e5-d001-62069a170479"
      },
      "execution_count": 226,
      "outputs": [
        {
          "output_type": "display_data",
          "data": {
            "text/plain": [
              "<Figure size 1296x432 with 1 Axes>"
            ],
            "image/png": "[encoded data removed]"
          },
          "metadata": {
            "needs_background": "light"
          }
        }
      ]
    },
    {
      "cell_type": "code",
      "source": [
        "data_temp = data[data['Cylinders'] == 4]\n",
        "df1 = data_temp.groupby(['Year','origin_name'],as_index = 0).agg({'MPG':'mean'})\n",
        "df1.rename(columns = {'MPG':'avg_MPG for 4 cylinders cars'}, inplace = True)\n",
        "\n",
        "plt.figure(figsize = (18,6))\n",
        "sns.barplot(x = 'Year',y = 'avg_MPG for 4 cylinders cars', hue = 'origin_name', data = df1)\n",
        "plt.show()"
      ],
      "metadata": {
        "colab": {
          "base_uri": "https://localhost:8080/",
          "height": 388
        },
        "id": "itxW3JCsTNwR",
        "outputId": "cac3e418-e487-41b6-9c0a-be162273c48b"
      },
      "execution_count": 227,
      "outputs": [
        {
          "output_type": "display_data",
          "data": {
            "text/plain": [
              "<Figure size 1296x432 with 1 Axes>"
            ],
            "image/png": "[encoded data removed]"
          },
          "metadata": {
            "needs_background": "light"
          }
        }
      ]
    },
    {
      "cell_type": "markdown",
      "source": [
        "\n",
        "\n",
        "\n",
        "\n",
        "\n",
        "*   This graph shows the average MPG that was given by 4 cylinder cars by different origin cars in each of the years.\n",
        "*   Though Japan origin cars were most efficient as we have seen in slide 8 but Europe origin cars have given almost the same efficiency as Japan origin cars considering the recent 5 years i.e. from 1978 to 1982.\n",
        "*   Specially in last two where the MPG had almost been same for Japan origin cars, MPG for Europe origin had increased.\n"
      ],
      "metadata": {
        "id": "5urXSGhi4KEE"
      }
    },
    {
      "cell_type": "code",
      "source": [
        "data_temp = data[data['Cylinders'] == 4]\n",
        "df1 = data_temp.groupby(['Year','origin_name'],as_index = 0).agg({'Horsepower100':'mean'})\n",
        "df1.rename(columns = {'Horsepower100':'avg_Horsepower100'}, inplace = True)\n",
        "\n",
        "plt.figure(figsize = (18,6))\n",
        "sns.barplot(x = 'Year',y = 'avg_Horsepower100', hue = 'origin_name', data = df1)\n",
        "plt.show()"
      ],
      "metadata": {
        "colab": {
          "base_uri": "https://localhost:8080/",
          "height": 388
        },
        "id": "-WqeBM4JdMtD",
        "outputId": "3ca59e2c-eeaa-42d9-97de-9c28c43d0116"
      },
      "execution_count": 228,
      "outputs": [
        {
          "output_type": "display_data",
          "data": {
            "text/plain": [
              "<Figure size 1296x432 with 1 Axes>"
            ],
            "image/png": "[encoded data removed]"
          },
          "metadata": {
            "needs_background": "light"
          }
        }
      ]
    },
    {
      "cell_type": "markdown",
      "source": [
        "\n",
        "\n",
        "*   This graph shows the average horse power of cars with 4cylinders sold in each year of different origin.\n",
        "*   It shows that for better MPG the cars had power between 0.6 to 0.8 horsepower. When the horsepower was between this range, it gave a MPG of at least 30.\n",
        "*   Greater was the horsepower lesser was the MPG.\n"
      ],
      "metadata": {
        "id": "VsslaYNTvXZS"
      }
    },
    {
      "cell_type": "code",
      "source": [
        "data_temp = data[data['Cylinders'] == 4]\n",
        "df1 = data_temp.groupby(['Year','origin_name'],as_index = 0).agg({'Weight1000lb':'mean'})\n",
        "df1.rename(columns = {'Weight1000lb':'Weight1000lb_avg'}, inplace = True)\n",
        "\n",
        "plt.figure(figsize = (18,6))\n",
        "sns.barplot(x = 'Year',y = 'Weight1000lb_avg', hue = 'origin_name', data = df1)\n",
        "plt.show()"
      ],
      "metadata": {
        "colab": {
          "base_uri": "https://localhost:8080/",
          "height": 388
        },
        "id": "qCM8hQXHv_p8",
        "outputId": "db786343-ebfd-48d0-cf2a-75232a17028b"
      },
      "execution_count": 229,
      "outputs": [
        {
          "output_type": "display_data",
          "data": {
            "text/plain": [
              "<Figure size 1296x432 with 1 Axes>"
            ],
            "image/png": "[encoded data removed]"
          },
          "metadata": {
            "needs_background": "light"
          }
        }
      ]
    },
    {
      "cell_type": "markdown",
      "source": [
        "\n",
        "\n",
        "\n",
        "\n",
        "\n",
        "*  This graph shows the average weight(in pounds) of cars with 4cylinders sold in each year of different origin.\n",
        "*   It can be seen that in most of the years, cars whose weight was near to 2pounds gave better MPG\n",
        "\n"
      ],
      "metadata": {
        "id": "ZpP89Ui8zOJ5"
      }
    },
    {
      "cell_type": "code",
      "source": [
        "data_temp = data[data['Cylinders'] == 4]\n",
        "df1 = data_temp.groupby(['Year','origin_name'],as_index = 0).agg({'Displacement100ci':'mean'})\n",
        "df1.rename(columns = {'Displacement100ci':'Displacement100ci_avg'}, inplace = True)\n",
        "\n",
        "plt.figure(figsize = (18,6))\n",
        "sns.barplot(x = 'Year',y = 'Displacement100ci_avg', hue = 'origin_name', data = df1)\n",
        "plt.show()"
      ],
      "metadata": {
        "colab": {
          "base_uri": "https://localhost:8080/",
          "height": 388
        },
        "id": "KKjKEtYFziTc",
        "outputId": "fe40c7ab-8726-4dd8-b30b-2a2ba0649a60"
      },
      "execution_count": 230,
      "outputs": [
        {
          "output_type": "display_data",
          "data": {
            "text/plain": [
              "<Figure size 1296x432 with 1 Axes>"
            ],
            "image/png": "[encoded data removed]"
          },
          "metadata": {
            "needs_background": "light"
          }
        }
      ]
    },
    {
      "cell_type": "markdown",
      "source": [
        "\n",
        "\n",
        "\n",
        "*   This graph shows the average displacement of cars with 4cylinders sold in each year of different origin.\n",
        "*   We can see that in most of the years when average displacement was between 0.8 to 1.0, it resulted in better average MPG for that year.\n",
        "\n"
      ],
      "metadata": {
        "id": "w0-_aRpV1-Ll"
      }
    },
    {
      "cell_type": "code",
      "source": [
        "df1 = data.groupby(['Year','origin_name','Cylinders'],as_index = False).agg({'MPG':'count'})\n",
        "print(df1[df1['Year'] == 70])\n",
        "print(df1[df1['Year'] == 71])"
      ],
      "metadata": {
        "colab": {
          "base_uri": "https://localhost:8080/"
        },
        "id": "s4Um6bmFeXAd",
        "outputId": "d701bf0e-e5f2-485b-fc41-3873425859cc"
      },
      "execution_count": 231,
      "outputs": [
        {
          "output_type": "stream",
          "name": "stdout",
          "text": [
            "   Year origin_name  Cylinders  MPG\n",
            "0    70      Europe          4    5\n",
            "1    70       Japan          4    2\n",
            "2    70          US          6    4\n",
            "3    70          US          8   18\n",
            "   Year origin_name  Cylinders  MPG\n",
            "4    71      Europe          4    4\n",
            "5    71       Japan          4    4\n",
            "6    71          US          4    4\n",
            "7    71          US          6    8\n",
            "8    71          US          8    7\n"
          ]
        }
      ]
    },
    {
      "cell_type": "code",
      "source": [
        "#to get the top 10 cars with highest MPG\n",
        "df1 = data.groupby(['origin_name','Name','Cylinders','Displacement100ci','Weight1000lb','Horsepower100','Seconds0to60'],as_index = False).agg({'MPG':'mean'}).sort_values('MPG', ascending=False)\n",
        "df1.head(10)"
      ],
      "metadata": {
        "colab": {
          "base_uri": "https://localhost:8080/",
          "height": 363
        },
        "id": "JQhuJRHDgfXt",
        "outputId": "e54a7c4e-f8af-456c-9a30-d3c2bdd6cb69"
      },
      "execution_count": 232,
      "outputs": [
        {
          "output_type": "execute_result",
          "data": {
            "text/plain": [
              "    origin_name                             Name  Cylinders  \\\n",
              "107       Japan                        mazda glc          4   \n",
              "99        Japan              honda civic 1500 gl          4   \n",
              "66       Europe             vw rabbit c (diesel)          4   \n",
              "63       Europe                        vw pickup          4   \n",
              "62       Europe               vw dasher (diesel)          4   \n",
              "51       Europe  volkswagen rabbit custom diesel          4   \n",
              "65       Europe                        vw rabbit          4   \n",
              "72        Japan                       datsun 210          4   \n",
              "87        Japan                   datsun b210 gx          4   \n",
              "143       Japan                   toyota starlet          4   \n",
              "\n",
              "     Displacement100ci  Weight1000lb  Horsepower100  Seconds0to60   MPG  \n",
              "107               0.86         2.110           0.65          17.9  46.6  \n",
              "99                0.91         1.850           0.67          13.8  44.6  \n",
              "66                0.90         2.085           0.48          21.7  44.3  \n",
              "63                0.97         2.130           0.52          24.6  44.0  \n",
              "62                0.90         2.335           0.48          23.7  43.4  \n",
              "51                0.90         1.985           0.48          21.5  43.1  \n",
              "65                0.98         2.144           0.76          14.7  41.5  \n",
              "72                0.85         2.110           0.65          19.2  40.8  \n",
              "87                0.85         2.070           0.70          18.6  39.4  \n",
              "143               0.79         1.755           0.58          16.9  39.1  "
            ],
            "text/html": [
              "\n",
              "  <div id=\"df-0b65e2cc-fa29-405a-adb1-d33dd3427308\">\n",
              "    <div class=\"colab-df-container\">\n",
              "      <div>\n",
              "<style scoped>\n",
              "    .dataframe tbody tr th:only-of-type {\n",
              "        vertical-align: middle;\n",
              "    }\n",
              "\n",
              "    .dataframe tbody tr th {\n",
              "        vertical-align: top;\n",
              "    }\n",
              "\n",
              "    .dataframe thead th {\n",
              "        text-align: right;\n",
              "    }\n",
              "</style>\n",
              "<table border=\"1\" class=\"dataframe\">\n",
              "  <thead>\n",
              "    <tr style=\"text-align: right;\">\n",
              "      <th></th>\n",
              "      <th>origin_name</th>\n",
              "      <th>Name</th>\n",
              "      <th>Cylinders</th>\n",
              "      <th>Displacement100ci</th>\n",
              "      <th>Weight1000lb</th>\n",
              "      <th>Horsepower100</th>\n",
              "      <th>Seconds0to60</th>\n",
              "      <th>MPG</th>\n",
              "    </tr>\n",
              "  </thead>\n",
              "  <tbody>\n",
              "    <tr>\n",
              "      <th>107</th>\n",
              "      <td>Japan</td>\n",
              "      <td>mazda glc</td>\n",
              "      <td>4</td>\n",
              "      <td>0.86</td>\n",
              "      <td>2.110</td>\n",
              "      <td>0.65</td>\n",
              "      <td>17.9</td>\n",
              "      <td>46.6</td>\n",
              "    </tr>\n",
              "    <tr>\n",
              "      <th>99</th>\n",
              "      <td>Japan</td>\n",
              "      <td>honda civic 1500 gl</td>\n",
              "      <td>4</td>\n",
              "      <td>0.91</td>\n",
              "      <td>1.850</td>\n",
              "      <td>0.67</td>\n",
              "      <td>13.8</td>\n",
              "      <td>44.6</td>\n",
              "    </tr>\n",
              "    <tr>\n",
              "      <th>66</th>\n",
              "      <td>Europe</td>\n",
              "      <td>vw rabbit c (diesel)</td>\n",
              "      <td>4</td>\n",
              "      <td>0.90</td>\n",
              "      <td>2.085</td>\n",
              "      <td>0.48</td>\n",
              "      <td>21.7</td>\n",
              "      <td>44.3</td>\n",
              "    </tr>\n",
              "    <tr>\n",
              "      <th>63</th>\n",
              "      <td>Europe</td>\n",
              "      <td>vw pickup</td>\n",
              "      <td>4</td>\n",
              "      <td>0.97</td>\n",
              "      <td>2.130</td>\n",
              "      <td>0.52</td>\n",
              "      <td>24.6</td>\n",
              "      <td>44.0</td>\n",
              "    </tr>\n",
              "    <tr>\n",
              "      <th>62</th>\n",
              "      <td>Europe</td>\n",
              "      <td>vw dasher (diesel)</td>\n",
              "      <td>4</td>\n",
              "      <td>0.90</td>\n",
              "      <td>2.335</td>\n",
              "      <td>0.48</td>\n",
              "      <td>23.7</td>\n",
              "      <td>43.4</td>\n",
              "    </tr>\n",
              "    <tr>\n",
              "      <th>51</th>\n",
              "      <td>Europe</td>\n",
              "      <td>volkswagen rabbit custom diesel</td>\n",
              "      <td>4</td>\n",
              "      <td>0.90</td>\n",
              "      <td>1.985</td>\n",
              "      <td>0.48</td>\n",
              "      <td>21.5</td>\n",
              "      <td>43.1</td>\n",
              "    </tr>\n",
              "    <tr>\n",
              "      <th>65</th>\n",
              "      <td>Europe</td>\n",
              "      <td>vw rabbit</td>\n",
              "      <td>4</td>\n",
              "      <td>0.98</td>\n",
              "      <td>2.144</td>\n",
              "      <td>0.76</td>\n",
              "      <td>14.7</td>\n",
              "      <td>41.5</td>\n",
              "    </tr>\n",
              "    <tr>\n",
              "      <th>72</th>\n",
              "      <td>Japan</td>\n",
              "      <td>datsun 210</td>\n",
              "      <td>4</td>\n",
              "      <td>0.85</td>\n",
              "      <td>2.110</td>\n",
              "      <td>0.65</td>\n",
              "      <td>19.2</td>\n",
              "      <td>40.8</td>\n",
              "    </tr>\n",
              "    <tr>\n",
              "      <th>87</th>\n",
              "      <td>Japan</td>\n",
              "      <td>datsun b210 gx</td>\n",
              "      <td>4</td>\n",
              "      <td>0.85</td>\n",
              "      <td>2.070</td>\n",
              "      <td>0.70</td>\n",
              "      <td>18.6</td>\n",
              "      <td>39.4</td>\n",
              "    </tr>\n",
              "    <tr>\n",
              "      <th>143</th>\n",
              "      <td>Japan</td>\n",
              "      <td>toyota starlet</td>\n",
              "      <td>4</td>\n",
              "      <td>0.79</td>\n",
              "      <td>1.755</td>\n",
              "      <td>0.58</td>\n",
              "      <td>16.9</td>\n",
              "      <td>39.1</td>\n",
              "    </tr>\n",
              "  </tbody>\n",
              "</table>\n",
              "</div>\n",
              "      <button class=\"colab-df-convert\" onclick=\"convertToInteractive('df-0b65e2cc-fa29-405a-adb1-d33dd3427308')\"\n",
              "              title=\"Convert this dataframe to an interactive table.\"\n",
              "              style=\"display:none;\">\n",
              "        \n",
              "  <svg xmlns=\"http://www.w3.org/2000/svg\" height=\"24px\"viewBox=\"0 0 24 24\"\n",
              "       width=\"24px\">\n",
              "    <path d=\"M0 0h24v24H0V0z\" fill=\"none\"/>\n",
              "    <path d=\"M18.56 5.44l.94 2.06.94-2.06 2.06-.94-2.06-.94-.94-2.06-.94 2.06-2.06.94zm-11 1L8.5 8.5l.94-2.06 2.06-.94-2.06-.94L8.5 2.5l-.94 2.06-2.06.94zm10 10l.94 2.06.94-2.06 2.06-.94-2.06-.94-.94-2.06-.94 2.06-2.06.94z\"/><path d=\"M17.41 7.96l-1.37-1.37c-.4-.4-.92-.59-1.43-.59-.52 0-1.04.2-1.43.59L10.3 9.45l-7.72 7.72c-.78.78-.78 2.05 0 2.83L4 21.41c.39.39.9.59 1.41.59.51 0 1.02-.2 1.41-.59l7.78-7.78 2.81-2.81c.8-.78.8-2.07 0-2.86zM5.41 20L4 18.59l7.72-7.72 1.47 1.35L5.41 20z\"/>\n",
              "  </svg>\n",
              "      </button>\n",
              "      \n",
              "  <style>\n",
              "    .colab-df-container {\n",
              "      display:flex;\n",
              "      flex-wrap:wrap;\n",
              "      gap: 12px;\n",
              "    }\n",
              "\n",
              "    .colab-df-convert {\n",
              "      background-color: #E8F0FE;\n",
              "      border: none;\n",
              "      border-radius: 50%;\n",
              "      cursor: pointer;\n",
              "      display: none;\n",
              "      fill: #1967D2;\n",
              "      height: 32px;\n",
              "      padding: 0 0 0 0;\n",
              "      width: 32px;\n",
              "    }\n",
              "\n",
              "    .colab-df-convert:hover {\n",
              "      background-color: #E2EBFA;\n",
              "      box-shadow: 0px 1px 2px rgba(60, 64, 67, 0.3), 0px 1px 3px 1px rgba(60, 64, 67, 0.15);\n",
              "      fill: #174EA6;\n",
              "    }\n",
              "\n",
              "    [theme=dark] .colab-df-convert {\n",
              "      background-color: #3B4455;\n",
              "      fill: #D2E3FC;\n",
              "    }\n",
              "\n",
              "    [theme=dark] .colab-df-convert:hover {\n",
              "      background-color: #434B5C;\n",
              "      box-shadow: 0px 1px 3px 1px rgba(0, 0, 0, 0.15);\n",
              "      filter: drop-shadow(0px 1px 2px rgba(0, 0, 0, 0.3));\n",
              "      fill: #FFFFFF;\n",
              "    }\n",
              "  </style>\n",
              "\n",
              "      <script>\n",
              "        const buttonEl =\n",
              "          document.querySelector('#df-0b65e2cc-fa29-405a-adb1-d33dd3427308 button.colab-df-convert');\n",
              "        buttonEl.style.display =\n",
              "          google.colab.kernel.accessAllowed ? 'block' : 'none';\n",
              "\n",
              "        async function convertToInteractive(key) {\n",
              "          const element = document.querySelector('#df-0b65e2cc-fa29-405a-adb1-d33dd3427308');\n",
              "          const dataTable =\n",
              "            await google.colab.kernel.invokeFunction('convertToInteractive',\n",
              "                                                     [key], {});\n",
              "          if (!dataTable) return;\n",
              "\n",
              "          const docLinkHtml = 'Like what you see? Visit the ' +\n",
              "            '<a target=\"_blank\" href=https://colab.research.google.com/notebooks/data_table.ipynb>data table notebook</a>'\n",
              "            + ' to learn more about interactive tables.';\n",
              "          element.innerHTML = '';\n",
              "          dataTable['output_type'] = 'display_data';\n",
              "          await google.colab.output.renderOutput(dataTable, element);\n",
              "          const docLink = document.createElement('div');\n",
              "          docLink.innerHTML = docLinkHtml;\n",
              "          element.appendChild(docLink);\n",
              "        }\n",
              "      </script>\n",
              "    </div>\n",
              "  </div>\n",
              "  "
            ]
          },
          "metadata": {},
          "execution_count": 232
        }
      ]
    },
    {
      "cell_type": "code",
      "source": [
        "#to get the top cars with lowest MPG\n",
        "df1 = data.groupby(['origin_name','Name','Cylinders','Displacement100ci','Weight1000lb','Horsepower100','Seconds0to60'],as_index = False).agg({'MPG':'mean'}).sort_values('MPG', ascending=True)\n",
        "df1.head(10)"
      ],
      "metadata": {
        "colab": {
          "base_uri": "https://localhost:8080/",
          "height": 363
        },
        "id": "xmtyLFMMk6LW",
        "outputId": "168495dd-7c79-4b69-9d79-7d036e63ac1e"
      },
      "execution_count": 233,
      "outputs": [
        {
          "output_type": "execute_result",
          "data": {
            "text/plain": [
              "    origin_name                        Name  Cylinders  Displacement100ci  \\\n",
              "322          US                    hi 1200d          8               3.04   \n",
              "280          US                   ford f250          8               3.60   \n",
              "238          US                   chevy c20          8               3.07   \n",
              "265          US                  dodge d200          8               3.18   \n",
              "340          US            oldsmobile omega          8               3.50   \n",
              "328          US             mercury marquis          8               4.29   \n",
              "217          US            chevrolet impala          8               4.00   \n",
              "329          US    mercury marquis brougham          8               4.29   \n",
              "343          US    oldsmobile vista cruiser          8               3.50   \n",
              "339          US  oldsmobile delta 88 royale          8               3.50   \n",
              "\n",
              "     Weight1000lb  Horsepower100  Seconds0to60   MPG  \n",
              "322         4.732           1.93          18.5   9.0  \n",
              "280         4.615           2.15          14.0  10.0  \n",
              "238         4.376           2.00          15.0  10.0  \n",
              "265         4.382           2.10          13.5  11.0  \n",
              "340         3.664           1.80          11.0  11.0  \n",
              "328         4.633           2.08          11.0  11.0  \n",
              "217         4.997           1.50          14.0  11.0  \n",
              "329         4.952           1.98          11.5  12.0  \n",
              "343         4.499           1.80          12.5  12.0  \n",
              "339         4.456           1.60          13.5  12.0  "
            ],
            "text/html": [
              "\n",
              "  <div id=\"df-32bfa990-718f-4cce-9cb2-d22e96257de3\">\n",
              "    <div class=\"colab-df-container\">\n",
              "      <div>\n",
              "<style scoped>\n",
              "    .dataframe tbody tr th:only-of-type {\n",
              "        vertical-align: middle;\n",
              "    }\n",
              "\n",
              "    .dataframe tbody tr th {\n",
              "        vertical-align: top;\n",
              "    }\n",
              "\n",
              "    .dataframe thead th {\n",
              "        text-align: right;\n",
              "    }\n",
              "</style>\n",
              "<table border=\"1\" class=\"dataframe\">\n",
              "  <thead>\n",
              "    <tr style=\"text-align: right;\">\n",
              "      <th></th>\n",
              "      <th>origin_name</th>\n",
              "      <th>Name</th>\n",
              "      <th>Cylinders</th>\n",
              "      <th>Displacement100ci</th>\n",
              "      <th>Weight1000lb</th>\n",
              "      <th>Horsepower100</th>\n",
              "      <th>Seconds0to60</th>\n",
              "      <th>MPG</th>\n",
              "    </tr>\n",
              "  </thead>\n",
              "  <tbody>\n",
              "    <tr>\n",
              "      <th>322</th>\n",
              "      <td>US</td>\n",
              "      <td>hi 1200d</td>\n",
              "      <td>8</td>\n",
              "      <td>3.04</td>\n",
              "      <td>4.732</td>\n",
              "      <td>1.93</td>\n",
              "      <td>18.5</td>\n",
              "      <td>9.0</td>\n",
              "    </tr>\n",
              "    <tr>\n",
              "      <th>280</th>\n",
              "      <td>US</td>\n",
              "      <td>ford f250</td>\n",
              "      <td>8</td>\n",
              "      <td>3.60</td>\n",
              "      <td>4.615</td>\n",
              "      <td>2.15</td>\n",
              "      <td>14.0</td>\n",
              "      <td>10.0</td>\n",
              "    </tr>\n",
              "    <tr>\n",
              "      <th>238</th>\n",
              "      <td>US</td>\n",
              "      <td>chevy c20</td>\n",
              "      <td>8</td>\n",
              "      <td>3.07</td>\n",
              "      <td>4.376</td>\n",
              "      <td>2.00</td>\n",
              "      <td>15.0</td>\n",
              "      <td>10.0</td>\n",
              "    </tr>\n",
              "    <tr>\n",
              "      <th>265</th>\n",
              "      <td>US</td>\n",
              "      <td>dodge d200</td>\n",
              "      <td>8</td>\n",
              "      <td>3.18</td>\n",
              "      <td>4.382</td>\n",
              "      <td>2.10</td>\n",
              "      <td>13.5</td>\n",
              "      <td>11.0</td>\n",
              "    </tr>\n",
              "    <tr>\n",
              "      <th>340</th>\n",
              "      <td>US</td>\n",
              "      <td>oldsmobile omega</td>\n",
              "      <td>8</td>\n",
              "      <td>3.50</td>\n",
              "      <td>3.664</td>\n",
              "      <td>1.80</td>\n",
              "      <td>11.0</td>\n",
              "      <td>11.0</td>\n",
              "    </tr>\n",
              "    <tr>\n",
              "      <th>328</th>\n",
              "      <td>US</td>\n",
              "      <td>mercury marquis</td>\n",
              "      <td>8</td>\n",
              "      <td>4.29</td>\n",
              "      <td>4.633</td>\n",
              "      <td>2.08</td>\n",
              "      <td>11.0</td>\n",
              "      <td>11.0</td>\n",
              "    </tr>\n",
              "    <tr>\n",
              "      <th>217</th>\n",
              "      <td>US</td>\n",
              "      <td>chevrolet impala</td>\n",
              "      <td>8</td>\n",
              "      <td>4.00</td>\n",
              "      <td>4.997</td>\n",
              "      <td>1.50</td>\n",
              "      <td>14.0</td>\n",
              "      <td>11.0</td>\n",
              "    </tr>\n",
              "    <tr>\n",
              "      <th>329</th>\n",
              "      <td>US</td>\n",
              "      <td>mercury marquis brougham</td>\n",
              "      <td>8</td>\n",
              "      <td>4.29</td>\n",
              "      <td>4.952</td>\n",
              "      <td>1.98</td>\n",
              "      <td>11.5</td>\n",
              "      <td>12.0</td>\n",
              "    </tr>\n",
              "    <tr>\n",
              "      <th>343</th>\n",
              "      <td>US</td>\n",
              "      <td>oldsmobile vista cruiser</td>\n",
              "      <td>8</td>\n",
              "      <td>3.50</td>\n",
              "      <td>4.499</td>\n",
              "      <td>1.80</td>\n",
              "      <td>12.5</td>\n",
              "      <td>12.0</td>\n",
              "    </tr>\n",
              "    <tr>\n",
              "      <th>339</th>\n",
              "      <td>US</td>\n",
              "      <td>oldsmobile delta 88 royale</td>\n",
              "      <td>8</td>\n",
              "      <td>3.50</td>\n",
              "      <td>4.456</td>\n",
              "      <td>1.60</td>\n",
              "      <td>13.5</td>\n",
              "      <td>12.0</td>\n",
              "    </tr>\n",
              "  </tbody>\n",
              "</table>\n",
              "</div>\n",
              "      <button class=\"colab-df-convert\" onclick=\"convertToInteractive('df-32bfa990-718f-4cce-9cb2-d22e96257de3')\"\n",
              "              title=\"Convert this dataframe to an interactive table.\"\n",
              "              style=\"display:none;\">\n",
              "        \n",
              "  <svg xmlns=\"http://www.w3.org/2000/svg\" height=\"24px\"viewBox=\"0 0 24 24\"\n",
              "       width=\"24px\">\n",
              "    <path d=\"M0 0h24v24H0V0z\" fill=\"none\"/>\n",
              "    <path d=\"M18.56 5.44l.94 2.06.94-2.06 2.06-.94-2.06-.94-.94-2.06-.94 2.06-2.06.94zm-11 1L8.5 8.5l.94-2.06 2.06-.94-2.06-.94L8.5 2.5l-.94 2.06-2.06.94zm10 10l.94 2.06.94-2.06 2.06-.94-2.06-.94-.94-2.06-.94 2.06-2.06.94z\"/><path d=\"M17.41 7.96l-1.37-1.37c-.4-.4-.92-.59-1.43-.59-.52 0-1.04.2-1.43.59L10.3 9.45l-7.72 7.72c-.78.78-.78 2.05 0 2.83L4 21.41c.39.39.9.59 1.41.59.51 0 1.02-.2 1.41-.59l7.78-7.78 2.81-2.81c.8-.78.8-2.07 0-2.86zM5.41 20L4 18.59l7.72-7.72 1.47 1.35L5.41 20z\"/>\n",
              "  </svg>\n",
              "      </button>\n",
              "      \n",
              "  <style>\n",
              "    .colab-df-container {\n",
              "      display:flex;\n",
              "      flex-wrap:wrap;\n",
              "      gap: 12px;\n",
              "    }\n",
              "\n",
              "    .colab-df-convert {\n",
              "      background-color: #E8F0FE;\n",
              "      border: none;\n",
              "      border-radius: 50%;\n",
              "      cursor: pointer;\n",
              "      display: none;\n",
              "      fill: #1967D2;\n",
              "      height: 32px;\n",
              "      padding: 0 0 0 0;\n",
              "      width: 32px;\n",
              "    }\n",
              "\n",
              "    .colab-df-convert:hover {\n",
              "      background-color: #E2EBFA;\n",
              "      box-shadow: 0px 1px 2px rgba(60, 64, 67, 0.3), 0px 1px 3px 1px rgba(60, 64, 67, 0.15);\n",
              "      fill: #174EA6;\n",
              "    }\n",
              "\n",
              "    [theme=dark] .colab-df-convert {\n",
              "      background-color: #3B4455;\n",
              "      fill: #D2E3FC;\n",
              "    }\n",
              "\n",
              "    [theme=dark] .colab-df-convert:hover {\n",
              "      background-color: #434B5C;\n",
              "      box-shadow: 0px 1px 3px 1px rgba(0, 0, 0, 0.15);\n",
              "      filter: drop-shadow(0px 1px 2px rgba(0, 0, 0, 0.3));\n",
              "      fill: #FFFFFF;\n",
              "    }\n",
              "  </style>\n",
              "\n",
              "      <script>\n",
              "        const buttonEl =\n",
              "          document.querySelector('#df-32bfa990-718f-4cce-9cb2-d22e96257de3 button.colab-df-convert');\n",
              "        buttonEl.style.display =\n",
              "          google.colab.kernel.accessAllowed ? 'block' : 'none';\n",
              "\n",
              "        async function convertToInteractive(key) {\n",
              "          const element = document.querySelector('#df-32bfa990-718f-4cce-9cb2-d22e96257de3');\n",
              "          const dataTable =\n",
              "            await google.colab.kernel.invokeFunction('convertToInteractive',\n",
              "                                                     [key], {});\n",
              "          if (!dataTable) return;\n",
              "\n",
              "          const docLinkHtml = 'Like what you see? Visit the ' +\n",
              "            '<a target=\"_blank\" href=https://colab.research.google.com/notebooks/data_table.ipynb>data table notebook</a>'\n",
              "            + ' to learn more about interactive tables.';\n",
              "          element.innerHTML = '';\n",
              "          dataTable['output_type'] = 'display_data';\n",
              "          await google.colab.output.renderOutput(dataTable, element);\n",
              "          const docLink = document.createElement('div');\n",
              "          docLink.innerHTML = docLinkHtml;\n",
              "          element.appendChild(docLink);\n",
              "        }\n",
              "      </script>\n",
              "    </div>\n",
              "  </div>\n",
              "  "
            ]
          },
          "metadata": {},
          "execution_count": 233
        }
      ]
    },
    {
      "cell_type": "code",
      "source": [
        "#to get the top 10 cars with best acceleration\n",
        "df1 = data.groupby(['origin_name','Name','Cylinders','Displacement100ci','Weight1000lb','Horsepower100','MPG'],as_index = False).agg({'Seconds0to60':'mean'}).sort_values('Seconds0to60', ascending=True)\n",
        "df1.head(10)"
      ],
      "metadata": {
        "colab": {
          "base_uri": "https://localhost:8080/",
          "height": 363
        },
        "id": "KWB3XZOOnyxm",
        "outputId": "12e7cd4b-f2a2-496b-b483-5c84f38d386e"
      },
      "execution_count": 234,
      "outputs": [
        {
          "output_type": "execute_result",
          "data": {
            "text/plain": [
              "    origin_name                     Name  Cylinders  Displacement100ci  \\\n",
              "344          US       plymouth 'cuda 340          8               3.40   \n",
              "147          US       amc ambassador dpl          8               3.90   \n",
              "356          US        plymouth fury iii          8               4.40   \n",
              "218          US         chevrolet impala          8               4.54   \n",
              "381          US       pontiac grand prix          8               4.00   \n",
              "222          US    chevrolet monte carlo          8               4.00   \n",
              "181          US  buick estate wagon (sw)          8               4.55   \n",
              "290          US         ford galaxie 500          8               4.29   \n",
              "252          US      dodge challenger se          8               3.83   \n",
              "378          US         pontiac catalina          8               4.55   \n",
              "\n",
              "     Weight1000lb  Horsepower100   MPG  Seconds0to60  \n",
              "344         3.609           1.60  14.0           8.0  \n",
              "147         3.850           1.90  15.0           8.5  \n",
              "356         4.312           2.15  14.0           8.5  \n",
              "218         4.354           2.20  14.0           9.0  \n",
              "381         4.278           2.30  16.0           9.5  \n",
              "222         3.761           1.50  15.0           9.5  \n",
              "181         3.086           2.25  14.0          10.0  \n",
              "290         4.341           1.98  15.0          10.0  \n",
              "252         3.563           1.70  15.0          10.0  \n",
              "378         4.425           2.25  14.0          10.0  "
            ],
            "text/html": [
              "\n",
              "  <div id=\"df-b2b7fdf9-4289-4e76-ab8c-b00c8648516c\">\n",
              "    <div class=\"colab-df-container\">\n",
              "      <div>\n",
              "<style scoped>\n",
              "    .dataframe tbody tr th:only-of-type {\n",
              "        vertical-align: middle;\n",
              "    }\n",
              "\n",
              "    .dataframe tbody tr th {\n",
              "        vertical-align: top;\n",
              "    }\n",
              "\n",
              "    .dataframe thead th {\n",
              "        text-align: right;\n",
              "    }\n",
              "</style>\n",
              "<table border=\"1\" class=\"dataframe\">\n",
              "  <thead>\n",
              "    <tr style=\"text-align: right;\">\n",
              "      <th></th>\n",
              "      <th>origin_name</th>\n",
              "      <th>Name</th>\n",
              "      <th>Cylinders</th>\n",
              "      <th>Displacement100ci</th>\n",
              "      <th>Weight1000lb</th>\n",
              "      <th>Horsepower100</th>\n",
              "      <th>MPG</th>\n",
              "      <th>Seconds0to60</th>\n",
              "    </tr>\n",
              "  </thead>\n",
              "  <tbody>\n",
              "    <tr>\n",
              "      <th>344</th>\n",
              "      <td>US</td>\n",
              "      <td>plymouth 'cuda 340</td>\n",
              "      <td>8</td>\n",
              "      <td>3.40</td>\n",
              "      <td>3.609</td>\n",
              "      <td>1.60</td>\n",
              "      <td>14.0</td>\n",
              "      <td>8.0</td>\n",
              "    </tr>\n",
              "    <tr>\n",
              "      <th>147</th>\n",
              "      <td>US</td>\n",
              "      <td>amc ambassador dpl</td>\n",
              "      <td>8</td>\n",
              "      <td>3.90</td>\n",
              "      <td>3.850</td>\n",
              "      <td>1.90</td>\n",
              "      <td>15.0</td>\n",
              "      <td>8.5</td>\n",
              "    </tr>\n",
              "    <tr>\n",
              "      <th>356</th>\n",
              "      <td>US</td>\n",
              "      <td>plymouth fury iii</td>\n",
              "      <td>8</td>\n",
              "      <td>4.40</td>\n",
              "      <td>4.312</td>\n",
              "      <td>2.15</td>\n",
              "      <td>14.0</td>\n",
              "      <td>8.5</td>\n",
              "    </tr>\n",
              "    <tr>\n",
              "      <th>218</th>\n",
              "      <td>US</td>\n",
              "      <td>chevrolet impala</td>\n",
              "      <td>8</td>\n",
              "      <td>4.54</td>\n",
              "      <td>4.354</td>\n",
              "      <td>2.20</td>\n",
              "      <td>14.0</td>\n",
              "      <td>9.0</td>\n",
              "    </tr>\n",
              "    <tr>\n",
              "      <th>381</th>\n",
              "      <td>US</td>\n",
              "      <td>pontiac grand prix</td>\n",
              "      <td>8</td>\n",
              "      <td>4.00</td>\n",
              "      <td>4.278</td>\n",
              "      <td>2.30</td>\n",
              "      <td>16.0</td>\n",
              "      <td>9.5</td>\n",
              "    </tr>\n",
              "    <tr>\n",
              "      <th>222</th>\n",
              "      <td>US</td>\n",
              "      <td>chevrolet monte carlo</td>\n",
              "      <td>8</td>\n",
              "      <td>4.00</td>\n",
              "      <td>3.761</td>\n",
              "      <td>1.50</td>\n",
              "      <td>15.0</td>\n",
              "      <td>9.5</td>\n",
              "    </tr>\n",
              "    <tr>\n",
              "      <th>181</th>\n",
              "      <td>US</td>\n",
              "      <td>buick estate wagon (sw)</td>\n",
              "      <td>8</td>\n",
              "      <td>4.55</td>\n",
              "      <td>3.086</td>\n",
              "      <td>2.25</td>\n",
              "      <td>14.0</td>\n",
              "      <td>10.0</td>\n",
              "    </tr>\n",
              "    <tr>\n",
              "      <th>290</th>\n",
              "      <td>US</td>\n",
              "      <td>ford galaxie 500</td>\n",
              "      <td>8</td>\n",
              "      <td>4.29</td>\n",
              "      <td>4.341</td>\n",
              "      <td>1.98</td>\n",
              "      <td>15.0</td>\n",
              "      <td>10.0</td>\n",
              "    </tr>\n",
              "    <tr>\n",
              "      <th>252</th>\n",
              "      <td>US</td>\n",
              "      <td>dodge challenger se</td>\n",
              "      <td>8</td>\n",
              "      <td>3.83</td>\n",
              "      <td>3.563</td>\n",
              "      <td>1.70</td>\n",
              "      <td>15.0</td>\n",
              "      <td>10.0</td>\n",
              "    </tr>\n",
              "    <tr>\n",
              "      <th>378</th>\n",
              "      <td>US</td>\n",
              "      <td>pontiac catalina</td>\n",
              "      <td>8</td>\n",
              "      <td>4.55</td>\n",
              "      <td>4.425</td>\n",
              "      <td>2.25</td>\n",
              "      <td>14.0</td>\n",
              "      <td>10.0</td>\n",
              "    </tr>\n",
              "  </tbody>\n",
              "</table>\n",
              "</div>\n",
              "      <button class=\"colab-df-convert\" onclick=\"convertToInteractive('df-b2b7fdf9-4289-4e76-ab8c-b00c8648516c')\"\n",
              "              title=\"Convert this dataframe to an interactive table.\"\n",
              "              style=\"display:none;\">\n",
              "        \n",
              "  <svg xmlns=\"http://www.w3.org/2000/svg\" height=\"24px\"viewBox=\"0 0 24 24\"\n",
              "       width=\"24px\">\n",
              "    <path d=\"M0 0h24v24H0V0z\" fill=\"none\"/>\n",
              "    <path d=\"M18.56 5.44l.94 2.06.94-2.06 2.06-.94-2.06-.94-.94-2.06-.94 2.06-2.06.94zm-11 1L8.5 8.5l.94-2.06 2.06-.94-2.06-.94L8.5 2.5l-.94 2.06-2.06.94zm10 10l.94 2.06.94-2.06 2.06-.94-2.06-.94-.94-2.06-.94 2.06-2.06.94z\"/><path d=\"M17.41 7.96l-1.37-1.37c-.4-.4-.92-.59-1.43-.59-.52 0-1.04.2-1.43.59L10.3 9.45l-7.72 7.72c-.78.78-.78 2.05 0 2.83L4 21.41c.39.39.9.59 1.41.59.51 0 1.02-.2 1.41-.59l7.78-7.78 2.81-2.81c.8-.78.8-2.07 0-2.86zM5.41 20L4 18.59l7.72-7.72 1.47 1.35L5.41 20z\"/>\n",
              "  </svg>\n",
              "      </button>\n",
              "      \n",
              "  <style>\n",
              "    .colab-df-container {\n",
              "      display:flex;\n",
              "      flex-wrap:wrap;\n",
              "      gap: 12px;\n",
              "    }\n",
              "\n",
              "    .colab-df-convert {\n",
              "      background-color: #E8F0FE;\n",
              "      border: none;\n",
              "      border-radius: 50%;\n",
              "      cursor: pointer;\n",
              "      display: none;\n",
              "      fill: #1967D2;\n",
              "      height: 32px;\n",
              "      padding: 0 0 0 0;\n",
              "      width: 32px;\n",
              "    }\n",
              "\n",
              "    .colab-df-convert:hover {\n",
              "      background-color: #E2EBFA;\n",
              "      box-shadow: 0px 1px 2px rgba(60, 64, 67, 0.3), 0px 1px 3px 1px rgba(60, 64, 67, 0.15);\n",
              "      fill: #174EA6;\n",
              "    }\n",
              "\n",
              "    [theme=dark] .colab-df-convert {\n",
              "      background-color: #3B4455;\n",
              "      fill: #D2E3FC;\n",
              "    }\n",
              "\n",
              "    [theme=dark] .colab-df-convert:hover {\n",
              "      background-color: #434B5C;\n",
              "      box-shadow: 0px 1px 3px 1px rgba(0, 0, 0, 0.15);\n",
              "      filter: drop-shadow(0px 1px 2px rgba(0, 0, 0, 0.3));\n",
              "      fill: #FFFFFF;\n",
              "    }\n",
              "  </style>\n",
              "\n",
              "      <script>\n",
              "        const buttonEl =\n",
              "          document.querySelector('#df-b2b7fdf9-4289-4e76-ab8c-b00c8648516c button.colab-df-convert');\n",
              "        buttonEl.style.display =\n",
              "          google.colab.kernel.accessAllowed ? 'block' : 'none';\n",
              "\n",
              "        async function convertToInteractive(key) {\n",
              "          const element = document.querySelector('#df-b2b7fdf9-4289-4e76-ab8c-b00c8648516c');\n",
              "          const dataTable =\n",
              "            await google.colab.kernel.invokeFunction('convertToInteractive',\n",
              "                                                     [key], {});\n",
              "          if (!dataTable) return;\n",
              "\n",
              "          const docLinkHtml = 'Like what you see? Visit the ' +\n",
              "            '<a target=\"_blank\" href=https://colab.research.google.com/notebooks/data_table.ipynb>data table notebook</a>'\n",
              "            + ' to learn more about interactive tables.';\n",
              "          element.innerHTML = '';\n",
              "          dataTable['output_type'] = 'display_data';\n",
              "          await google.colab.output.renderOutput(dataTable, element);\n",
              "          const docLink = document.createElement('div');\n",
              "          docLink.innerHTML = docLinkHtml;\n",
              "          element.appendChild(docLink);\n",
              "        }\n",
              "      </script>\n",
              "    </div>\n",
              "  </div>\n",
              "  "
            ]
          },
          "metadata": {},
          "execution_count": 234
        }
      ]
    },
    {
      "cell_type": "code",
      "source": [
        "data_new = data.copy()"
      ],
      "metadata": {
        "id": "NvrL4xPQ9pd4"
      },
      "execution_count": 235,
      "outputs": []
    },
    {
      "cell_type": "code",
      "source": [
        "data_new.drop(['Name','GallonsPer100Miles'],axis = 1, inplace = True)"
      ],
      "metadata": {
        "id": "9VOE8BIi9voC"
      },
      "execution_count": 236,
      "outputs": []
    },
    {
      "cell_type": "code",
      "source": [
        "plt.figure(figsize=(10,8))\n",
        "sns.heatmap(data_new.corr(), annot=True)\n",
        "plt.title('Correlation Matrix for numerical features')\n",
        "plt.show()"
      ],
      "metadata": {
        "colab": {
          "base_uri": "https://localhost:8080/",
          "height": 622
        },
        "id": "QJCO_ldh1aMO",
        "outputId": "ef7ac06e-b6c7-4580-82c9-a8b3d722da29"
      },
      "execution_count": 237,
      "outputs": [
        {
          "output_type": "display_data",
          "data": {
            "text/plain": [
              "<Figure size 720x576 with 2 Axes>"
            ],
            "image/png": "[encoded data removed]"
          },
          "metadata": {
            "needs_background": "light"
          }
        }
      ]
    },
    {
      "cell_type": "markdown",
      "source": [
        "# Data Transformation and Cleaning"
      ],
      "metadata": {
        "id": "MsdQ00okDcMT"
      }
    },
    {
      "cell_type": "markdown",
      "source": [
        "We have outliers for \"Seconds0to60\" and \"Horsepower100\" features. We need to consult business expert before removing or caping or replacing the outliers. But for now I am caping the outliers of these two features."
      ],
      "metadata": {
        "id": "bNXkxuNwt4E1"
      }
    },
    {
      "cell_type": "code",
      "source": [
        "data['Seconds0to60'] = np.where(data['Seconds0to60'] > 21.9, 21.9,np.where(data['Seconds0to60'] < 8.9, 8.9,data['Seconds0to60']))\n"
      ],
      "metadata": {
        "id": "DNxT42D0v6gZ"
      },
      "execution_count": 238,
      "outputs": []
    },
    {
      "cell_type": "code",
      "source": [
        "plt.figure(figsize = (6,4))\n",
        "fig = sns.boxplot(x = 'Seconds0to60', data = data)\n",
        "\n",
        "plt.figure(figsize = (6,4))\n",
        "sns.distplot(data['Seconds0to60'],bins = 20)\n",
        "\n",
        "data['Seconds0to60'].describe()"
      ],
      "metadata": {
        "colab": {
          "base_uri": "https://localhost:8080/",
          "height": 752
        },
        "id": "okCjg9VdyXh4",
        "outputId": "6a557441-4807-486c-bb13-6b77ab82dbb9"
      },
      "execution_count": 239,
      "outputs": [
        {
          "output_type": "stream",
          "name": "stderr",
          "text": [
            "/usr/local/lib/python3.7/dist-packages/seaborn/distributions.py:2619: FutureWarning: `distplot` is a deprecated function and will be removed in a future version. Please adapt your code to use either `displot` (a figure-level function with similar flexibility) or `histplot` (an axes-level function for histograms).\n",
            "  warnings.warn(msg, FutureWarning)\n"
          ]
        },
        {
          "output_type": "execute_result",
          "data": {
            "text/plain": [
              "count    392.000000\n",
              "mean      15.520663\n",
              "std        2.678799\n",
              "min        8.900000\n",
              "25%       13.775000\n",
              "50%       15.500000\n",
              "75%       17.025000\n",
              "max       21.900000\n",
              "Name: Seconds0to60, dtype: float64"
            ]
          },
          "metadata": {},
          "execution_count": 239
        },
        {
          "output_type": "display_data",
          "data": {
            "text/plain": [
              "<Figure size 432x288 with 1 Axes>"
            ],
            "image/png": "[encoded data removed]"
          },
          "metadata": {
            "needs_background": "light"
          }
        },
        {
          "output_type": "display_data",
          "data": {
            "text/plain": [
              "<Figure size 432x288 with 1 Axes>"
            ],
            "image/png": "[encoded data removed]"
          },
          "metadata": {
            "needs_background": "light"
          }
        }
      ]
    },
    {
      "cell_type": "code",
      "source": [
        "data['Horsepower100'] = np.where(data['Horsepower100'] > 2.025, 2.025,data['Horsepower100'])"
      ],
      "metadata": {
        "id": "W4Z2jZbjBkOs"
      },
      "execution_count": 240,
      "outputs": []
    },
    {
      "cell_type": "code",
      "source": [
        "plt.figure(figsize = (6,4))\n",
        "fig = sns.boxplot(x = 'Horsepower100', data = data)\n",
        "\n",
        "plt.figure(figsize = (6,4))\n",
        "sns.distplot(data['Horsepower100'],bins = 20)\n",
        "\n",
        "data['Horsepower100'].describe()"
      ],
      "metadata": {
        "colab": {
          "base_uri": "https://localhost:8080/",
          "height": 752
        },
        "id": "n9LmHUypAEnk",
        "outputId": "2ec6b8af-e02f-4874-b6de-ee2ec04d5e3e"
      },
      "execution_count": 241,
      "outputs": [
        {
          "output_type": "stream",
          "name": "stderr",
          "text": [
            "/usr/local/lib/python3.7/dist-packages/seaborn/distributions.py:2619: FutureWarning: `distplot` is a deprecated function and will be removed in a future version. Please adapt your code to use either `displot` (a figure-level function with similar flexibility) or `histplot` (an axes-level function for histograms).\n",
            "  warnings.warn(msg, FutureWarning)\n"
          ]
        },
        {
          "output_type": "execute_result",
          "data": {
            "text/plain": [
              "count    392.000000\n",
              "mean       1.040536\n",
              "std        0.373047\n",
              "min        0.460000\n",
              "25%        0.750000\n",
              "50%        0.935000\n",
              "75%        1.260000\n",
              "max        2.025000\n",
              "Name: Horsepower100, dtype: float64"
            ]
          },
          "metadata": {},
          "execution_count": 241
        },
        {
          "output_type": "display_data",
          "data": {
            "text/plain": [
              "<Figure size 432x288 with 1 Axes>"
            ],
            "image/png": "[encoded data removed]"
          },
          "metadata": {
            "needs_background": "light"
          }
        },
        {
          "output_type": "display_data",
          "data": {
            "text/plain": [
              "<Figure size 432x288 with 1 Axes>"
            ],
            "image/png": "[encoded data removed]"
          },
          "metadata": {
            "needs_background": "light"
          }
        }
      ]
    },
    {
      "cell_type": "code",
      "source": [
        "data.drop(['GallonsPer100Miles','GallonsPer100MilesTo1981','Year','Origin','Origin.Eq.1','Origin.Eq.2','Origin.Eq.3','Name'], axis =1 , inplace = True)"
      ],
      "metadata": {
        "id": "yJBZts2Rp-bn"
      },
      "execution_count": 242,
      "outputs": []
    },
    {
      "cell_type": "code",
      "source": [
        "data_new = pd.get_dummies(data=data, columns=['Cylinders', 'origin_name'],drop_first = True)"
      ],
      "metadata": {
        "id": "Vwu3Mc5o8HWj"
      },
      "execution_count": 306,
      "outputs": []
    },
    {
      "cell_type": "code",
      "source": [
        "data_new.head(4)"
      ],
      "metadata": {
        "colab": {
          "base_uri": "https://localhost:8080/",
          "height": 239
        },
        "id": "vUKCBcMCKwbU",
        "outputId": "546c8fac-c67d-4204-fe92-c9afe98e0248"
      },
      "execution_count": 307,
      "outputs": [
        {
          "output_type": "execute_result",
          "data": {
            "text/plain": [
              "    MPG  Displacement100ci  Horsepower100  Weight1000lb  Seconds0to60  \\\n",
              "0  18.0               3.07           1.30         3.504          12.0   \n",
              "1  15.0               3.50           1.65         3.693          11.5   \n",
              "2  18.0               3.18           1.50         3.436          11.0   \n",
              "3  16.0               3.04           1.50         3.433          12.0   \n",
              "\n",
              "  Year70To81  Cylinders_4  Cylinders_5  Cylinders_6  Cylinders_8  \\\n",
              "0          1            0            0            0            1   \n",
              "1          1            0            0            0            1   \n",
              "2          1            0            0            0            1   \n",
              "3          1            0            0            0            1   \n",
              "\n",
              "   origin_name_Japan  origin_name_US  \n",
              "0                  0               1  \n",
              "1                  0               1  \n",
              "2                  0               1  \n",
              "3                  0               1  "
            ],
            "text/html": [
              "\n",
              "  <div id=\"df-56724630-443c-44c7-8f58-dcbdb6497db2\">\n",
              "    <div class=\"colab-df-container\">\n",
              "      <div>\n",
              "<style scoped>\n",
              "    .dataframe tbody tr th:only-of-type {\n",
              "        vertical-align: middle;\n",
              "    }\n",
              "\n",
              "    .dataframe tbody tr th {\n",
              "        vertical-align: top;\n",
              "    }\n",
              "\n",
              "    .dataframe thead th {\n",
              "        text-align: right;\n",
              "    }\n",
              "</style>\n",
              "<table border=\"1\" class=\"dataframe\">\n",
              "  <thead>\n",
              "    <tr style=\"text-align: right;\">\n",
              "      <th></th>\n",
              "      <th>MPG</th>\n",
              "      <th>Displacement100ci</th>\n",
              "      <th>Horsepower100</th>\n",
              "      <th>Weight1000lb</th>\n",
              "      <th>Seconds0to60</th>\n",
              "      <th>Year70To81</th>\n",
              "      <th>Cylinders_4</th>\n",
              "      <th>Cylinders_5</th>\n",
              "      <th>Cylinders_6</th>\n",
              "      <th>Cylinders_8</th>\n",
              "      <th>origin_name_Japan</th>\n",
              "      <th>origin_name_US</th>\n",
              "    </tr>\n",
              "  </thead>\n",
              "  <tbody>\n",
              "    <tr>\n",
              "      <th>0</th>\n",
              "      <td>18.0</td>\n",
              "      <td>3.07</td>\n",
              "      <td>1.30</td>\n",
              "      <td>3.504</td>\n",
              "      <td>12.0</td>\n",
              "      <td>1</td>\n",
              "      <td>0</td>\n",
              "      <td>0</td>\n",
              "      <td>0</td>\n",
              "      <td>1</td>\n",
              "      <td>0</td>\n",
              "      <td>1</td>\n",
              "    </tr>\n",
              "    <tr>\n",
              "      <th>1</th>\n",
              "      <td>15.0</td>\n",
              "      <td>3.50</td>\n",
              "      <td>1.65</td>\n",
              "      <td>3.693</td>\n",
              "      <td>11.5</td>\n",
              "      <td>1</td>\n",
              "      <td>0</td>\n",
              "      <td>0</td>\n",
              "      <td>0</td>\n",
              "      <td>1</td>\n",
              "      <td>0</td>\n",
              "      <td>1</td>\n",
              "    </tr>\n",
              "    <tr>\n",
              "      <th>2</th>\n",
              "      <td>18.0</td>\n",
              "      <td>3.18</td>\n",
              "      <td>1.50</td>\n",
              "      <td>3.436</td>\n",
              "      <td>11.0</td>\n",
              "      <td>1</td>\n",
              "      <td>0</td>\n",
              "      <td>0</td>\n",
              "      <td>0</td>\n",
              "      <td>1</td>\n",
              "      <td>0</td>\n",
              "      <td>1</td>\n",
              "    </tr>\n",
              "    <tr>\n",
              "      <th>3</th>\n",
              "      <td>16.0</td>\n",
              "      <td>3.04</td>\n",
              "      <td>1.50</td>\n",
              "      <td>3.433</td>\n",
              "      <td>12.0</td>\n",
              "      <td>1</td>\n",
              "      <td>0</td>\n",
              "      <td>0</td>\n",
              "      <td>0</td>\n",
              "      <td>1</td>\n",
              "      <td>0</td>\n",
              "      <td>1</td>\n",
              "    </tr>\n",
              "  </tbody>\n",
              "</table>\n",
              "</div>\n",
              "      <button class=\"colab-df-convert\" onclick=\"convertToInteractive('df-56724630-443c-44c7-8f58-dcbdb6497db2')\"\n",
              "              title=\"Convert this dataframe to an interactive table.\"\n",
              "              style=\"display:none;\">\n",
              "        \n",
              "  <svg xmlns=\"http://www.w3.org/2000/svg\" height=\"24px\"viewBox=\"0 0 24 24\"\n",
              "       width=\"24px\">\n",
              "    <path d=\"M0 0h24v24H0V0z\" fill=\"none\"/>\n",
              "    <path d=\"M18.56 5.44l.94 2.06.94-2.06 2.06-.94-2.06-.94-.94-2.06-.94 2.06-2.06.94zm-11 1L8.5 8.5l.94-2.06 2.06-.94-2.06-.94L8.5 2.5l-.94 2.06-2.06.94zm10 10l.94 2.06.94-2.06 2.06-.94-2.06-.94-.94-2.06-.94 2.06-2.06.94z\"/><path d=\"M17.41 7.96l-1.37-1.37c-.4-.4-.92-.59-1.43-.59-.52 0-1.04.2-1.43.59L10.3 9.45l-7.72 7.72c-.78.78-.78 2.05 0 2.83L4 21.41c.39.39.9.59 1.41.59.51 0 1.02-.2 1.41-.59l7.78-7.78 2.81-2.81c.8-.78.8-2.07 0-2.86zM5.41 20L4 18.59l7.72-7.72 1.47 1.35L5.41 20z\"/>\n",
              "  </svg>\n",
              "      </button>\n",
              "      \n",
              "  <style>\n",
              "    .colab-df-container {\n",
              "      display:flex;\n",
              "      flex-wrap:wrap;\n",
              "      gap: 12px;\n",
              "    }\n",
              "\n",
              "    .colab-df-convert {\n",
              "      background-color: #E8F0FE;\n",
              "      border: none;\n",
              "      border-radius: 50%;\n",
              "      cursor: pointer;\n",
              "      display: none;\n",
              "      fill: #1967D2;\n",
              "      height: 32px;\n",
              "      padding: 0 0 0 0;\n",
              "      width: 32px;\n",
              "    }\n",
              "\n",
              "    .colab-df-convert:hover {\n",
              "      background-color: #E2EBFA;\n",
              "      box-shadow: 0px 1px 2px rgba(60, 64, 67, 0.3), 0px 1px 3px 1px rgba(60, 64, 67, 0.15);\n",
              "      fill: #174EA6;\n",
              "    }\n",
              "\n",
              "    [theme=dark] .colab-df-convert {\n",
              "      background-color: #3B4455;\n",
              "      fill: #D2E3FC;\n",
              "    }\n",
              "\n",
              "    [theme=dark] .colab-df-convert:hover {\n",
              "      background-color: #434B5C;\n",
              "      box-shadow: 0px 1px 3px 1px rgba(0, 0, 0, 0.15);\n",
              "      filter: drop-shadow(0px 1px 2px rgba(0, 0, 0, 0.3));\n",
              "      fill: #FFFFFF;\n",
              "    }\n",
              "  </style>\n",
              "\n",
              "      <script>\n",
              "        const buttonEl =\n",
              "          document.querySelector('#df-56724630-443c-44c7-8f58-dcbdb6497db2 button.colab-df-convert');\n",
              "        buttonEl.style.display =\n",
              "          google.colab.kernel.accessAllowed ? 'block' : 'none';\n",
              "\n",
              "        async function convertToInteractive(key) {\n",
              "          const element = document.querySelector('#df-56724630-443c-44c7-8f58-dcbdb6497db2');\n",
              "          const dataTable =\n",
              "            await google.colab.kernel.invokeFunction('convertToInteractive',\n",
              "                                                     [key], {});\n",
              "          if (!dataTable) return;\n",
              "\n",
              "          const docLinkHtml = 'Like what you see? Visit the ' +\n",
              "            '<a target=\"_blank\" href=https://colab.research.google.com/notebooks/data_table.ipynb>data table notebook</a>'\n",
              "            + ' to learn more about interactive tables.';\n",
              "          element.innerHTML = '';\n",
              "          dataTable['output_type'] = 'display_data';\n",
              "          await google.colab.output.renderOutput(dataTable, element);\n",
              "          const docLink = document.createElement('div');\n",
              "          docLink.innerHTML = docLinkHtml;\n",
              "          element.appendChild(docLink);\n",
              "        }\n",
              "      </script>\n",
              "    </div>\n",
              "  </div>\n",
              "  "
            ]
          },
          "metadata": {},
          "execution_count": 307
        }
      ]
    },
    {
      "cell_type": "code",
      "source": [
        "#Scaling the data using min-max normalization as we have both numerical and categorical features. So to bring all the features in the range of (0,1) it has been used.\n",
        "cols = ['Displacement100ci', 'Horsepower100', 'Weight1000lb','Seconds0to60']\n",
        "data_new[cols] = scaler.fit_transform(df[cols])"
      ],
      "metadata": {
        "id": "PQ0FDWyvv8lv"
      },
      "execution_count": 308,
      "outputs": []
    },
    {
      "cell_type": "code",
      "source": [
        "data_new.head()"
      ],
      "metadata": {
        "colab": {
          "base_uri": "https://localhost:8080/",
          "height": 270
        },
        "id": "fGPbz-LJvsw3",
        "outputId": "07eafd36-35ed-4afc-ea8e-2e8061d3ffbb"
      },
      "execution_count": 309,
      "outputs": [
        {
          "output_type": "execute_result",
          "data": {
            "text/plain": [
              "    MPG  Displacement100ci  Horsepower100  Weight1000lb  Seconds0to60  \\\n",
              "0  18.0           0.617571       0.456522      0.536150      0.238095   \n",
              "1  15.0           0.728682       0.646739      0.589736      0.208333   \n",
              "2  18.0           0.645995       0.565217      0.516870      0.178571   \n",
              "3  16.0           0.609819       0.565217      0.516019      0.238095   \n",
              "4  17.0           0.604651       0.510870      0.520556      0.148810   \n",
              "\n",
              "  Year70To81  Cylinders_4  Cylinders_5  Cylinders_6  Cylinders_8  \\\n",
              "0          1            0            0            0            1   \n",
              "1          1            0            0            0            1   \n",
              "2          1            0            0            0            1   \n",
              "3          1            0            0            0            1   \n",
              "4          1            0            0            0            1   \n",
              "\n",
              "   origin_name_Japan  origin_name_US  \n",
              "0                  0               1  \n",
              "1                  0               1  \n",
              "2                  0               1  \n",
              "3                  0               1  \n",
              "4                  0               1  "
            ],
            "text/html": [
              "\n",
              "  <div id=\"df-b1696bb3-7004-40b7-a6d9-5cd04dda6447\">\n",
              "    <div class=\"colab-df-container\">\n",
              "      <div>\n",
              "<style scoped>\n",
              "    .dataframe tbody tr th:only-of-type {\n",
              "        vertical-align: middle;\n",
              "    }\n",
              "\n",
              "    .dataframe tbody tr th {\n",
              "        vertical-align: top;\n",
              "    }\n",
              "\n",
              "    .dataframe thead th {\n",
              "        text-align: right;\n",
              "    }\n",
              "</style>\n",
              "<table border=\"1\" class=\"dataframe\">\n",
              "  <thead>\n",
              "    <tr style=\"text-align: right;\">\n",
              "      <th></th>\n",
              "      <th>MPG</th>\n",
              "      <th>Displacement100ci</th>\n",
              "      <th>Horsepower100</th>\n",
              "      <th>Weight1000lb</th>\n",
              "      <th>Seconds0to60</th>\n",
              "      <th>Year70To81</th>\n",
              "      <th>Cylinders_4</th>\n",
              "      <th>Cylinders_5</th>\n",
              "      <th>Cylinders_6</th>\n",
              "      <th>Cylinders_8</th>\n",
              "      <th>origin_name_Japan</th>\n",
              "      <th>origin_name_US</th>\n",
              "    </tr>\n",
              "  </thead>\n",
              "  <tbody>\n",
              "    <tr>\n",
              "      <th>0</th>\n",
              "      <td>18.0</td>\n",
              "      <td>0.617571</td>\n",
              "      <td>0.456522</td>\n",
              "      <td>0.536150</td>\n",
              "      <td>0.238095</td>\n",
              "      <td>1</td>\n",
              "      <td>0</td>\n",
              "      <td>0</td>\n",
              "      <td>0</td>\n",
              "      <td>1</td>\n",
              "      <td>0</td>\n",
              "      <td>1</td>\n",
              "    </tr>\n",
              "    <tr>\n",
              "      <th>1</th>\n",
              "      <td>15.0</td>\n",
              "      <td>0.728682</td>\n",
              "      <td>0.646739</td>\n",
              "      <td>0.589736</td>\n",
              "      <td>0.208333</td>\n",
              "      <td>1</td>\n",
              "      <td>0</td>\n",
              "      <td>0</td>\n",
              "      <td>0</td>\n",
              "      <td>1</td>\n",
              "      <td>0</td>\n",
              "      <td>1</td>\n",
              "    </tr>\n",
              "    <tr>\n",
              "      <th>2</th>\n",
              "      <td>18.0</td>\n",
              "      <td>0.645995</td>\n",
              "      <td>0.565217</td>\n",
              "      <td>0.516870</td>\n",
              "      <td>0.178571</td>\n",
              "      <td>1</td>\n",
              "      <td>0</td>\n",
              "      <td>0</td>\n",
              "      <td>0</td>\n",
              "      <td>1</td>\n",
              "      <td>0</td>\n",
              "      <td>1</td>\n",
              "    </tr>\n",
              "    <tr>\n",
              "      <th>3</th>\n",
              "      <td>16.0</td>\n",
              "      <td>0.609819</td>\n",
              "      <td>0.565217</td>\n",
              "      <td>0.516019</td>\n",
              "      <td>0.238095</td>\n",
              "      <td>1</td>\n",
              "      <td>0</td>\n",
              "      <td>0</td>\n",
              "      <td>0</td>\n",
              "      <td>1</td>\n",
              "      <td>0</td>\n",
              "      <td>1</td>\n",
              "    </tr>\n",
              "    <tr>\n",
              "      <th>4</th>\n",
              "      <td>17.0</td>\n",
              "      <td>0.604651</td>\n",
              "      <td>0.510870</td>\n",
              "      <td>0.520556</td>\n",
              "      <td>0.148810</td>\n",
              "      <td>1</td>\n",
              "      <td>0</td>\n",
              "      <td>0</td>\n",
              "      <td>0</td>\n",
              "      <td>1</td>\n",
              "      <td>0</td>\n",
              "      <td>1</td>\n",
              "    </tr>\n",
              "  </tbody>\n",
              "</table>\n",
              "</div>\n",
              "      <button class=\"colab-df-convert\" onclick=\"convertToInteractive('df-b1696bb3-7004-40b7-a6d9-5cd04dda6447')\"\n",
              "              title=\"Convert this dataframe to an interactive table.\"\n",
              "              style=\"display:none;\">\n",
              "        \n",
              "  <svg xmlns=\"http://www.w3.org/2000/svg\" height=\"24px\"viewBox=\"0 0 24 24\"\n",
              "       width=\"24px\">\n",
              "    <path d=\"M0 0h24v24H0V0z\" fill=\"none\"/>\n",
              "    <path d=\"M18.56 5.44l.94 2.06.94-2.06 2.06-.94-2.06-.94-.94-2.06-.94 2.06-2.06.94zm-11 1L8.5 8.5l.94-2.06 2.06-.94-2.06-.94L8.5 2.5l-.94 2.06-2.06.94zm10 10l.94 2.06.94-2.06 2.06-.94-2.06-.94-.94-2.06-.94 2.06-2.06.94z\"/><path d=\"M17.41 7.96l-1.37-1.37c-.4-.4-.92-.59-1.43-.59-.52 0-1.04.2-1.43.59L10.3 9.45l-7.72 7.72c-.78.78-.78 2.05 0 2.83L4 21.41c.39.39.9.59 1.41.59.51 0 1.02-.2 1.41-.59l7.78-7.78 2.81-2.81c.8-.78.8-2.07 0-2.86zM5.41 20L4 18.59l7.72-7.72 1.47 1.35L5.41 20z\"/>\n",
              "  </svg>\n",
              "      </button>\n",
              "      \n",
              "  <style>\n",
              "    .colab-df-container {\n",
              "      display:flex;\n",
              "      flex-wrap:wrap;\n",
              "      gap: 12px;\n",
              "    }\n",
              "\n",
              "    .colab-df-convert {\n",
              "      background-color: #E8F0FE;\n",
              "      border: none;\n",
              "      border-radius: 50%;\n",
              "      cursor: pointer;\n",
              "      display: none;\n",
              "      fill: #1967D2;\n",
              "      height: 32px;\n",
              "      padding: 0 0 0 0;\n",
              "      width: 32px;\n",
              "    }\n",
              "\n",
              "    .colab-df-convert:hover {\n",
              "      background-color: #E2EBFA;\n",
              "      box-shadow: 0px 1px 2px rgba(60, 64, 67, 0.3), 0px 1px 3px 1px rgba(60, 64, 67, 0.15);\n",
              "      fill: #174EA6;\n",
              "    }\n",
              "\n",
              "    [theme=dark] .colab-df-convert {\n",
              "      background-color: #3B4455;\n",
              "      fill: #D2E3FC;\n",
              "    }\n",
              "\n",
              "    [theme=dark] .colab-df-convert:hover {\n",
              "      background-color: #434B5C;\n",
              "      box-shadow: 0px 1px 3px 1px rgba(0, 0, 0, 0.15);\n",
              "      filter: drop-shadow(0px 1px 2px rgba(0, 0, 0, 0.3));\n",
              "      fill: #FFFFFF;\n",
              "    }\n",
              "  </style>\n",
              "\n",
              "      <script>\n",
              "        const buttonEl =\n",
              "          document.querySelector('#df-b1696bb3-7004-40b7-a6d9-5cd04dda6447 button.colab-df-convert');\n",
              "        buttonEl.style.display =\n",
              "          google.colab.kernel.accessAllowed ? 'block' : 'none';\n",
              "\n",
              "        async function convertToInteractive(key) {\n",
              "          const element = document.querySelector('#df-b1696bb3-7004-40b7-a6d9-5cd04dda6447');\n",
              "          const dataTable =\n",
              "            await google.colab.kernel.invokeFunction('convertToInteractive',\n",
              "                                                     [key], {});\n",
              "          if (!dataTable) return;\n",
              "\n",
              "          const docLinkHtml = 'Like what you see? Visit the ' +\n",
              "            '<a target=\"_blank\" href=https://colab.research.google.com/notebooks/data_table.ipynb>data table notebook</a>'\n",
              "            + ' to learn more about interactive tables.';\n",
              "          element.innerHTML = '';\n",
              "          dataTable['output_type'] = 'display_data';\n",
              "          await google.colab.output.renderOutput(dataTable, element);\n",
              "          const docLink = document.createElement('div');\n",
              "          docLink.innerHTML = docLinkHtml;\n",
              "          element.appendChild(docLink);\n",
              "        }\n",
              "      </script>\n",
              "    </div>\n",
              "  </div>\n",
              "  "
            ]
          },
          "metadata": {},
          "execution_count": 309
        }
      ]
    },
    {
      "cell_type": "code",
      "source": [
        "train_data = data_new[data_new['Year70To81']==1]\n",
        "test_data = data_new[data_new['Year70To81']==0]"
      ],
      "metadata": {
        "id": "YXX-qkKGAYHz"
      },
      "execution_count": 310,
      "outputs": []
    },
    {
      "cell_type": "code",
      "source": [
        "del data_new"
      ],
      "metadata": {
        "id": "OHEsXGXdANCz"
      },
      "execution_count": 311,
      "outputs": []
    },
    {
      "cell_type": "code",
      "source": [
        "train_data.drop(['Year70To81'],axis = 1,inplace = True)\n",
        "test_data.drop(['Year70To81'],axis = 1, inplace = True)"
      ],
      "metadata": {
        "colab": {
          "base_uri": "https://localhost:8080/"
        },
        "id": "OVPJBhxqL44g",
        "outputId": "2624525c-58e8-435c-ca9a-3342bda77207"
      },
      "execution_count": 312,
      "outputs": [
        {
          "output_type": "stream",
          "name": "stderr",
          "text": [
            "/usr/local/lib/python3.7/dist-packages/pandas/core/frame.py:4913: SettingWithCopyWarning: \n",
            "A value is trying to be set on a copy of a slice from a DataFrame\n",
            "\n",
            "See the caveats in the documentation: https://pandas.pydata.org/pandas-docs/stable/user_guide/indexing.html#returning-a-view-versus-a-copy\n",
            "  errors=errors,\n"
          ]
        }
      ]
    },
    {
      "cell_type": "code",
      "source": [
        ""
      ],
      "metadata": {
        "id": "8dRVbR2K2m0y"
      },
      "execution_count": 312,
      "outputs": []
    },
    {
      "cell_type": "markdown",
      "source": [
        "# Define OLS and Linear Regression"
      ],
      "metadata": {
        "id": "NRC8_Ouv1bpX"
      }
    },
    {
      "cell_type": "code",
      "source": [
        "def ordinary_least_square(X,y):\n",
        "  X_with_constant = sm.add_constant(X)\n",
        "  lm = sm.OLS(y, X_with_constant).fit()\n",
        "  print(lm.summary())"
      ],
      "metadata": {
        "id": "v8LnuUnczzkF"
      },
      "execution_count": 313,
      "outputs": []
    },
    {
      "cell_type": "code",
      "source": [
        "def linear_regression_model(X_train,y_train,X_test,y_test):\n",
        "  LR = LinearRegression()\n",
        "  LR.fit(X_train,y_train)\n",
        "  predictions = LR.predict(X_test)\n",
        "\n",
        "  #metrics for checking the model\n",
        "  print(\"The mean absolute error is {}\".format(metrics.mean_absolute_error(y_test,predictions)))\n",
        "  print(\"The mean squared error is {}\".format(metrics.mean_squared_error(y_test,predictions)))\n",
        "  mean_squared = metrics.mean_squared_error(y_test,predictions)\n",
        "  print(\"The root mean squared error is {}\".format(np.sqrt(mean_squared)))"
      ],
      "metadata": {
        "id": "Un86s7u2NUfO"
      },
      "execution_count": 344,
      "outputs": []
    },
    {
      "cell_type": "markdown",
      "source": [
        "## Testing OLS model 1"
      ],
      "metadata": {
        "id": "s_UyNtsF081w"
      }
    },
    {
      "cell_type": "code",
      "source": [
        "X_train_M1 = train_data.drop(['MPG'],axis = 1)\n",
        "y_train_M1 = train_data['MPG']\n",
        "\n",
        "X_test_M1 = test_data.drop(['MPG'],axis = 1)\n",
        "y_test_M1 = test_data['MPG']"
      ],
      "metadata": {
        "id": "KOUcEbmq2m4R"
      },
      "execution_count": 314,
      "outputs": []
    },
    {
      "cell_type": "code",
      "source": [
        "X_train_M1.columns"
      ],
      "metadata": {
        "colab": {
          "base_uri": "https://localhost:8080/"
        },
        "id": "8-2UobIpL1A4",
        "outputId": "49e91e81-d71a-4cec-8284-fcb6558cc611"
      },
      "execution_count": 315,
      "outputs": [
        {
          "output_type": "execute_result",
          "data": {
            "text/plain": [
              "Index(['Displacement100ci', 'Horsepower100', 'Weight1000lb', 'Seconds0to60',\n",
              "       'Cylinders_4', 'Cylinders_5', 'Cylinders_6', 'Cylinders_8',\n",
              "       'origin_name_Japan', 'origin_name_US'],\n",
              "      dtype='object')"
            ]
          },
          "metadata": {},
          "execution_count": 315
        }
      ]
    },
    {
      "cell_type": "code",
      "source": [
        "print(X_train_M1.shape)\n",
        "print(X_test_M1.shape)\n",
        "print(y_train_M1.shape)\n",
        "print(y_test_M1.shape)"
      ],
      "metadata": {
        "colab": {
          "base_uri": "https://localhost:8080/"
        },
        "id": "ZSW76-wnKG7i",
        "outputId": "13707d08-aef9-44c3-9d8a-575459f4a9ee"
      },
      "execution_count": 316,
      "outputs": [
        {
          "output_type": "stream",
          "name": "stdout",
          "text": [
            "(362, 10)\n",
            "(30, 10)\n",
            "(362,)\n",
            "(30,)\n"
          ]
        }
      ]
    },
    {
      "cell_type": "code",
      "source": [
        "ordinary_least_square(X_train_M1,y_train_M1)"
      ],
      "metadata": {
        "colab": {
          "base_uri": "https://localhost:8080/"
        },
        "id": "MQc4sOO00X6T",
        "outputId": "cbe501c5-68e4-4a76-af91-79f3bcc69718"
      },
      "execution_count": 317,
      "outputs": [
        {
          "output_type": "stream",
          "name": "stdout",
          "text": [
            "                            OLS Regression Results                            \n",
            "==============================================================================\n",
            "Dep. Variable:                    MPG   R-squared:                       0.766\n",
            "Model:                            OLS   Adj. R-squared:                  0.759\n",
            "Method:                 Least Squares   F-statistic:                     114.9\n",
            "Date:                Sun, 10 Jul 2022   Prob (F-statistic):          2.86e-104\n",
            "Time:                        11:47:37   Log-Likelihood:                -982.67\n",
            "No. Observations:                 362   AIC:                             1987.\n",
            "Df Residuals:                     351   BIC:                             2030.\n",
            "Df Model:                          10                                         \n",
            "Covariance Type:            nonrobust                                         \n",
            "=====================================================================================\n",
            "                        coef    std err          t      P>|t|      [0.025      0.975]\n",
            "-------------------------------------------------------------------------------------\n",
            "const                25.4682      2.281     11.167      0.000      20.983      29.954\n",
            "Displacement100ci     0.4682      3.425      0.137      0.891      -6.269       7.205\n",
            "Horsepower100       -13.8463      2.939     -4.712      0.000     -19.626      -8.066\n",
            "Weight1000lb        -12.1418      2.685     -4.522      0.000     -17.422      -6.861\n",
            "Seconds0to60         -2.3356      1.978     -1.181      0.239      -6.227       1.556\n",
            "Cylinders_4           8.5094      1.987      4.284      0.000       4.602      12.416\n",
            "Cylinders_5          11.1482      3.010      3.704      0.000       5.229      17.068\n",
            "Cylinders_6           5.0929      2.197      2.319      0.021       0.773       9.413\n",
            "Cylinders_8           7.4177      2.545      2.914      0.004       2.412      12.424\n",
            "origin_name_Japan     2.5174      0.665      3.783      0.000       1.209       3.826\n",
            "origin_name_US       -0.5060      0.693     -0.730      0.466      -1.868       0.856\n",
            "==============================================================================\n",
            "Omnibus:                       61.295   Durbin-Watson:                   0.909\n",
            "Prob(Omnibus):                  0.000   Jarque-Bera (JB):              115.962\n",
            "Skew:                           0.930   Prob(JB):                     6.59e-26\n",
            "Kurtosis:                       5.056   Cond. No.                         40.9\n",
            "==============================================================================\n",
            "\n",
            "Warnings:\n",
            "[1] Standard Errors assume that the covariance matrix of the errors is correctly specified.\n"
          ]
        },
        {
          "output_type": "stream",
          "name": "stderr",
          "text": [
            "/usr/local/lib/python3.7/dist-packages/statsmodels/tsa/tsatools.py:117: FutureWarning: In a future version of pandas all arguments of concat except for the argument 'objs' will be keyword-only\n",
            "  x = pd.concat(x[::order], 1)\n"
          ]
        }
      ]
    },
    {
      "cell_type": "code",
      "source": [
        "linear_regression_model(X_train_M1,y_train_M1,X_test_M1,y_test_M1)"
      ],
      "metadata": {
        "colab": {
          "base_uri": "https://localhost:8080/"
        },
        "id": "2OXB5EwICx0c",
        "outputId": "9b35bbba-b9a3-4803-d001-4d238cbcdd66"
      },
      "execution_count": 346,
      "outputs": [
        {
          "output_type": "stream",
          "name": "stdout",
          "text": [
            "The mean absolute error is 4.707641178136975\n",
            "The mean squared error is 36.11318646889201\n",
            "The root mean squared error is 6.009424803497587\n"
          ]
        }
      ]
    },
    {
      "cell_type": "markdown",
      "source": [
        "## Testing OLS model 2"
      ],
      "metadata": {
        "id": "tsOMneLl1yPb"
      }
    },
    {
      "cell_type": "code",
      "source": [
        "X_train_M2 = train_data.drop(['MPG'],axis = 1)\n",
        "y_train_M2 = train_data['MPG']\n",
        "\n",
        "X_test_M2 = test_data.drop(['MPG'],axis = 1)\n",
        "y_test_M2 = test_data['MPG']"
      ],
      "metadata": {
        "id": "ArLnBUfJzSpD"
      },
      "execution_count": 318,
      "outputs": []
    },
    {
      "cell_type": "code",
      "source": [
        "X_train_M2.drop(['Displacement100ci','Seconds0to60'],axis = 1, inplace = True)\n",
        "X_test_M2.drop(['Displacement100ci','Seconds0to60'],axis = 1, inplace = True)"
      ],
      "metadata": {
        "id": "WFih-cYHzSfx"
      },
      "execution_count": 319,
      "outputs": []
    },
    {
      "cell_type": "code",
      "source": [
        "ordinary_least_square(X_train_M2,y_train_M2)"
      ],
      "metadata": {
        "colab": {
          "base_uri": "https://localhost:8080/"
        },
        "id": "0NZODW0mzSZF",
        "outputId": "af52f633-da4a-4e47-a8ec-7559e24d1cab"
      },
      "execution_count": 320,
      "outputs": [
        {
          "output_type": "stream",
          "name": "stdout",
          "text": [
            "                            OLS Regression Results                            \n",
            "==============================================================================\n",
            "Dep. Variable:                    MPG   R-squared:                       0.765\n",
            "Model:                            OLS   Adj. R-squared:                  0.760\n",
            "Method:                 Least Squares   F-statistic:                     143.7\n",
            "Date:                Sun, 10 Jul 2022   Prob (F-statistic):          4.07e-106\n",
            "Time:                        11:47:47   Log-Likelihood:                -983.42\n",
            "No. Observations:                 362   AIC:                             1985.\n",
            "Df Residuals:                     353   BIC:                             2020.\n",
            "Df Model:                           8                                         \n",
            "Covariance Type:            nonrobust                                         \n",
            "=====================================================================================\n",
            "                        coef    std err          t      P>|t|      [0.025      0.975]\n",
            "-------------------------------------------------------------------------------------\n",
            "const                24.3844      2.065     11.807      0.000      20.323      28.446\n",
            "Horsepower100       -11.5128      2.080     -5.534      0.000     -15.604      -7.422\n",
            "Weight1000lb        -13.4267      2.139     -6.277      0.000     -17.634      -9.220\n",
            "Cylinders_4           8.2817      1.923      4.308      0.000       4.501      12.063\n",
            "Cylinders_5          10.9291      2.939      3.718      0.000       5.148      16.710\n",
            "Cylinders_6           5.0408      2.014      2.503      0.013       1.081       9.001\n",
            "Cylinders_8           7.5776      2.157      3.514      0.000       3.336      11.819\n",
            "origin_name_Japan     2.4877      0.664      3.746      0.000       1.182       3.794\n",
            "origin_name_US       -0.4487      0.648     -0.692      0.489      -1.724       0.826\n",
            "==============================================================================\n",
            "Omnibus:                       56.566   Durbin-Watson:                   0.906\n",
            "Prob(Omnibus):                  0.000   Jarque-Bera (JB):              103.079\n",
            "Skew:                           0.880   Prob(JB):                     4.14e-23\n",
            "Kurtosis:                       4.932   Cond. No.                         33.4\n",
            "==============================================================================\n",
            "\n",
            "Warnings:\n",
            "[1] Standard Errors assume that the covariance matrix of the errors is correctly specified.\n"
          ]
        },
        {
          "output_type": "stream",
          "name": "stderr",
          "text": [
            "/usr/local/lib/python3.7/dist-packages/statsmodels/tsa/tsatools.py:117: FutureWarning: In a future version of pandas all arguments of concat except for the argument 'objs' will be keyword-only\n",
            "  x = pd.concat(x[::order], 1)\n"
          ]
        }
      ]
    },
    {
      "cell_type": "code",
      "source": [
        "linear_regression_model(X_train_M2,y_train_M2,X_test_M2,y_test_M2)"
      ],
      "metadata": {
        "colab": {
          "base_uri": "https://localhost:8080/"
        },
        "id": "eN9DfpzSzSWO",
        "outputId": "28450e53-c859-41bd-d4c4-e276efea8150"
      },
      "execution_count": 345,
      "outputs": [
        {
          "output_type": "stream",
          "name": "stdout",
          "text": [
            "The mean absolute error is 4.707139692610785\n",
            "The mean squared error is 35.8734509804759\n",
            "The root mean squared error is 5.98944496430812\n"
          ]
        }
      ]
    },
    {
      "cell_type": "markdown",
      "source": [
        "## Selection of model"
      ],
      "metadata": {
        "id": "lCDa939B9JVH"
      }
    },
    {
      "cell_type": "markdown",
      "source": [
        "Since after removing the two features during the 2nd model we didnot a very different score from the one in 1st model, so we will be using the 1st model for predicting."
      ],
      "metadata": {
        "id": "xIdZeWFX9OMJ"
      }
    }
  ]
}